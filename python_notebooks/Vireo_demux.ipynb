{
 "cells": [
  {
   "cell_type": "code",
   "execution_count": 1,
   "id": "59c3726a",
   "metadata": {},
   "outputs": [],
   "source": [
    "import scanpy as sc, numpy as np, pandas as pd\n",
    "import os, re, glob2, anndata as ad\n",
    "import seaborn as sns"
   ]
  },
  {
   "cell_type": "code",
   "execution_count": 2,
   "id": "c1193171",
   "metadata": {},
   "outputs": [],
   "source": [
    "from collections import Counter"
   ]
  },
  {
   "cell_type": "code",
   "execution_count": 3,
   "id": "5d557c8e",
   "metadata": {},
   "outputs": [],
   "source": [
    "from matplotlib import pyplot as plt\n",
    "from upsetplot import plot, from_contents"
   ]
  },
  {
   "cell_type": "code",
   "execution_count": 4,
   "id": "952e5706",
   "metadata": {},
   "outputs": [],
   "source": [
    "def ret_intersections(SID_cs, SID_ms, SID_hd, SID_vireo):\n",
    "    concur = []\n",
    "    for i in range(SID_cs.shape[0]):\n",
    "        if not(SID_vireo[i].startswith('donor')) and SID_vireo[i] != \"Not in Vireo\":\n",
    "            if SID_cs[i] == SID_ms[i] and SID_cs[i] == SID_hd[i] and SID_cs[i] == SID_vireo[i]:\n",
    "                concur.append(\"All\")\n",
    "            elif SID_cs[i] == SID_ms[i] and SID_cs[i] != SID_hd[i] and SID_cs[i] != SID_vireo[i]:\n",
    "                concur.append(\"CS_MS\")\n",
    "            elif SID_cs[i] == SID_hd[i] and SID_cs[i] != SID_ms[i] and SID_cs[i] != SID_vireo[i]:\n",
    "                concur.append(\"CS_HD\")\n",
    "            elif SID_cs[i] == SID_vireo[i] and SID_cs[i] != SID_hd[i] and SID_cs[i] != SID_ms[i]:\n",
    "                concur.append(\"CS_vireo\")\n",
    "            elif SID_ms[i] == SID_hd[i] and SID_ms[i] != SID_cs[i] and SID_ms[i] != SID_vireo[i]:\n",
    "                concur.append(\"MS_HD\")\n",
    "            elif SID_ms[i] == SID_vireo[i] and SID_ms[i] != SID_hd[i] and SID_ms[i] != SID_cs[i]:\n",
    "                concur.append(\"MS_vireo\")\n",
    "            elif SID_hd[i] == SID_vireo[i] and SID_hd[i] != SID_cs[i] and SID_hd[i] != SID_cs[i]:\n",
    "                concur.append(\"HD_vireo\")\n",
    "            elif SID_cs[i] == SID_ms[i] and SID_cs[i] == SID_hd[i] and SID_cs[i] != SID_vireo[i]:\n",
    "                concur.append(\"CS_MS_HD\")\n",
    "            elif SID_cs[i] == SID_vireo[i] and SID_cs[i] == SID_hd[i] and SID_cs[i] != SID_ms[i]:\n",
    "                concur.append(\"CS_HD_vireo\")\n",
    "            elif SID_cs[i] == SID_ms[i] and SID_cs[i] == SID_vireo[i] and SID_cs[i] != SID_hd[i]:\n",
    "                concur.append(\"CS_MS_vireo\")\n",
    "            elif SID_ms[i] == SID_hd[i] and SID_ms[i] == SID_vireo[i] and SID_ms[i] != SID_cs[i]:\n",
    "                concur.append(\"MS_HD_vireo\")\n",
    "            else:\n",
    "                concur.append(\"No_concurrence\")\n",
    "        elif SID_vireo[i].startswith('donor'):\n",
    "            if SID_cs[i] == SID_ms[i] and SID_cs[i] == SID_hd[i]:\n",
    "                concur.append(\"No_gt_All\")\n",
    "            elif SID_cs[i] == SID_ms[i] and SID_cs[i] != SID_hd[i]:\n",
    "                concur.append(\"No_gt_CS_MS\")\n",
    "            elif SID_cs[i] == SID_hd[i] and SID_cs[i] != SID_ms[i]:\n",
    "                concur.append(\"No_gt_CS_HD\")\n",
    "            elif SID_ms[i] == SID_hd[i] and SID_ms[i] == SID_cs[i]:\n",
    "                concur.append(\"No_gt_MS_HD\")\n",
    "            else:\n",
    "                concur.append(\"No_gt_No_concurrence\")\n",
    "        else: # Case: Not in vireo\n",
    "            if SID_cs[i] == SID_ms[i] and SID_cs[i] == SID_hd[i]:\n",
    "                concur.append(\"No_vireo_All\")\n",
    "            elif SID_cs[i] == SID_ms[i]:\n",
    "                concur.append(\"No_vireo_CS_MS\")\n",
    "            elif SID_cs[i] == SID_hd[i]:\n",
    "                concur.append(\"No_vireo_CS_HD\")\n",
    "            elif SID_ms[i] == SID_hd[i]:\n",
    "                concur.append(\"No_vireo_MS_HD\")\n",
    "            else:\n",
    "                concur.append(\"No_vireo_No_concurrence\")\n",
    "    \n",
    "    return concur\n",
    "        "
   ]
  },
  {
   "cell_type": "code",
   "execution_count": 5,
   "id": "b71821c3",
   "metadata": {},
   "outputs": [],
   "source": [
    "samp_l = [\"round2_Sample-NPSAD-20201112-A1-cDNA\", \"round2_Sample-NPSAD-20201113-C1-cDNA\", \"round2_Sample-NPSAD-20201112-A2-cDNA\", \"round2_Sample-NPSAD-20201113-C2-cDNA\", \"round4_Sample-NPSAD-20210217-C1-cDNA\", \"round4_Sample-NPSAD-20210217-C2-cDNA\", \"round3_Sample-NPSAD-20201215-C1-cDNA\", \"round3_Sample-NPSAD-20201215-C2-cDNA\", \"round1_Sample-NPSAD-20201030-C1-cDNA\", \"round1_Sample-NPSAD-20201030-C2-cDNA\"]"
   ]
  },
  {
   "cell_type": "code",
   "execution_count": 6,
   "id": "9055f81f",
   "metadata": {},
   "outputs": [],
   "source": [
    "path_samp = [\"/sc/arion/projects/psychAD/final_count_matrix/combo/\" + s for s in samp_l] "
   ]
  },
  {
   "cell_type": "code",
   "execution_count": 7,
   "id": "c5227215",
   "metadata": {},
   "outputs": [],
   "source": [
    "vireo_info = {s.split('_')[1].replace('Sample-', ''):pd.read_csv(\"/sc/arion/projects/psychAD/demux_gt/vireoSNP/\" + s.split('_')[0] \n",
    "                          + '/' +s.split('_')[1].replace('Sample-', 'Sample_') + '/donor_ids.tsv', sep='\\t') for s in samp_l}"
   ]
  },
  {
   "cell_type": "code",
   "execution_count": 8,
   "id": "97e2189c",
   "metadata": {},
   "outputs": [
    {
     "data": {
      "text/plain": [
       "dict_keys(['NPSAD-20201112-A1-cDNA', 'NPSAD-20201113-C1-cDNA', 'NPSAD-20201112-A2-cDNA', 'NPSAD-20201113-C2-cDNA', 'NPSAD-20210217-C1-cDNA', 'NPSAD-20210217-C2-cDNA', 'NPSAD-20201215-C1-cDNA', 'NPSAD-20201215-C2-cDNA', 'NPSAD-20201030-C1-cDNA', 'NPSAD-20201030-C2-cDNA'])"
      ]
     },
     "execution_count": 8,
     "metadata": {},
     "output_type": "execute_result"
    }
   ],
   "source": [
    "vireo_info.keys()"
   ]
  },
  {
   "cell_type": "code",
   "execution_count": 9,
   "id": "13c07d70",
   "metadata": {},
   "outputs": [
    {
     "data": {
      "text/html": [
       "<div>\n",
       "<style scoped>\n",
       "    .dataframe tbody tr th:only-of-type {\n",
       "        vertical-align: middle;\n",
       "    }\n",
       "\n",
       "    .dataframe tbody tr th {\n",
       "        vertical-align: top;\n",
       "    }\n",
       "\n",
       "    .dataframe thead th {\n",
       "        text-align: right;\n",
       "    }\n",
       "</style>\n",
       "<table border=\"1\" class=\"dataframe\">\n",
       "  <thead>\n",
       "    <tr style=\"text-align: right;\">\n",
       "      <th></th>\n",
       "      <th>cell</th>\n",
       "      <th>donor_id</th>\n",
       "      <th>prob_max</th>\n",
       "      <th>prob_doublet</th>\n",
       "      <th>n_vars</th>\n",
       "      <th>best_singlet</th>\n",
       "      <th>best_doublet</th>\n",
       "      <th>doublet_logLikRatio</th>\n",
       "    </tr>\n",
       "  </thead>\n",
       "  <tbody>\n",
       "    <tr>\n",
       "      <th>0</th>\n",
       "      <td>AAACCCAAGACCATAA</td>\n",
       "      <td>MSSM_202</td>\n",
       "      <td>1.000000e+00</td>\n",
       "      <td>1.240000e-08</td>\n",
       "      <td>191</td>\n",
       "      <td>MSSM_202</td>\n",
       "      <td>MSSM_18,MSSM_202</td>\n",
       "      <td>-15.847</td>\n",
       "    </tr>\n",
       "    <tr>\n",
       "      <th>1</th>\n",
       "      <td>AAACCCAAGACTACCT</td>\n",
       "      <td>unassigned</td>\n",
       "      <td>8.920000e-01</td>\n",
       "      <td>2.930000e-02</td>\n",
       "      <td>17</td>\n",
       "      <td>donor5</td>\n",
       "      <td>MSSM_91,donor4</td>\n",
       "      <td>-1.060</td>\n",
       "    </tr>\n",
       "    <tr>\n",
       "      <th>2</th>\n",
       "      <td>AAACCCAAGCACCGAA</td>\n",
       "      <td>doublet</td>\n",
       "      <td>3.440000e-09</td>\n",
       "      <td>1.000000e+00</td>\n",
       "      <td>218</td>\n",
       "      <td>MSSM_18</td>\n",
       "      <td>MSSM_18,donor4</td>\n",
       "      <td>21.845</td>\n",
       "    </tr>\n",
       "  </tbody>\n",
       "</table>\n",
       "</div>"
      ],
      "text/plain": [
       "               cell    donor_id      prob_max  prob_doublet  n_vars  \\\n",
       "0  AAACCCAAGACCATAA    MSSM_202  1.000000e+00  1.240000e-08     191   \n",
       "1  AAACCCAAGACTACCT  unassigned  8.920000e-01  2.930000e-02      17   \n",
       "2  AAACCCAAGCACCGAA     doublet  3.440000e-09  1.000000e+00     218   \n",
       "\n",
       "  best_singlet      best_doublet  doublet_logLikRatio  \n",
       "0     MSSM_202  MSSM_18,MSSM_202              -15.847  \n",
       "1       donor5    MSSM_91,donor4               -1.060  \n",
       "2      MSSM_18    MSSM_18,donor4               21.845  "
      ]
     },
     "execution_count": 9,
     "metadata": {},
     "output_type": "execute_result"
    }
   ],
   "source": [
    "vireo_info['NPSAD-20201112-A1-cDNA'].head(3)"
   ]
  },
  {
   "cell_type": "code",
   "execution_count": 10,
   "id": "496004d5",
   "metadata": {},
   "outputs": [
    {
     "data": {
      "text/plain": [
       "Counter({'MSSM_202': 4919,\n",
       "         'unassigned': 2709,\n",
       "         'doublet': 945,\n",
       "         'donor4': 3313,\n",
       "         'MSSM_18': 2434,\n",
       "         'donor3': 3480,\n",
       "         'MSSM_91': 947,\n",
       "         'donor5': 389})"
      ]
     },
     "execution_count": 10,
     "metadata": {},
     "output_type": "execute_result"
    }
   ],
   "source": [
    "Counter(vireo_info['NPSAD-20201112-A1-cDNA']['donor_id'])"
   ]
  },
  {
   "cell_type": "code",
   "execution_count": 19,
   "id": "18a6153d",
   "metadata": {},
   "outputs": [],
   "source": [
    "vireo_info_cr = {s.split('_')[1].replace('Sample-', ''):pd.read_csv(\"/sc/arion/projects/psychAD/demux_gt/vireoSNP/\" + s.split('_')[0] \n",
    "                          + '/' +s.split('_')[1].replace('Sample-', 'Sample_') + '_cr/donor_ids.tsv', sep='\\t') for s in samp_l}"
   ]
  },
  {
   "cell_type": "code",
   "execution_count": 20,
   "id": "2357280b",
   "metadata": {},
   "outputs": [
    {
     "data": {
      "text/plain": [
       "dict_keys(['NPSAD-20201112-A1-cDNA', 'NPSAD-20201113-C1-cDNA', 'NPSAD-20201112-A2-cDNA', 'NPSAD-20201113-C2-cDNA', 'NPSAD-20210217-C1-cDNA', 'NPSAD-20210217-C2-cDNA', 'NPSAD-20201215-C1-cDNA', 'NPSAD-20201215-C2-cDNA', 'NPSAD-20201030-C1-cDNA', 'NPSAD-20201030-C2-cDNA'])"
      ]
     },
     "execution_count": 20,
     "metadata": {},
     "output_type": "execute_result"
    }
   ],
   "source": [
    "vireo_info_cr.keys()"
   ]
  },
  {
   "cell_type": "code",
   "execution_count": 21,
   "id": "bcfe9a66",
   "metadata": {},
   "outputs": [
    {
     "data": {
      "text/html": [
       "<div>\n",
       "<style scoped>\n",
       "    .dataframe tbody tr th:only-of-type {\n",
       "        vertical-align: middle;\n",
       "    }\n",
       "\n",
       "    .dataframe tbody tr th {\n",
       "        vertical-align: top;\n",
       "    }\n",
       "\n",
       "    .dataframe thead th {\n",
       "        text-align: right;\n",
       "    }\n",
       "</style>\n",
       "<table border=\"1\" class=\"dataframe\">\n",
       "  <thead>\n",
       "    <tr style=\"text-align: right;\">\n",
       "      <th></th>\n",
       "      <th>cell</th>\n",
       "      <th>donor_id</th>\n",
       "      <th>prob_max</th>\n",
       "      <th>prob_doublet</th>\n",
       "      <th>n_vars</th>\n",
       "      <th>best_singlet</th>\n",
       "      <th>best_doublet</th>\n",
       "      <th>doublet_logLikRatio</th>\n",
       "    </tr>\n",
       "  </thead>\n",
       "  <tbody>\n",
       "    <tr>\n",
       "      <th>0</th>\n",
       "      <td>AAACCCAAGACCATAA-1</td>\n",
       "      <td>MSSM_202</td>\n",
       "      <td>1.000000</td>\n",
       "      <td>1.240000e-09</td>\n",
       "      <td>196</td>\n",
       "      <td>MSSM_202</td>\n",
       "      <td>MSSM_91,MSSM_18</td>\n",
       "      <td>-18.172</td>\n",
       "    </tr>\n",
       "    <tr>\n",
       "      <th>1</th>\n",
       "      <td>AAACCCAAGACTACCT-1</td>\n",
       "      <td>unassigned</td>\n",
       "      <td>0.109000</td>\n",
       "      <td>2.250000e-01</td>\n",
       "      <td>20</td>\n",
       "      <td>MSSM_91</td>\n",
       "      <td>MSSM_91,donor4</td>\n",
       "      <td>3.064</td>\n",
       "    </tr>\n",
       "    <tr>\n",
       "      <th>2</th>\n",
       "      <td>AAACCCAAGCACCGAA-1</td>\n",
       "      <td>doublet</td>\n",
       "      <td>0.000225</td>\n",
       "      <td>1.000000e+00</td>\n",
       "      <td>227</td>\n",
       "      <td>donor3</td>\n",
       "      <td>MSSM_18,donor3</td>\n",
       "      <td>10.740</td>\n",
       "    </tr>\n",
       "  </tbody>\n",
       "</table>\n",
       "</div>"
      ],
      "text/plain": [
       "                 cell    donor_id  prob_max  prob_doublet  n_vars  \\\n",
       "0  AAACCCAAGACCATAA-1    MSSM_202  1.000000  1.240000e-09     196   \n",
       "1  AAACCCAAGACTACCT-1  unassigned  0.109000  2.250000e-01      20   \n",
       "2  AAACCCAAGCACCGAA-1     doublet  0.000225  1.000000e+00     227   \n",
       "\n",
       "  best_singlet     best_doublet  doublet_logLikRatio  \n",
       "0     MSSM_202  MSSM_91,MSSM_18              -18.172  \n",
       "1      MSSM_91   MSSM_91,donor4                3.064  \n",
       "2       donor3   MSSM_18,donor3               10.740  "
      ]
     },
     "execution_count": 21,
     "metadata": {},
     "output_type": "execute_result"
    }
   ],
   "source": [
    "vireo_info_cr['NPSAD-20201112-A1-cDNA'].head(3)"
   ]
  },
  {
   "cell_type": "code",
   "execution_count": 22,
   "id": "17dd1873",
   "metadata": {},
   "outputs": [
    {
     "data": {
      "text/plain": [
       "Counter({'MSSM_202': 4942,\n",
       "         'unassigned': 3074,\n",
       "         'doublet': 995,\n",
       "         'MSSM_18': 2780,\n",
       "         'donor3': 2716,\n",
       "         'donor5': 3465,\n",
       "         'donor4': 461,\n",
       "         'MSSM_91': 975})"
      ]
     },
     "execution_count": 22,
     "metadata": {},
     "output_type": "execute_result"
    }
   ],
   "source": [
    "Counter(vireo_info_cr['NPSAD-20201112-A1-cDNA']['donor_id'])"
   ]
  },
  {
   "cell_type": "code",
   "execution_count": 14,
   "id": "23145a1d",
   "metadata": {},
   "outputs": [],
   "source": [
    "hash_t = pd.read_csv('/sc/arion/projects/psychAD/pnm/Hash_map_gtID_SubID.csv')"
   ]
  },
  {
   "cell_type": "code",
   "execution_count": 15,
   "id": "2a47f498",
   "metadata": {},
   "outputs": [
    {
     "data": {
      "text/html": [
       "<div>\n",
       "<style scoped>\n",
       "    .dataframe tbody tr th:only-of-type {\n",
       "        vertical-align: middle;\n",
       "    }\n",
       "\n",
       "    .dataframe tbody tr th {\n",
       "        vertical-align: top;\n",
       "    }\n",
       "\n",
       "    .dataframe thead th {\n",
       "        text-align: right;\n",
       "    }\n",
       "</style>\n",
       "<table border=\"1\" class=\"dataframe\">\n",
       "  <thead>\n",
       "    <tr style=\"text-align: right;\">\n",
       "      <th></th>\n",
       "      <th>SubNum</th>\n",
       "      <th>SNP_report:Genotyping_Sample_ID</th>\n",
       "      <th>Samp_ID</th>\n",
       "    </tr>\n",
       "  </thead>\n",
       "  <tbody>\n",
       "    <tr>\n",
       "      <th>0</th>\n",
       "      <td>M7718</td>\n",
       "      <td>MSSM_59</td>\n",
       "      <td>NPSAD-20210303-A</td>\n",
       "    </tr>\n",
       "    <tr>\n",
       "      <th>1</th>\n",
       "      <td>M79990</td>\n",
       "      <td>MSSM_54</td>\n",
       "      <td>NPSAD-20201221-A</td>\n",
       "    </tr>\n",
       "    <tr>\n",
       "      <th>2</th>\n",
       "      <td>M80700</td>\n",
       "      <td>MSSM_167</td>\n",
       "      <td>NaN</td>\n",
       "    </tr>\n",
       "  </tbody>\n",
       "</table>\n",
       "</div>"
      ],
      "text/plain": [
       "   SubNum SNP_report:Genotyping_Sample_ID           Samp_ID\n",
       "0   M7718                         MSSM_59  NPSAD-20210303-A\n",
       "1  M79990                         MSSM_54  NPSAD-20201221-A\n",
       "2  M80700                        MSSM_167               NaN"
      ]
     },
     "execution_count": 15,
     "metadata": {},
     "output_type": "execute_result"
    }
   ],
   "source": [
    "hash_t.head(3)"
   ]
  },
  {
   "cell_type": "code",
   "execution_count": 16,
   "id": "956cae07",
   "metadata": {},
   "outputs": [],
   "source": [
    "def ret_samp_names(y, v_f, h_t):\n",
    "    #print(len(y), len(bc))\n",
    "    if y[:16] in v_f['cell'].values:\n",
    "        val = v_f.loc[v_f['cell'] == y[:16], 'donor_id'].values[0]\n",
    "        if val.startswith('MSSM'):\n",
    "            return h_t.loc[h_t['SNP_report:Genotyping_Sample_ID'] == val, 'SubNum'].values[0]\n",
    "        \n",
    "        elif val == 'doublet':\n",
    "            return 'Doublet'\n",
    "        \n",
    "        elif val == 'unassigned':\n",
    "            return 'Negative'\n",
    "        \n",
    "        else: # For donors without gt info\n",
    "            return val\n",
    "\n",
    "    else:\n",
    "        return \"Not in Vireo\"\n"
   ]
  },
  {
   "cell_type": "code",
   "execution_count": 17,
   "id": "96674c01",
   "metadata": {},
   "outputs": [],
   "source": [
    "def anndata_out(file_pref, suff):\n",
    "    ann_d = ad.read(file_pref+suff)\n",
    "    samp_n = os.path.basename(file_pref).split('_')[1].replace('Sample-', '')\n",
    "    ann_d.obs['SubID_vireo'] = ann_d.obs_names.to_series().apply(ret_samp_names, args=(vireo_info[samp_n], hash_t))\n",
    "    ann_d.obs['batch_1'] = ann_d.obs['batch'].map(lambda x: x[:-6])\n",
    "    return ann_d"
   ]
  },
  {
   "cell_type": "code",
   "execution_count": 18,
   "id": "32becf8d",
   "metadata": {},
   "outputs": [
    {
     "ename": "KeyboardInterrupt",
     "evalue": "",
     "output_type": "error",
     "traceback": [
      "\u001b[0;31m---------------------------------------------------------------------------\u001b[0m",
      "\u001b[0;31mKeyboardInterrupt\u001b[0m                         Traceback (most recent call last)",
      "\u001b[0;32m<ipython-input-18-55434f6dc1a9>\u001b[0m in \u001b[0;36m<module>\u001b[0;34m\u001b[0m\n\u001b[0;32m----> 1\u001b[0;31m \u001b[0madatas1\u001b[0m \u001b[0;34m=\u001b[0m \u001b[0;34m[\u001b[0m\u001b[0manndata_out\u001b[0m\u001b[0;34m(\u001b[0m\u001b[0msample\u001b[0m\u001b[0;34m,\u001b[0m \u001b[0;34m\"_STARsolo_combo_unfilt_out.h5ad\"\u001b[0m\u001b[0;34m)\u001b[0m \u001b[0;32mfor\u001b[0m \u001b[0msample\u001b[0m \u001b[0;32min\u001b[0m \u001b[0mpath_samp\u001b[0m\u001b[0;34m]\u001b[0m\u001b[0;34m\u001b[0m\u001b[0;34m\u001b[0m\u001b[0m\n\u001b[0m",
      "\u001b[0;32m<ipython-input-18-55434f6dc1a9>\u001b[0m in \u001b[0;36m<listcomp>\u001b[0;34m(.0)\u001b[0m\n\u001b[0;32m----> 1\u001b[0;31m \u001b[0madatas1\u001b[0m \u001b[0;34m=\u001b[0m \u001b[0;34m[\u001b[0m\u001b[0manndata_out\u001b[0m\u001b[0;34m(\u001b[0m\u001b[0msample\u001b[0m\u001b[0;34m,\u001b[0m \u001b[0;34m\"_STARsolo_combo_unfilt_out.h5ad\"\u001b[0m\u001b[0;34m)\u001b[0m \u001b[0;32mfor\u001b[0m \u001b[0msample\u001b[0m \u001b[0;32min\u001b[0m \u001b[0mpath_samp\u001b[0m\u001b[0;34m]\u001b[0m\u001b[0;34m\u001b[0m\u001b[0;34m\u001b[0m\u001b[0m\n\u001b[0m",
      "\u001b[0;32m<ipython-input-17-9b5312963879>\u001b[0m in \u001b[0;36manndata_out\u001b[0;34m(file_pref, suff)\u001b[0m\n\u001b[1;32m      2\u001b[0m     \u001b[0mann_d\u001b[0m \u001b[0;34m=\u001b[0m \u001b[0mad\u001b[0m\u001b[0;34m.\u001b[0m\u001b[0mread\u001b[0m\u001b[0;34m(\u001b[0m\u001b[0mfile_pref\u001b[0m\u001b[0;34m+\u001b[0m\u001b[0msuff\u001b[0m\u001b[0;34m)\u001b[0m\u001b[0;34m\u001b[0m\u001b[0;34m\u001b[0m\u001b[0m\n\u001b[1;32m      3\u001b[0m     \u001b[0msamp_n\u001b[0m \u001b[0;34m=\u001b[0m \u001b[0mos\u001b[0m\u001b[0;34m.\u001b[0m\u001b[0mpath\u001b[0m\u001b[0;34m.\u001b[0m\u001b[0mbasename\u001b[0m\u001b[0;34m(\u001b[0m\u001b[0mfile_pref\u001b[0m\u001b[0;34m)\u001b[0m\u001b[0;34m.\u001b[0m\u001b[0msplit\u001b[0m\u001b[0;34m(\u001b[0m\u001b[0;34m'_'\u001b[0m\u001b[0;34m)\u001b[0m\u001b[0;34m[\u001b[0m\u001b[0;36m1\u001b[0m\u001b[0;34m]\u001b[0m\u001b[0;34m.\u001b[0m\u001b[0mreplace\u001b[0m\u001b[0;34m(\u001b[0m\u001b[0;34m'Sample-'\u001b[0m\u001b[0;34m,\u001b[0m \u001b[0;34m''\u001b[0m\u001b[0;34m)\u001b[0m\u001b[0;34m\u001b[0m\u001b[0;34m\u001b[0m\u001b[0m\n\u001b[0;32m----> 4\u001b[0;31m     \u001b[0mann_d\u001b[0m\u001b[0;34m.\u001b[0m\u001b[0mobs\u001b[0m\u001b[0;34m[\u001b[0m\u001b[0;34m'SubID_vireo'\u001b[0m\u001b[0;34m]\u001b[0m \u001b[0;34m=\u001b[0m \u001b[0mann_d\u001b[0m\u001b[0;34m.\u001b[0m\u001b[0mobs_names\u001b[0m\u001b[0;34m.\u001b[0m\u001b[0mto_series\u001b[0m\u001b[0;34m(\u001b[0m\u001b[0;34m)\u001b[0m\u001b[0;34m.\u001b[0m\u001b[0mapply\u001b[0m\u001b[0;34m(\u001b[0m\u001b[0mret_samp_names\u001b[0m\u001b[0;34m,\u001b[0m \u001b[0margs\u001b[0m\u001b[0;34m=\u001b[0m\u001b[0;34m(\u001b[0m\u001b[0mvireo_info\u001b[0m\u001b[0;34m[\u001b[0m\u001b[0msamp_n\u001b[0m\u001b[0;34m]\u001b[0m\u001b[0;34m,\u001b[0m \u001b[0mhash_t\u001b[0m\u001b[0;34m)\u001b[0m\u001b[0;34m)\u001b[0m\u001b[0;34m\u001b[0m\u001b[0;34m\u001b[0m\u001b[0m\n\u001b[0m\u001b[1;32m      5\u001b[0m     \u001b[0mann_d\u001b[0m\u001b[0;34m.\u001b[0m\u001b[0mobs\u001b[0m\u001b[0;34m[\u001b[0m\u001b[0;34m'batch_1'\u001b[0m\u001b[0;34m]\u001b[0m \u001b[0;34m=\u001b[0m \u001b[0mann_d\u001b[0m\u001b[0;34m.\u001b[0m\u001b[0mobs\u001b[0m\u001b[0;34m[\u001b[0m\u001b[0;34m'batch'\u001b[0m\u001b[0;34m]\u001b[0m\u001b[0;34m.\u001b[0m\u001b[0mmap\u001b[0m\u001b[0;34m(\u001b[0m\u001b[0;32mlambda\u001b[0m \u001b[0mx\u001b[0m\u001b[0;34m:\u001b[0m \u001b[0mx\u001b[0m\u001b[0;34m[\u001b[0m\u001b[0;34m:\u001b[0m\u001b[0;34m-\u001b[0m\u001b[0;36m6\u001b[0m\u001b[0;34m]\u001b[0m\u001b[0;34m)\u001b[0m\u001b[0;34m\u001b[0m\u001b[0;34m\u001b[0m\u001b[0m\n\u001b[1;32m      6\u001b[0m     \u001b[0;32mreturn\u001b[0m \u001b[0mann_d\u001b[0m\u001b[0;34m\u001b[0m\u001b[0;34m\u001b[0m\u001b[0m\n",
      "\u001b[0;32m/sc/arion/work/prashf01/conda/envs/snakemake/lib/python3.9/site-packages/pandas/core/series.py\u001b[0m in \u001b[0;36mapply\u001b[0;34m(self, func, convert_dtype, args, **kwds)\u001b[0m\n\u001b[1;32m   4136\u001b[0m             \u001b[0;32melse\u001b[0m\u001b[0;34m:\u001b[0m\u001b[0;34m\u001b[0m\u001b[0;34m\u001b[0m\u001b[0m\n\u001b[1;32m   4137\u001b[0m                 \u001b[0mvalues\u001b[0m \u001b[0;34m=\u001b[0m \u001b[0mself\u001b[0m\u001b[0;34m.\u001b[0m\u001b[0mastype\u001b[0m\u001b[0;34m(\u001b[0m\u001b[0mobject\u001b[0m\u001b[0;34m)\u001b[0m\u001b[0;34m.\u001b[0m\u001b[0m_values\u001b[0m\u001b[0;34m\u001b[0m\u001b[0;34m\u001b[0m\u001b[0m\n\u001b[0;32m-> 4138\u001b[0;31m                 \u001b[0mmapped\u001b[0m \u001b[0;34m=\u001b[0m \u001b[0mlib\u001b[0m\u001b[0;34m.\u001b[0m\u001b[0mmap_infer\u001b[0m\u001b[0;34m(\u001b[0m\u001b[0mvalues\u001b[0m\u001b[0;34m,\u001b[0m \u001b[0mf\u001b[0m\u001b[0;34m,\u001b[0m \u001b[0mconvert\u001b[0m\u001b[0;34m=\u001b[0m\u001b[0mconvert_dtype\u001b[0m\u001b[0;34m)\u001b[0m\u001b[0;34m\u001b[0m\u001b[0;34m\u001b[0m\u001b[0m\n\u001b[0m\u001b[1;32m   4139\u001b[0m \u001b[0;34m\u001b[0m\u001b[0m\n\u001b[1;32m   4140\u001b[0m         \u001b[0;32mif\u001b[0m \u001b[0mlen\u001b[0m\u001b[0;34m(\u001b[0m\u001b[0mmapped\u001b[0m\u001b[0;34m)\u001b[0m \u001b[0;32mand\u001b[0m \u001b[0misinstance\u001b[0m\u001b[0;34m(\u001b[0m\u001b[0mmapped\u001b[0m\u001b[0;34m[\u001b[0m\u001b[0;36m0\u001b[0m\u001b[0;34m]\u001b[0m\u001b[0;34m,\u001b[0m \u001b[0mSeries\u001b[0m\u001b[0;34m)\u001b[0m\u001b[0;34m:\u001b[0m\u001b[0;34m\u001b[0m\u001b[0;34m\u001b[0m\u001b[0m\n",
      "\u001b[0;32mpandas/_libs/lib.pyx\u001b[0m in \u001b[0;36mpandas._libs.lib.map_infer\u001b[0;34m()\u001b[0m\n",
      "\u001b[0;32m/sc/arion/work/prashf01/conda/envs/snakemake/lib/python3.9/site-packages/pandas/core/series.py\u001b[0m in \u001b[0;36mf\u001b[0;34m(x)\u001b[0m\n\u001b[1;32m   4121\u001b[0m \u001b[0;34m\u001b[0m\u001b[0m\n\u001b[1;32m   4122\u001b[0m             \u001b[0;32mdef\u001b[0m \u001b[0mf\u001b[0m\u001b[0;34m(\u001b[0m\u001b[0mx\u001b[0m\u001b[0;34m)\u001b[0m\u001b[0;34m:\u001b[0m\u001b[0;34m\u001b[0m\u001b[0;34m\u001b[0m\u001b[0m\n\u001b[0;32m-> 4123\u001b[0;31m                 \u001b[0;32mreturn\u001b[0m \u001b[0mfunc\u001b[0m\u001b[0;34m(\u001b[0m\u001b[0mx\u001b[0m\u001b[0;34m,\u001b[0m \u001b[0;34m*\u001b[0m\u001b[0margs\u001b[0m\u001b[0;34m,\u001b[0m \u001b[0;34m**\u001b[0m\u001b[0mkwds\u001b[0m\u001b[0;34m)\u001b[0m\u001b[0;34m\u001b[0m\u001b[0;34m\u001b[0m\u001b[0m\n\u001b[0m\u001b[1;32m   4124\u001b[0m \u001b[0;34m\u001b[0m\u001b[0m\n\u001b[1;32m   4125\u001b[0m         \u001b[0;32melse\u001b[0m\u001b[0;34m:\u001b[0m\u001b[0;34m\u001b[0m\u001b[0;34m\u001b[0m\u001b[0m\n",
      "\u001b[0;32m<ipython-input-16-f0391e28a435>\u001b[0m in \u001b[0;36mret_samp_names\u001b[0;34m(y, v_f, h_t)\u001b[0m\n\u001b[1;32m      2\u001b[0m     \u001b[0;31m#print(len(y), len(bc))\u001b[0m\u001b[0;34m\u001b[0m\u001b[0;34m\u001b[0m\u001b[0;34m\u001b[0m\u001b[0m\n\u001b[1;32m      3\u001b[0m     \u001b[0;32mif\u001b[0m \u001b[0my\u001b[0m\u001b[0;34m[\u001b[0m\u001b[0;34m:\u001b[0m\u001b[0;36m16\u001b[0m\u001b[0;34m]\u001b[0m \u001b[0;32min\u001b[0m \u001b[0mv_f\u001b[0m\u001b[0;34m[\u001b[0m\u001b[0;34m'cell'\u001b[0m\u001b[0;34m]\u001b[0m\u001b[0;34m.\u001b[0m\u001b[0mvalues\u001b[0m\u001b[0;34m:\u001b[0m\u001b[0;34m\u001b[0m\u001b[0;34m\u001b[0m\u001b[0m\n\u001b[0;32m----> 4\u001b[0;31m         \u001b[0mval\u001b[0m \u001b[0;34m=\u001b[0m \u001b[0mv_f\u001b[0m\u001b[0;34m.\u001b[0m\u001b[0mloc\u001b[0m\u001b[0;34m[\u001b[0m\u001b[0mv_f\u001b[0m\u001b[0;34m[\u001b[0m\u001b[0;34m'cell'\u001b[0m\u001b[0;34m]\u001b[0m \u001b[0;34m==\u001b[0m \u001b[0my\u001b[0m\u001b[0;34m[\u001b[0m\u001b[0;34m:\u001b[0m\u001b[0;36m16\u001b[0m\u001b[0;34m]\u001b[0m\u001b[0;34m,\u001b[0m \u001b[0;34m'donor_id'\u001b[0m\u001b[0;34m]\u001b[0m\u001b[0;34m.\u001b[0m\u001b[0mvalues\u001b[0m\u001b[0;34m[\u001b[0m\u001b[0;36m0\u001b[0m\u001b[0;34m]\u001b[0m\u001b[0;34m\u001b[0m\u001b[0;34m\u001b[0m\u001b[0m\n\u001b[0m\u001b[1;32m      5\u001b[0m         \u001b[0;32mif\u001b[0m \u001b[0mval\u001b[0m\u001b[0;34m.\u001b[0m\u001b[0mstartswith\u001b[0m\u001b[0;34m(\u001b[0m\u001b[0;34m'MSSM'\u001b[0m\u001b[0;34m)\u001b[0m\u001b[0;34m:\u001b[0m\u001b[0;34m\u001b[0m\u001b[0;34m\u001b[0m\u001b[0m\n\u001b[1;32m      6\u001b[0m             \u001b[0;32mreturn\u001b[0m \u001b[0mh_t\u001b[0m\u001b[0;34m.\u001b[0m\u001b[0mloc\u001b[0m\u001b[0;34m[\u001b[0m\u001b[0mh_t\u001b[0m\u001b[0;34m[\u001b[0m\u001b[0;34m'SNP_report:Genotyping_Sample_ID'\u001b[0m\u001b[0;34m]\u001b[0m \u001b[0;34m==\u001b[0m \u001b[0mval\u001b[0m\u001b[0;34m,\u001b[0m \u001b[0;34m'SubNum'\u001b[0m\u001b[0;34m]\u001b[0m\u001b[0;34m.\u001b[0m\u001b[0mvalues\u001b[0m\u001b[0;34m[\u001b[0m\u001b[0;36m0\u001b[0m\u001b[0;34m]\u001b[0m\u001b[0;34m\u001b[0m\u001b[0;34m\u001b[0m\u001b[0m\n",
      "\u001b[0;32m/sc/arion/work/prashf01/conda/envs/snakemake/lib/python3.9/site-packages/pandas/core/ops/common.py\u001b[0m in \u001b[0;36mnew_method\u001b[0;34m(self, other)\u001b[0m\n\u001b[1;32m     63\u001b[0m         \u001b[0mother\u001b[0m \u001b[0;34m=\u001b[0m \u001b[0mitem_from_zerodim\u001b[0m\u001b[0;34m(\u001b[0m\u001b[0mother\u001b[0m\u001b[0;34m)\u001b[0m\u001b[0;34m\u001b[0m\u001b[0;34m\u001b[0m\u001b[0m\n\u001b[1;32m     64\u001b[0m \u001b[0;34m\u001b[0m\u001b[0m\n\u001b[0;32m---> 65\u001b[0;31m         \u001b[0;32mreturn\u001b[0m \u001b[0mmethod\u001b[0m\u001b[0;34m(\u001b[0m\u001b[0mself\u001b[0m\u001b[0;34m,\u001b[0m \u001b[0mother\u001b[0m\u001b[0;34m)\u001b[0m\u001b[0;34m\u001b[0m\u001b[0;34m\u001b[0m\u001b[0m\n\u001b[0m\u001b[1;32m     66\u001b[0m \u001b[0;34m\u001b[0m\u001b[0m\n\u001b[1;32m     67\u001b[0m     \u001b[0;32mreturn\u001b[0m \u001b[0mnew_method\u001b[0m\u001b[0;34m\u001b[0m\u001b[0;34m\u001b[0m\u001b[0m\n",
      "\u001b[0;32m/sc/arion/work/prashf01/conda/envs/snakemake/lib/python3.9/site-packages/pandas/core/arraylike.py\u001b[0m in \u001b[0;36m__eq__\u001b[0;34m(self, other)\u001b[0m\n\u001b[1;32m     27\u001b[0m     \u001b[0;34m@\u001b[0m\u001b[0munpack_zerodim_and_defer\u001b[0m\u001b[0;34m(\u001b[0m\u001b[0;34m\"__eq__\"\u001b[0m\u001b[0;34m)\u001b[0m\u001b[0;34m\u001b[0m\u001b[0;34m\u001b[0m\u001b[0m\n\u001b[1;32m     28\u001b[0m     \u001b[0;32mdef\u001b[0m \u001b[0m__eq__\u001b[0m\u001b[0;34m(\u001b[0m\u001b[0mself\u001b[0m\u001b[0;34m,\u001b[0m \u001b[0mother\u001b[0m\u001b[0;34m)\u001b[0m\u001b[0;34m:\u001b[0m\u001b[0;34m\u001b[0m\u001b[0;34m\u001b[0m\u001b[0m\n\u001b[0;32m---> 29\u001b[0;31m         \u001b[0;32mreturn\u001b[0m \u001b[0mself\u001b[0m\u001b[0;34m.\u001b[0m\u001b[0m_cmp_method\u001b[0m\u001b[0;34m(\u001b[0m\u001b[0mother\u001b[0m\u001b[0;34m,\u001b[0m \u001b[0moperator\u001b[0m\u001b[0;34m.\u001b[0m\u001b[0meq\u001b[0m\u001b[0;34m)\u001b[0m\u001b[0;34m\u001b[0m\u001b[0;34m\u001b[0m\u001b[0m\n\u001b[0m\u001b[1;32m     30\u001b[0m \u001b[0;34m\u001b[0m\u001b[0m\n\u001b[1;32m     31\u001b[0m     \u001b[0;34m@\u001b[0m\u001b[0munpack_zerodim_and_defer\u001b[0m\u001b[0;34m(\u001b[0m\u001b[0;34m\"__ne__\"\u001b[0m\u001b[0;34m)\u001b[0m\u001b[0;34m\u001b[0m\u001b[0;34m\u001b[0m\u001b[0m\n",
      "\u001b[0;32m/sc/arion/work/prashf01/conda/envs/snakemake/lib/python3.9/site-packages/pandas/core/series.py\u001b[0m in \u001b[0;36m_cmp_method\u001b[0;34m(self, other, op)\u001b[0m\n\u001b[1;32m   4976\u001b[0m         \u001b[0mrvalues\u001b[0m \u001b[0;34m=\u001b[0m \u001b[0mextract_array\u001b[0m\u001b[0;34m(\u001b[0m\u001b[0mother\u001b[0m\u001b[0;34m,\u001b[0m \u001b[0mextract_numpy\u001b[0m\u001b[0;34m=\u001b[0m\u001b[0;32mTrue\u001b[0m\u001b[0;34m)\u001b[0m\u001b[0;34m\u001b[0m\u001b[0;34m\u001b[0m\u001b[0m\n\u001b[1;32m   4977\u001b[0m \u001b[0;34m\u001b[0m\u001b[0m\n\u001b[0;32m-> 4978\u001b[0;31m         \u001b[0mres_values\u001b[0m \u001b[0;34m=\u001b[0m \u001b[0mops\u001b[0m\u001b[0;34m.\u001b[0m\u001b[0mcomparison_op\u001b[0m\u001b[0;34m(\u001b[0m\u001b[0mlvalues\u001b[0m\u001b[0;34m,\u001b[0m \u001b[0mrvalues\u001b[0m\u001b[0;34m,\u001b[0m \u001b[0mop\u001b[0m\u001b[0;34m)\u001b[0m\u001b[0;34m\u001b[0m\u001b[0;34m\u001b[0m\u001b[0m\n\u001b[0m\u001b[1;32m   4979\u001b[0m \u001b[0;34m\u001b[0m\u001b[0m\n\u001b[1;32m   4980\u001b[0m         \u001b[0;32mreturn\u001b[0m \u001b[0mself\u001b[0m\u001b[0;34m.\u001b[0m\u001b[0m_construct_result\u001b[0m\u001b[0;34m(\u001b[0m\u001b[0mres_values\u001b[0m\u001b[0;34m,\u001b[0m \u001b[0mname\u001b[0m\u001b[0;34m=\u001b[0m\u001b[0mres_name\u001b[0m\u001b[0;34m)\u001b[0m\u001b[0;34m\u001b[0m\u001b[0;34m\u001b[0m\u001b[0m\n",
      "\u001b[0;32m/sc/arion/work/prashf01/conda/envs/snakemake/lib/python3.9/site-packages/pandas/core/ops/array_ops.py\u001b[0m in \u001b[0;36mcomparison_op\u001b[0;34m(left, right, op)\u001b[0m\n\u001b[1;32m    241\u001b[0m \u001b[0;34m\u001b[0m\u001b[0m\n\u001b[1;32m    242\u001b[0m     \u001b[0;32melif\u001b[0m \u001b[0mis_object_dtype\u001b[0m\u001b[0;34m(\u001b[0m\u001b[0mlvalues\u001b[0m\u001b[0;34m.\u001b[0m\u001b[0mdtype\u001b[0m\u001b[0;34m)\u001b[0m\u001b[0;34m:\u001b[0m\u001b[0;34m\u001b[0m\u001b[0;34m\u001b[0m\u001b[0m\n\u001b[0;32m--> 243\u001b[0;31m         \u001b[0mres_values\u001b[0m \u001b[0;34m=\u001b[0m \u001b[0mcomp_method_OBJECT_ARRAY\u001b[0m\u001b[0;34m(\u001b[0m\u001b[0mop\u001b[0m\u001b[0;34m,\u001b[0m \u001b[0mlvalues\u001b[0m\u001b[0;34m,\u001b[0m \u001b[0mrvalues\u001b[0m\u001b[0;34m)\u001b[0m\u001b[0;34m\u001b[0m\u001b[0;34m\u001b[0m\u001b[0m\n\u001b[0m\u001b[1;32m    244\u001b[0m \u001b[0;34m\u001b[0m\u001b[0m\n\u001b[1;32m    245\u001b[0m     \u001b[0;32melse\u001b[0m\u001b[0;34m:\u001b[0m\u001b[0;34m\u001b[0m\u001b[0;34m\u001b[0m\u001b[0m\n",
      "\u001b[0;32m/sc/arion/work/prashf01/conda/envs/snakemake/lib/python3.9/site-packages/pandas/core/ops/array_ops.py\u001b[0m in \u001b[0;36mcomp_method_OBJECT_ARRAY\u001b[0;34m(op, x, y)\u001b[0m\n\u001b[1;32m     53\u001b[0m         \u001b[0mresult\u001b[0m \u001b[0;34m=\u001b[0m \u001b[0mlibops\u001b[0m\u001b[0;34m.\u001b[0m\u001b[0mvec_compare\u001b[0m\u001b[0;34m(\u001b[0m\u001b[0mx\u001b[0m\u001b[0;34m.\u001b[0m\u001b[0mravel\u001b[0m\u001b[0;34m(\u001b[0m\u001b[0;34m)\u001b[0m\u001b[0;34m,\u001b[0m \u001b[0my\u001b[0m\u001b[0;34m.\u001b[0m\u001b[0mravel\u001b[0m\u001b[0;34m(\u001b[0m\u001b[0;34m)\u001b[0m\u001b[0;34m,\u001b[0m \u001b[0mop\u001b[0m\u001b[0;34m)\u001b[0m\u001b[0;34m\u001b[0m\u001b[0;34m\u001b[0m\u001b[0m\n\u001b[1;32m     54\u001b[0m     \u001b[0;32melse\u001b[0m\u001b[0;34m:\u001b[0m\u001b[0;34m\u001b[0m\u001b[0;34m\u001b[0m\u001b[0m\n\u001b[0;32m---> 55\u001b[0;31m         \u001b[0mresult\u001b[0m \u001b[0;34m=\u001b[0m \u001b[0mlibops\u001b[0m\u001b[0;34m.\u001b[0m\u001b[0mscalar_compare\u001b[0m\u001b[0;34m(\u001b[0m\u001b[0mx\u001b[0m\u001b[0;34m.\u001b[0m\u001b[0mravel\u001b[0m\u001b[0;34m(\u001b[0m\u001b[0;34m)\u001b[0m\u001b[0;34m,\u001b[0m \u001b[0my\u001b[0m\u001b[0;34m,\u001b[0m \u001b[0mop\u001b[0m\u001b[0;34m)\u001b[0m\u001b[0;34m\u001b[0m\u001b[0;34m\u001b[0m\u001b[0m\n\u001b[0m\u001b[1;32m     56\u001b[0m     \u001b[0;32mreturn\u001b[0m \u001b[0mresult\u001b[0m\u001b[0;34m.\u001b[0m\u001b[0mreshape\u001b[0m\u001b[0;34m(\u001b[0m\u001b[0mx\u001b[0m\u001b[0;34m.\u001b[0m\u001b[0mshape\u001b[0m\u001b[0;34m)\u001b[0m\u001b[0;34m\u001b[0m\u001b[0;34m\u001b[0m\u001b[0m\n\u001b[1;32m     57\u001b[0m \u001b[0;34m\u001b[0m\u001b[0m\n",
      "\u001b[0;31mKeyboardInterrupt\u001b[0m: "
     ]
    }
   ],
   "source": [
    "adatas1 = [anndata_out(sample, \"_STARsolo_combo_unfilt_out.h5ad\") for sample in path_samp]"
   ]
  },
  {
   "cell_type": "code",
   "execution_count": null,
   "id": "b58662cf",
   "metadata": {},
   "outputs": [],
   "source": [
    "adata1 = ad.concat(adatas1[:], index_unique='-', keys=[s.split('_')[1].replace('Sample-', '') for s in samp_l], join='inner')"
   ]
  },
  {
   "cell_type": "code",
   "execution_count": null,
   "id": "6a624ada",
   "metadata": {},
   "outputs": [],
   "source": [
    "adata1"
   ]
  },
  {
   "cell_type": "code",
   "execution_count": null,
   "id": "41ce8a1d",
   "metadata": {},
   "outputs": [],
   "source": [
    "Counter(adata1.obs['SubID_vireo'])"
   ]
  },
  {
   "cell_type": "markdown",
   "id": "96ee4e5c",
   "metadata": {},
   "source": [
    "For STARsolo output"
   ]
  },
  {
   "cell_type": "code",
   "execution_count": null,
   "id": "7905879d",
   "metadata": {
    "scrolled": true
   },
   "outputs": [],
   "source": [
    "\n",
    "# Total-count normalize (library-size correct) the data matrix X to 1M i.e. CPM\n",
    "sc.pp.normalize_total(adata1, target_sum=1e6)\n",
    "\n",
    "\n",
    "# Logarithmize the data\n",
    "sc.pp.log1p(adata1)\n",
    "\n",
    "# Freeze the normalized data\n",
    "adata1.raw = adata1\n",
    "\n",
    "# Identify highly-variable genes, flavor=\"cell_ranger\" is consistent with Seurat and flavor=\"suerat\" is not consistent with Seurat\n",
    "sc.pp.highly_variable_genes(adata1, n_top_genes=6000, flavor=\"cell_ranger\", batch_key='batch', subset=True)\n",
    "sc.pl.highly_variable_genes(adata1, save='_10sets_SS_HVG.png')\n",
    "\n",
    "print(adata1)"
   ]
  },
  {
   "cell_type": "code",
   "execution_count": null,
   "id": "23e548d0",
   "metadata": {},
   "outputs": [],
   "source": [
    "# PCA\n",
    "sc.tl.pca(adata1, svd_solver='arpack')\n",
    "print(\"\\t\\t\\tDone with pca\")\n",
    "\n",
    "\n",
    "# Run Harmony\n",
    "sc.external.pp.harmony_integrate(adata1, 'batch', max_iter_harmony=20)\n",
    "\n",
    "\n",
    "# Save to File\n",
    "# adata.write(results_file)\n",
    "print(adata1)\n",
    "\n"
   ]
  },
  {
   "cell_type": "code",
   "execution_count": null,
   "id": "430a67f9",
   "metadata": {},
   "outputs": [],
   "source": [
    "# Scree Plot\n",
    "sc.pl.pca_variance_ratio(adata1, save='_10sets_SS_Scree_plot.png')"
   ]
  },
  {
   "cell_type": "code",
   "execution_count": null,
   "id": "639ff754",
   "metadata": {},
   "outputs": [],
   "source": [
    "sc.pp.neighbors(adata1, use_rep='X_pca_harmony')\n",
    "print(\"\\t\\t\\tDone with calculating neighbours\")\n",
    "\n",
    "sc.tl.umap(adata1, min_dist=0.3)\n",
    "\n",
    "sc.tl.leiden(adata1)\n",
    "\n",
    "\n",
    "print(adata1)"
   ]
  },
  {
   "cell_type": "code",
   "execution_count": null,
   "id": "50838e9e",
   "metadata": {},
   "outputs": [],
   "source": [
    "sc.pl.umap(adata1, color=['leiden', 'batch'], save='_10sets_SS_umap.png')"
   ]
  },
  {
   "cell_type": "code",
   "execution_count": null,
   "id": "7a18f7d5",
   "metadata": {},
   "outputs": [],
   "source": [
    "for sample in adata1.obs['batch_1'].unique():\n",
    "    sc.pl.umap(adata1[adata1.obs['batch_1'] == sample], color=['leiden', 'rep'], save=f'_{sample}_SS_umap.png')"
   ]
  },
  {
   "cell_type": "markdown",
   "id": "5ad383a6",
   "metadata": {},
   "source": [
    "For cellranger output"
   ]
  },
  {
   "cell_type": "code",
   "execution_count": null,
   "id": "73e6df17",
   "metadata": {},
   "outputs": [],
   "source": [
    "adatas2 = [anndata_out(sample, \"_cellR_combo_unfilt_out.h5ad\") for sample in path_samp]"
   ]
  },
  {
   "cell_type": "code",
   "execution_count": null,
   "id": "18705738",
   "metadata": {},
   "outputs": [],
   "source": [
    "adata2 = ad.concat(adatas2[:], index_unique='-', keys=[s.split('_')[1].replace('Sample-', '') for s in samp_l], join='inner')"
   ]
  },
  {
   "cell_type": "code",
   "execution_count": null,
   "id": "faf7f84d",
   "metadata": {},
   "outputs": [],
   "source": [
    "adata2"
   ]
  },
  {
   "cell_type": "code",
   "execution_count": null,
   "id": "60b715f7",
   "metadata": {},
   "outputs": [],
   "source": [
    "Counter(adata2.obs['SubID_vireo'])"
   ]
  },
  {
   "cell_type": "code",
   "execution_count": null,
   "id": "e8a8ab8d",
   "metadata": {},
   "outputs": [],
   "source": [
    "# Total-count normalize (library-size correct) the data matrix X to 1M i.e. CPM\n",
    "sc.pp.normalize_total(adata2, target_sum=1e6)\n",
    "\n",
    "\n",
    "# Logarithmize the data\n",
    "sc.pp.log1p(adata2)\n",
    "\n",
    "# Freeze the normalized data\n",
    "adata2.raw = adata2\n",
    "\n",
    "# Identify highly-variable genes, flavor=\"cell_ranger\" is consistent with Seurat and flavor=\"suerat\" is not consistent with Seurat\n",
    "sc.pp.highly_variable_genes(adata2, n_top_genes=6000, flavor=\"cell_ranger\", batch_key='batch', subset=True)\n",
    "sc.pl.highly_variable_genes(adata2, save='_10sets_cr_HVG.png')\n",
    "\n",
    "print(adata1)"
   ]
  },
  {
   "cell_type": "code",
   "execution_count": null,
   "id": "4914dd1c",
   "metadata": {},
   "outputs": [],
   "source": [
    "# PCA\n",
    "sc.tl.pca(adata2, svd_solver='arpack')\n",
    "print(\"\\t\\t\\tDone with pca\")\n",
    "\n",
    "\n",
    "# Run Harmony\n",
    "sc.external.pp.harmony_integrate(adata2, 'batch', max_iter_harmony=20)\n",
    "\n",
    "\n",
    "# Save to File\n",
    "# adata.write(results_file)\n",
    "print(adata2)"
   ]
  },
  {
   "cell_type": "code",
   "execution_count": null,
   "id": "ad11b44d",
   "metadata": {},
   "outputs": [],
   "source": [
    "# Scree Plot\n",
    "sc.pl.pca_variance_ratio(adata2, save='_10sets_cr_Scree_plot.png')"
   ]
  },
  {
   "cell_type": "code",
   "execution_count": null,
   "id": "4fa10c92",
   "metadata": {},
   "outputs": [],
   "source": [
    "sc.pp.neighbors(adata2, use_rep='X_pca_harmony')\n",
    "print(\"\\t\\t\\tDone with calculating neighbours\")\n",
    "\n",
    "sc.tl.umap(adata2, min_dist=0.3)\n",
    "\n",
    "sc.tl.leiden(adata2)\n",
    "\n",
    "\n",
    "print(adata2)"
   ]
  },
  {
   "cell_type": "code",
   "execution_count": null,
   "id": "785451be",
   "metadata": {},
   "outputs": [],
   "source": [
    "sc.pl.umap(adata2, color=['leiden', 'batch'], save='_10sets_cr_umap.png')"
   ]
  },
  {
   "cell_type": "code",
   "execution_count": null,
   "id": "9ca01873",
   "metadata": {},
   "outputs": [],
   "source": [
    "for sample in adata2.obs['batch_1'].unique():\n",
    "    sc.pl.umap(adata2[adata2.obs['batch_1'] == sample], color=['leiden', 'rep'], save=f'_{sample}_cr_umap.png')"
   ]
  },
  {
   "cell_type": "code",
   "execution_count": null,
   "id": "715e92f2",
   "metadata": {},
   "outputs": [],
   "source": [
    "adata1.obs['concurrence'] = ret_intersections(adata1.obs['SubID_cs'], adata1.obs['SubID_ms'], adata1.obs['SubID_hd'], adata1.obs['SubID_vireo'])\n",
    "#adata2.obs['concurrence'] = ret_intersections(adata2.obs['SubID_cs'], adata2.obs['SubID_ms'], adata2.obs['SubID_hd'], adata2.obs['SubID_vireo'])"
   ]
  },
  {
   "cell_type": "code",
   "execution_count": null,
   "id": "55711a85",
   "metadata": {},
   "outputs": [],
   "source": [
    "adata1.write(\"10sets_SS_vireoSet.h5ad\")"
   ]
  },
  {
   "cell_type": "code",
   "execution_count": null,
   "id": "22d3f078",
   "metadata": {},
   "outputs": [],
   "source": [
    "adata2.write(\"10sets_cr_vireoSet.h5ad\")"
   ]
  },
  {
   "cell_type": "code",
   "execution_count": 39,
   "id": "bb812e6a",
   "metadata": {},
   "outputs": [
    {
     "data": {
      "text/plain": [
       "Counter({'All': 4176,\n",
       "         'CS_MS_HD': 5779,\n",
       "         'No_gt_All': 6170,\n",
       "         'No_gt_CS_HD': 169,\n",
       "         'MS_HD': 827,\n",
       "         'No_gt_CS_MS': 330,\n",
       "         'No_gt_No_concurrence': 513,\n",
       "         'HD_vireo': 308,\n",
       "         'CS_MS_vireo': 67,\n",
       "         'CS_HD': 206,\n",
       "         'No_concurrence': 134,\n",
       "         'CS_MS': 208,\n",
       "         'CS_vireo': 91,\n",
       "         'CS_HD_vireo': 33,\n",
       "         'MS_vireo': 125})"
      ]
     },
     "execution_count": 39,
     "metadata": {},
     "output_type": "execute_result"
    }
   ],
   "source": [
    "Counter(adata1[(adata1.obs['batch'] == 'NPSAD-20201112-A1-cDNA') & (adata1.obs['rep'] == '1')].obs['concurrence'])"
   ]
  },
  {
   "cell_type": "code",
   "execution_count": 40,
   "id": "b716c90c",
   "metadata": {},
   "outputs": [
    {
     "data": {
      "text/plain": [
       "20037"
      ]
     },
     "execution_count": 40,
     "metadata": {},
     "output_type": "execute_result"
    }
   ],
   "source": [
    "adata1[(adata1.obs['batch_1'] == 'NPSAD-20201112-A') & (adata1.obs['rep'] == '2')].shape[0]"
   ]
  },
  {
   "cell_type": "code",
   "execution_count": 41,
   "id": "2771616c",
   "metadata": {},
   "outputs": [
    {
     "data": {
      "text/plain": [
       "Counter({'All': 4176,\n",
       "         'CS_MS_HD': 5775,\n",
       "         'No_gt_All': 6170,\n",
       "         'No_vireo_All': 282,\n",
       "         'No_gt_CS_HD': 169,\n",
       "         'MS_HD': 803,\n",
       "         'No_gt_CS_MS': 330,\n",
       "         'No_vireo_MS_HD': 15,\n",
       "         'No_gt_No_concurrence': 497,\n",
       "         'HD_vireo': 308,\n",
       "         'CS_MS_vireo': 67,\n",
       "         'CS_HD': 206,\n",
       "         'No_concurrence': 134,\n",
       "         'CS_MS': 207,\n",
       "         'CS_vireo': 91,\n",
       "         'CS_HD_vireo': 33,\n",
       "         'MS_vireo': 125,\n",
       "         'No_vireo_CS_MS': 9,\n",
       "         'No_vireo_No_concurrence': 5,\n",
       "         'No_vireo_CS_HD': 5})"
      ]
     },
     "execution_count": 41,
     "metadata": {},
     "output_type": "execute_result"
    }
   ],
   "source": [
    "Counter(adata2[(adata2.obs['batch'] == 'NPSAD-20201112-A1-cDNA') & (adata2.obs['rep'] == '1')].obs['concurrence'])"
   ]
  },
  {
   "cell_type": "code",
   "execution_count": 40,
   "id": "28925d0b",
   "metadata": {},
   "outputs": [],
   "source": [
    "demux_info = []\n",
    "for sample in adata1.obs['batch_1'].unique():\n",
    "    temp_d = Counter(adata1[(adata1.obs['batch_1'] == sample) & (adata1.obs['rep'] == '1')].obs['concurrence'])\n",
    "    tot_cells = adata1[(adata1.obs['batch_1'] == sample) & (adata1.obs['rep'] == '1')].shape[0]\n",
    "    demux_info.append(( sample, '1', temp_d['All'], temp_d['CS_MS'], temp_d['CS_HD'], temp_d['MS_HD'], temp_d['CS_vireo'],\n",
    "                       temp_d['MS_vireo'], temp_d['HD_vireo'], temp_d['CS_MS_HD'], temp_d['CS_HD_vireo'], temp_d['CS_MS_vireo'], temp_d['MS_HD_vireo'],\n",
    "                      temp_d['No_concurrence'], temp_d['No_vireo_All'], temp_d['No_vireo_CS_MS'], temp_d['No_vireo_CS_HD'], \n",
    "                       temp_d['No_vireo_MS_HD'], temp_d['No_vireo_No_concurrence'], temp_d['No_gt_No_concurrence'], temp_d['No_gt_All'], temp_d['No_gt_CS_MS'], \n",
    "                      temp_d['No_gt_CS_HD'], temp_d['No_gt_MS_HD'], tot_cells ))\n",
    "    \n",
    "    temp_d = Counter(adata1[(adata1.obs['batch_1'] == sample) & (adata1.obs['rep'] == '2')].obs['concurrence'])\n",
    "    tot_cells = adata1[(adata1.obs['batch_1'] == sample) & (adata1.obs['rep'] == '2')].shape[0]\n",
    "    demux_info.append(( sample, '2', temp_d['All'], temp_d['CS_MS'], temp_d['CS_HD'], temp_d['MS_HD'], temp_d['CS_vireo'],\n",
    "                       temp_d['MS_vireo'], temp_d['HD_vireo'],temp_d['CS_MS_HD'], temp_d['CS_HD_vireo'], temp_d['CS_MS_vireo'], temp_d['MS_HD_vireo'],\n",
    "                      temp_d['No_concurrence'], temp_d['No_vireo_All'], temp_d['No_vireo_CS_MS'], temp_d['No_vireo_CS_HD'], \n",
    "                       temp_d['No_vireo_MS_HD'], temp_d['No_vireo_No_concurrence'], temp_d['No_gt_No_concurrence'], temp_d['No_gt_All'], temp_d['No_gt_CS_MS'], \n",
    "                      temp_d['No_gt_CS_HD'], temp_d['No_gt_MS_HD'], tot_cells ))\n",
    "    \n",
    "\n",
    "demux_df = pd.DataFrame(demux_info, columns=['Set', 'Rep', 'Concurrence', 'CS_MS', 'CS_HD', 'MS_HD', 'CS_vireo', 'MS_vireo', 'HD_vireo', \n",
    "                                             'CS_MS_HD', 'CS_HD_vireo', 'CS_MS_vireo', 'MS_HD_vireo', 'No_4_concurrence', 'Not_vireo_3',\n",
    "                                             'Not_vireo_CS_MS', 'Not_vireo_CS_HD', 'Not_vireo_MS_HD', 'Not_vireo_No_concurrence', \n",
    "                                             'No_gt_No_concurrence', 'No_gt_All', 'No_gt_CS_MS', 'No_gt_CS_HD', 'No_gt_MS_HD', 'Total_cells'])\n",
    "demux_df.to_csv(\"Demux_info_10Sets_SS_Vireo.tsv\", sep = \"\\t\", index=False)\n"
   ]
  },
  {
   "cell_type": "code",
   "execution_count": 41,
   "id": "ab6c5871",
   "metadata": {},
   "outputs": [],
   "source": [
    "demux_info = []\n",
    "for sample in adata2.obs['batch_1'].unique():\n",
    "    temp_d = Counter(adata2[(adata2.obs['batch_1'] == sample) & (adata2.obs['rep'] == '1')].obs['concurrence'])\n",
    "    tot_cells = adata2[(adata2.obs['batch_1'] == sample) & (adata2.obs['rep'] == '1')].shape[0]\n",
    "    demux_info.append(( sample, '1', temp_d['All'], temp_d['CS_MS'], temp_d['CS_HD'], temp_d['MS_HD'], temp_d['CS_vireo'],\n",
    "                       temp_d['MS_vireo'], temp_d['HD_vireo'], temp_d['CS_MS_HD'], temp_d['CS_HD_vireo'], temp_d['CS_MS_vireo'], temp_d['MS_HD_vireo'],\n",
    "                      temp_d['No_concurrence'], temp_d['No_vireo_All'], temp_d['No_vireo_CS_MS'], temp_d['No_vireo_CS_HD'], \n",
    "                       temp_d['No_vireo_MS_HD'], temp_d['No_vireo_No_concurrence'], temp_d['No_gt_No_concurrence'], temp_d['No_gt_All'], temp_d['No_gt_CS_MS'], \n",
    "                      temp_d['No_gt_CS_HD'], temp_d['No_gt_MS_HD'], tot_cells ))\n",
    "    \n",
    "    temp_d = Counter(adata2[(adata2.obs['batch_1'] == sample) & (adata2.obs['rep'] == '2')].obs['concurrence'])\n",
    "    tot_cells = adata2[(adata2.obs['batch_1'] == sample) & (adata2.obs['rep'] == '2')].shape[0]\n",
    "    demux_info.append(( sample, '2', temp_d['All'], temp_d['CS_MS'], temp_d['CS_HD'], temp_d['MS_HD'], temp_d['CS_vireo'],\n",
    "                       temp_d['MS_vireo'], temp_d['HD_vireo'],temp_d['CS_MS_HD'], temp_d['CS_HD_vireo'], temp_d['CS_MS_vireo'], temp_d['MS_HD_vireo'],\n",
    "                      temp_d['No_concurrence'], temp_d['No_vireo_All'], temp_d['No_vireo_CS_MS'], temp_d['No_vireo_CS_HD'], \n",
    "                       temp_d['No_vireo_MS_HD'], temp_d['No_vireo_No_concurrence'], temp_d['No_gt_No_concurrence'], temp_d['No_gt_All'], temp_d['No_gt_CS_MS'], \n",
    "                      temp_d['No_gt_CS_HD'], temp_d['No_gt_MS_HD'], tot_cells ))\n",
    "    \n",
    "\n",
    "demux_df = pd.DataFrame(demux_info, columns=['Set', 'Rep', 'Concurrence', 'CS_MS', 'CS_HD', 'MS_HD', 'CS_vireo', 'MS_vireo', 'HD_vireo', \n",
    "                                             'CS_MS_HD', 'CS_HD_vireo', 'CS_MS_vireo', 'MS_HD_vireo', 'No_4_concurrence', 'Not_vireo_3',\n",
    "                                             'Not_vireo_CS_MS', 'Not_vireo_CS_HD', 'Not_vireo_MS_HD', 'Not_vireo_No_concurrence', \n",
    "                                             'No_gt_No_concurrence', 'No_gt_All', 'No_gt_CS_MS', 'No_gt_CS_HD', 'No_gt_MS_HD', 'Total_cells'])\n",
    "demux_df.to_csv(\"Demux_info_10Sets_cr_Vireo.tsv\", sep = \"\\t\", index=False)"
   ]
  },
  {
   "cell_type": "code",
   "execution_count": 42,
   "id": "4cdbb504",
   "metadata": {},
   "outputs": [],
   "source": [
    "#adata_combo = ad.concat([adata1, adata2], index_unique='-', label='prog', keys=['STARsolo', 'cellranger'], join='inner')"
   ]
  },
  {
   "cell_type": "code",
   "execution_count": 43,
   "id": "42adf3cc",
   "metadata": {},
   "outputs": [],
   "source": [
    "#adata_combo.write(\"10sets_SS_cr_vireoSet.h5ad\")"
   ]
  }
 ],
 "metadata": {
  "kernelspec": {
   "display_name": "Python 3",
   "language": "python",
   "name": "python3"
  },
  "language_info": {
   "codemirror_mode": {
    "name": "ipython",
    "version": 3
   },
   "file_extension": ".py",
   "mimetype": "text/x-python",
   "name": "python",
   "nbconvert_exporter": "python",
   "pygments_lexer": "ipython3",
   "version": "3.9.5"
  }
 },
 "nbformat": 4,
 "nbformat_minor": 5
}
