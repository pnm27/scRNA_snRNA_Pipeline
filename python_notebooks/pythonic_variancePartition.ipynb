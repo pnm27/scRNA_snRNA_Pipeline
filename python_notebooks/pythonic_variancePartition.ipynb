{
 "cells": [
  {
   "cell_type": "code",
   "execution_count": 1,
   "id": "c65b5145",
   "metadata": {},
   "outputs": [
    {
     "name": "stdout",
     "output_type": "stream",
     "text": [
      "3.4.5\n"
     ]
    }
   ],
   "source": [
    "import rpy2\n",
    "print(rpy2.__version__)"
   ]
  },
  {
   "cell_type": "code",
   "execution_count": 2,
   "id": "8931326b",
   "metadata": {},
   "outputs": [
    {
     "name": "stdout",
     "output_type": "stream",
     "text": [
      "/sc/arion/work/prashf01/conda/envs/snakemake/lib/python3.9/site-packages/rpy2/__init__.py\n"
     ]
    }
   ],
   "source": [
    "print(rpy2.__file__)"
   ]
  },
  {
   "cell_type": "code",
   "execution_count": 3,
   "id": "071bea10",
   "metadata": {},
   "outputs": [],
   "source": [
    "from rpy2.robjects.packages import importr\n",
    "# import R's \"base\" package\n",
    "base = importr('base')\n"
   ]
  },
  {
   "cell_type": "code",
   "execution_count": 4,
   "id": "895fface",
   "metadata": {},
   "outputs": [],
   "source": [
    "import array\n",
    "from rpy2.robjects import IntVector, Formula"
   ]
  },
  {
   "cell_type": "code",
   "execution_count": 5,
   "id": "aa8a498d",
   "metadata": {},
   "outputs": [],
   "source": [
    "# import rpy2's package module\n",
    "import rpy2.robjects.packages as rpackages\n",
    "\n",
    "# import R's utility package\n",
    "utils = rpackages.importr('utils')"
   ]
  },
  {
   "cell_type": "code",
   "execution_count": 6,
   "id": "f813ac18",
   "metadata": {},
   "outputs": [],
   "source": [
    "# For df conversion between R to python and vice-versa\n",
    "import rpy2.robjects as ro\n",
    "from rpy2.robjects import pandas2ri\n",
    "\n",
    "from rpy2.robjects.conversion import localconverter"
   ]
  },
  {
   "cell_type": "code",
   "execution_count": 7,
   "id": "1f1574b4",
   "metadata": {},
   "outputs": [],
   "source": [
    "# For h5ad input\n",
    "import anndata as ad, scanpy as sc"
   ]
  },
  {
   "cell_type": "code",
   "execution_count": 8,
   "id": "bce1c73f",
   "metadata": {},
   "outputs": [],
   "source": [
    "import pandas as pd, numpy as np"
   ]
  },
  {
   "cell_type": "code",
   "execution_count": 9,
   "id": "caf943ed",
   "metadata": {},
   "outputs": [],
   "source": [
    "%load_ext rpy2.ipython"
   ]
  },
  {
   "cell_type": "code",
   "execution_count": 10,
   "id": "c170dddf",
   "metadata": {},
   "outputs": [
    {
     "data": {
      "text/plain": [
       "<rpy2.rinterface_lib.sexp.NULLType object at 0x2b871f097a40> [RTYPES.NILSXP]"
      ]
     },
     "execution_count": 10,
     "metadata": {},
     "output_type": "execute_result"
    }
   ],
   "source": [
    "# select a mirror for R packages\n",
    "utils.chooseCRANmirror(ind=60) # select the first mirror in the list"
   ]
  },
  {
   "cell_type": "code",
   "execution_count": 11,
   "id": "55e1c854",
   "metadata": {
    "scrolled": true
   },
   "outputs": [
    {
     "data": {
      "text/html": [
       "\n",
       "        <span>StrVector with 2 elements.</span>\n",
       "        <table>\n",
       "        <tbody>\n",
       "          <tr>\n",
       "          \n",
       "            <td>\n",
       "            '/hpc/users/prashf01/.R...\n",
       "            </td>\n",
       "          \n",
       "            <td>\n",
       "            '/sc/arion/work/prashf0...\n",
       "            </td>\n",
       "          \n",
       "          </tr>\n",
       "        </tbody>\n",
       "        </table>\n",
       "        "
      ],
      "text/plain": [
       "<rpy2.robjects.vectors.StrVector object at 0x2b870702ef40> [RTYPES.STRSXP]\n",
       "R classes: ('character',)\n",
       "['/hpc/users/prashf01/.R..., '/sc/arion/work/prashf0...]"
      ]
     },
     "execution_count": 11,
     "metadata": {},
     "output_type": "execute_result"
    }
   ],
   "source": [
    "%R -o a a=.libPaths()"
   ]
  },
  {
   "cell_type": "code",
   "execution_count": 12,
   "id": "fc0daaa0",
   "metadata": {},
   "outputs": [
    {
     "name": "stdout",
     "output_type": "stream",
     "text": [
      "[1] \"/hpc/users/prashf01/.Rlib\"                                 \n",
      "[2] \"/sc/arion/work/prashf01/conda/envs/snakemake/lib/R/library\"\n",
      "\n"
     ]
    }
   ],
   "source": [
    "print(a)"
   ]
  },
  {
   "cell_type": "code",
   "execution_count": 13,
   "id": "c2407ae6",
   "metadata": {},
   "outputs": [
    {
     "name": "stdout",
     "output_type": "stream",
     "text": [
      "/hpc/packages/minerva-centos7/rpackages/4.1.0/site-library:/hpc/packages/minerva-centos7/rpackages/bioconductor/3.13\n"
     ]
    }
   ],
   "source": [
    "import os\n",
    "print(os.environ['R_LIBS'])"
   ]
  },
  {
   "cell_type": "code",
   "execution_count": 14,
   "id": "04525c9b",
   "metadata": {},
   "outputs": [
    {
     "name": "stdout",
     "output_type": "stream",
     "text": [
      "/hpc/packages/minerva-centos7/R/4.1.0/lib64/R/bin:/sc/arion/work/prashf01/conda/envs/snakemake/bin:/usr/local/bin:/usr/local/sbin:/usr/local/bin:/usr/sbin:/usr/bin:/sbin:/bin\n"
     ]
    }
   ],
   "source": [
    "print(os.environ['PATH'])"
   ]
  },
  {
   "cell_type": "code",
   "execution_count": 15,
   "id": "5c767b17",
   "metadata": {},
   "outputs": [
    {
     "name": "stdout",
     "output_type": "stream",
     "text": [
      "/.singularity.d/libs\n"
     ]
    }
   ],
   "source": [
    "print(os.environ['LD_LIBRARY_PATH'])"
   ]
  },
  {
   "cell_type": "code",
   "execution_count": 16,
   "id": "404c7fbf",
   "metadata": {},
   "outputs": [],
   "source": [
    "lib_val = os.environ['R_LIBS'].split(':') + [ '/hpc/users/prashf01/.Rlib', '/sc/arion/work/prashf01/conda/envs/snakemake/lib/R/library']"
   ]
  },
  {
   "cell_type": "code",
   "execution_count": 17,
   "id": "b3d05547",
   "metadata": {},
   "outputs": [
    {
     "name": "stdout",
     "output_type": "stream",
     "text": [
      "/sc/arion/work/prashf01/conda/envs/snakemake/lib/R\n"
     ]
    }
   ],
   "source": [
    "print(os.environ['R_HOME'])"
   ]
  },
  {
   "cell_type": "code",
   "execution_count": 18,
   "id": "dbff058f",
   "metadata": {},
   "outputs": [
    {
     "name": "stdout",
     "output_type": "stream",
     "text": [
      "/hpc/users/prashf01/.Rlib\n"
     ]
    }
   ],
   "source": [
    "print(os.environ['R_LIBS_USER'])"
   ]
  },
  {
   "cell_type": "markdown",
   "id": "5c420251",
   "metadata": {},
   "source": [
    "%%R \n",
    "\n",
    "library('remotes')\n",
    "\n",
    "\n",
    "remotes::install_github(\"r-lib/vctrs\")\n",
    "\n",
    "\n",
    "remotes::install_github('MangoTheCat/rematch2')\n",
    "\n",
    "\n",
    "remotes::install_github(\"r-lib/waldo\")\n",
    "\n",
    "\n",
    "remotes::install_github(\"r-lib/testthat\")\n",
    "\n",
    "\n",
    "install.packages('boot')\n",
    "\n",
    "\n",
    "install.packages('devtools')\n",
    "\n",
    "\n",
    "install.packages('ggplot2')\n",
    "\n",
    "\n",
    "install.packages('boot')\n",
    "\n",
    "\n",
    "install.packages('minqa')\n",
    "\n",
    "\n",
    "install.packages('nloptr')\n",
    "\n"
   ]
  },
  {
   "cell_type": "code",
   "execution_count": 19,
   "id": "17387819",
   "metadata": {},
   "outputs": [
    {
     "data": {
      "text/plain": [
       "<rpy2.rinterface_lib.sexp.NULLType object at 0x2b871f097a40> [RTYPES.NILSXP]"
      ]
     },
     "execution_count": 19,
     "metadata": {},
     "output_type": "execute_result"
    }
   ],
   "source": [
    "# For BioConductor packages\n",
    "utils.chooseBioCmirror(ind=1) # select the first mirror in the list"
   ]
  },
  {
   "cell_type": "markdown",
   "id": "afbb0120",
   "metadata": {},
   "source": [
    "%%R\n",
    "\n",
    "\n",
    "library(BiocManager)\n",
    "\n",
    "\n",
    "BiocManager::install('Biobase')\n",
    "\n",
    "\n",
    "install.packages(c('meta', 'gplots'))\n",
    "\n",
    "\n",
    "BiocManager::install('GenomeInfoDb')\n",
    "\n",
    "\n",
    "install.packages('pbkrtest')\n",
    "\n",
    "\n",
    "install.packages('mathjaxr')\n",
    "\n",
    "\n",
    "install.packages('meta')\n",
    "\n",
    "\n",
    "remotes::install_github(\"hojsgaard/pbkrtest\")\n",
    "\n",
    "\n",
    "install.packages(\"progress\")\n",
    "\n",
    "\n",
    "install.packages(\"reshape2\")"
   ]
  },
  {
   "cell_type": "code",
   "execution_count": 20,
   "id": "67b1959d",
   "metadata": {},
   "outputs": [
    {
     "name": "stderr",
     "output_type": "stream",
     "text": [
      "R[write to console]: Loading required package: limma\n",
      "\n",
      "R[write to console]: Loading required package: BiocParallel\n",
      "\n",
      "R[write to console]: \n",
      "Attaching package: ‘variancePartition’\n",
      "\n",
      "\n",
      "R[write to console]: The following object is masked from ‘package:limma’:\n",
      "\n",
      "    classifyTestsF\n",
      "\n",
      "\n"
     ]
    }
   ],
   "source": [
    "%%R \n",
    "library('ggplot2')\n",
    "library('variancePartition')"
   ]
  },
  {
   "cell_type": "code",
   "execution_count": 21,
   "id": "679bc7a4",
   "metadata": {},
   "outputs": [
    {
     "data": {
      "text/html": [
       "<div>\n",
       "<style scoped>\n",
       "    .dataframe tbody tr th:only-of-type {\n",
       "        vertical-align: middle;\n",
       "    }\n",
       "\n",
       "    .dataframe tbody tr th {\n",
       "        vertical-align: top;\n",
       "    }\n",
       "\n",
       "    .dataframe thead tr th {\n",
       "        text-align: left;\n",
       "    }\n",
       "</style>\n",
       "<table border=\"1\" class=\"dataframe\">\n",
       "  <thead>\n",
       "    <tr>\n",
       "      <th></th>\n",
       "      <th colspan=\"4\" halign=\"left\">LAB</th>\n",
       "      <th colspan=\"6\" halign=\"left\">STAR</th>\n",
       "      <th>...</th>\n",
       "      <th colspan=\"10\" halign=\"left\">cellranger</th>\n",
       "    </tr>\n",
       "    <tr>\n",
       "      <th></th>\n",
       "      <th>BATCH</th>\n",
       "      <th>SAMPLE</th>\n",
       "      <th colspan=\"2\" halign=\"left\">BATCH</th>\n",
       "      <th colspan=\"6\" halign=\"left\">REG</th>\n",
       "      <th>...</th>\n",
       "      <th colspan=\"10\" halign=\"left\">DEMUX</th>\n",
       "    </tr>\n",
       "    <tr>\n",
       "      <th></th>\n",
       "      <th>ROUND</th>\n",
       "      <th>SAMPLE</th>\n",
       "      <th>PREPARER</th>\n",
       "      <th>REP</th>\n",
       "      <th>JOB_START</th>\n",
       "      <th>MAP_START</th>\n",
       "      <th>JOB_FINISH</th>\n",
       "      <th>MAP_SPEED</th>\n",
       "      <th>N_READS</th>\n",
       "      <th>AVG_READ_LEN</th>\n",
       "      <th>...</th>\n",
       "      <th>N_DOUBLET_CELLS_CS</th>\n",
       "      <th>N_NEGATIVE_CELLS_CS</th>\n",
       "      <th>N_DOUBLET_CELLS_MS</th>\n",
       "      <th>N_NEGATIVE_CELLS_MS</th>\n",
       "      <th>N_DOUBLET_CELLS_HD</th>\n",
       "      <th>N_NEGATIVE_CELLS_HD</th>\n",
       "      <th>N_CELLS_COMMON</th>\n",
       "      <th>N_CELLS_AFTER_DEMUX_CS</th>\n",
       "      <th>N_CELLS_AFTER_DEMUX_MS</th>\n",
       "      <th>N_CELLS_AFTER_DEMUX_HD</th>\n",
       "    </tr>\n",
       "  </thead>\n",
       "  <tbody>\n",
       "    <tr>\n",
       "      <th>0</th>\n",
       "      <td>2</td>\n",
       "      <td>NPSAD-20201117-A1-cDNA</td>\n",
       "      <td>A</td>\n",
       "      <td>1</td>\n",
       "      <td>Jul/08/10:45:40</td>\n",
       "      <td>Jul/08/13:09:16</td>\n",
       "      <td>Jul/08/17:37:24</td>\n",
       "      <td>391.20</td>\n",
       "      <td>1748251072</td>\n",
       "      <td>90</td>\n",
       "      <td>...</td>\n",
       "      <td>3276</td>\n",
       "      <td>61</td>\n",
       "      <td>3369</td>\n",
       "      <td>618</td>\n",
       "      <td>3019</td>\n",
       "      <td>1442</td>\n",
       "      <td>11926</td>\n",
       "      <td>M83930:3858,M639636:3369,M8975:2656,H1560:1836...</td>\n",
       "      <td>M83930:3732,M639636:3240,M8975:2288,H1560:1858...</td>\n",
       "      <td>M83930:3703,M639636:2736,M8975:2119,H1560:1959...</td>\n",
       "    </tr>\n",
       "    <tr>\n",
       "      <th>1</th>\n",
       "      <td>2</td>\n",
       "      <td>NPSAD-20201110-A1-cDNA</td>\n",
       "      <td>A</td>\n",
       "      <td>1</td>\n",
       "      <td>Jul/08/02:02:51</td>\n",
       "      <td>Jul/08/03:27:24</td>\n",
       "      <td>Jul/08/06:29:52</td>\n",
       "      <td>404.36</td>\n",
       "      <td>1229717948</td>\n",
       "      <td>90</td>\n",
       "      <td>...</td>\n",
       "      <td>5789</td>\n",
       "      <td>46</td>\n",
       "      <td>5785</td>\n",
       "      <td>1082</td>\n",
       "      <td>5688</td>\n",
       "      <td>1199</td>\n",
       "      <td>14830</td>\n",
       "      <td>M84936:3893,M96977:3260,R86712535:2669,M74724:...</td>\n",
       "      <td>M84936:3681,M96977:3217,M99118:2443,M74724:242...</td>\n",
       "      <td>M84936:3732,M96977:3009,M99118:2657,M99345:241...</td>\n",
       "    </tr>\n",
       "    <tr>\n",
       "      <th>2</th>\n",
       "      <td>2</td>\n",
       "      <td>NPSAD-20201117-C2-cDNA</td>\n",
       "      <td>C</td>\n",
       "      <td>2</td>\n",
       "      <td>Jul/11/13:38:02</td>\n",
       "      <td>Jul/11/15:11:49</td>\n",
       "      <td>Jul/11/18:43:51</td>\n",
       "      <td>398.67</td>\n",
       "      <td>1408846088</td>\n",
       "      <td>90</td>\n",
       "      <td>...</td>\n",
       "      <td>5532</td>\n",
       "      <td>52</td>\n",
       "      <td>5397</td>\n",
       "      <td>473</td>\n",
       "      <td>5375</td>\n",
       "      <td>800</td>\n",
       "      <td>15220</td>\n",
       "      <td>M86494:3619,M38454:2965,M76678:2650,M64974:263...</td>\n",
       "      <td>M86494:3867,M38454:2671,M76678:2586,M64974:257...</td>\n",
       "      <td>M86494:3925,M64974:2610,M76678:2549,M39282:254...</td>\n",
       "    </tr>\n",
       "  </tbody>\n",
       "</table>\n",
       "<p>3 rows × 189 columns</p>\n",
       "</div>"
      ],
      "text/plain": [
       "    LAB                                                  STAR  \\\n",
       "  BATCH                  SAMPLE    BATCH                  REG   \n",
       "  ROUND                  SAMPLE PREPARER REP        JOB_START   \n",
       "0     2  NPSAD-20201117-A1-cDNA        A   1  Jul/08/10:45:40   \n",
       "1     2  NPSAD-20201110-A1-cDNA        A   1  Jul/08/02:02:51   \n",
       "2     2  NPSAD-20201117-C2-cDNA        C   2  Jul/11/13:38:02   \n",
       "\n",
       "                                                                        ...  \\\n",
       "                                                                        ...   \n",
       "         MAP_START       JOB_FINISH MAP_SPEED     N_READS AVG_READ_LEN  ...   \n",
       "0  Jul/08/13:09:16  Jul/08/17:37:24    391.20  1748251072           90  ...   \n",
       "1  Jul/08/03:27:24  Jul/08/06:29:52    404.36  1229717948           90  ...   \n",
       "2  Jul/11/15:11:49  Jul/11/18:43:51    398.67  1408846088           90  ...   \n",
       "\n",
       "          cellranger                                         \\\n",
       "               DEMUX                                          \n",
       "  N_DOUBLET_CELLS_CS N_NEGATIVE_CELLS_CS N_DOUBLET_CELLS_MS   \n",
       "0               3276                  61               3369   \n",
       "1               5789                  46               5785   \n",
       "2               5532                  52               5397   \n",
       "\n",
       "                                                                             \\\n",
       "                                                                              \n",
       "  N_NEGATIVE_CELLS_MS N_DOUBLET_CELLS_HD N_NEGATIVE_CELLS_HD N_CELLS_COMMON   \n",
       "0                 618               3019                1442          11926   \n",
       "1                1082               5688                1199          14830   \n",
       "2                 473               5375                 800          15220   \n",
       "\n",
       "                                                      \\\n",
       "                                                       \n",
       "                              N_CELLS_AFTER_DEMUX_CS   \n",
       "0  M83930:3858,M639636:3369,M8975:2656,H1560:1836...   \n",
       "1  M84936:3893,M96977:3260,R86712535:2669,M74724:...   \n",
       "2  M86494:3619,M38454:2965,M76678:2650,M64974:263...   \n",
       "\n",
       "                                                      \\\n",
       "                                                       \n",
       "                              N_CELLS_AFTER_DEMUX_MS   \n",
       "0  M83930:3732,M639636:3240,M8975:2288,H1560:1858...   \n",
       "1  M84936:3681,M96977:3217,M99118:2443,M74724:242...   \n",
       "2  M86494:3867,M38454:2671,M76678:2586,M64974:257...   \n",
       "\n",
       "                                                      \n",
       "                                                      \n",
       "                              N_CELLS_AFTER_DEMUX_HD  \n",
       "0  M83930:3703,M639636:2736,M8975:2119,H1560:1959...  \n",
       "1  M84936:3732,M96977:3009,M99118:2657,M99345:241...  \n",
       "2  M86494:3925,M64974:2610,M76678:2549,M39282:254...  \n",
       "\n",
       "[3 rows x 189 columns]"
      ]
     },
     "execution_count": 21,
     "metadata": {},
     "output_type": "execute_result"
    }
   ],
   "source": [
    "covariates_file = pd.read_csv('All_logs.tsv', sep = \"\\t\", header=[0, 1, 2])\n",
    "covariates_file.head(3)"
   ]
  },
  {
   "cell_type": "code",
   "execution_count": 22,
   "id": "8a1fc2cc",
   "metadata": {},
   "outputs": [],
   "source": [
    "adata = ad.read('STAR_202_samples_hvg_hpy_umap.h5ad')"
   ]
  },
  {
   "cell_type": "code",
   "execution_count": 23,
   "id": "3f55f090",
   "metadata": {},
   "outputs": [
    {
     "data": {
      "text/plain": [
       "AnnData object with n_obs × n_vars = 3518365 × 6160\n",
       "    obs: 'n_genes', 'n_genes_by_counts', 'log1p_n_genes_by_counts', 'total_counts', 'log1p_total_counts', 'pct_counts_in_top_50_genes', 'pct_counts_in_top_100_genes', 'pct_counts_in_top_200_genes', 'pct_counts_in_top_500_genes', 'total_counts_mito', 'log1p_total_counts_mito', 'pct_counts_mito', 'batch', 'round_num', 'prep', 'rep', 'SubID_hd', 'HTO_n_hd', 'SubID_cs', 'SubID_ms', 'HTO_n_cs', 'HTO_n_ms', 'batch_1'\n",
       "    var: 'highly_variable', 'means', 'dispersions', 'dispersions_norm'\n",
       "    uns: 'batch_1_colors', 'hvg', 'neighbors', 'pca', 'prep_colors', 'umap'\n",
       "    obsm: 'X_pca', 'X_pca_harmony', 'X_umap'\n",
       "    varm: 'PCs'\n",
       "    layers: 'counts'\n",
       "    obsp: 'connectivities', 'distances'"
      ]
     },
     "execution_count": 23,
     "metadata": {},
     "output_type": "execute_result"
    }
   ],
   "source": [
    "adata"
   ]
  },
  {
   "cell_type": "code",
   "execution_count": 26,
   "id": "32572d71",
   "metadata": {},
   "outputs": [],
   "source": [
    "adata.write('STAR_202_samples_hvg_hpy_umap.h5ad')"
   ]
  }
 ],
 "metadata": {
  "kernelspec": {
   "display_name": "Python 3",
   "language": "python",
   "name": "python3"
  },
  "language_info": {
   "codemirror_mode": {
    "name": "ipython",
    "version": 3
   },
   "file_extension": ".py",
   "mimetype": "text/x-python",
   "name": "python",
   "nbconvert_exporter": "python",
   "pygments_lexer": "ipython3",
   "version": "3.9.5"
  }
 },
 "nbformat": 4,
 "nbformat_minor": 5
}
