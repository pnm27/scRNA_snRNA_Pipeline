{
 "cells": [
  {
   "cell_type": "code",
   "execution_count": 1,
   "id": "0646ba14",
   "metadata": {},
   "outputs": [],
   "source": [
    "import scanpy as sc, numpy as np, pandas as pd\n",
    "import os, re, glob2, anndata as ad\n",
    "import seaborn as sns\n",
    "from collections import Counter\n",
    "from matplotlib import pyplot as plt\n",
    "from upsetplot import plot, from_contents, from_memberships"
   ]
  },
  {
   "cell_type": "code",
   "execution_count": 2,
   "id": "fcdaf584",
   "metadata": {},
   "outputs": [],
   "source": [
    "adata1 = ad.read(\"10sets_SS_vireoSet.h5ad\")\n",
    "adata2 = ad.read(\"10sets_cr_vireoSet.h5ad\")"
   ]
  },
  {
   "cell_type": "code",
   "execution_count": 3,
   "id": "e6543cf1",
   "metadata": {},
   "outputs": [],
   "source": [
    "demux_info_SS = pd.read_csv(\"Demux_info_10Sets_SS_Vireo.tsv\", sep='\\t')\n",
    "demux_info_cr = pd.read_csv(\"Demux_info_10Sets_cr_Vireo.tsv\", sep='\\t')"
   ]
  },
  {
   "cell_type": "code",
   "execution_count": 4,
   "id": "b85b9f30",
   "metadata": {},
   "outputs": [
    {
     "data": {
      "text/html": [
       "<div>\n",
       "<style scoped>\n",
       "    .dataframe tbody tr th:only-of-type {\n",
       "        vertical-align: middle;\n",
       "    }\n",
       "\n",
       "    .dataframe tbody tr th {\n",
       "        vertical-align: top;\n",
       "    }\n",
       "\n",
       "    .dataframe thead th {\n",
       "        text-align: right;\n",
       "    }\n",
       "</style>\n",
       "<table border=\"1\" class=\"dataframe\">\n",
       "  <thead>\n",
       "    <tr style=\"text-align: right;\">\n",
       "      <th></th>\n",
       "      <th>Set</th>\n",
       "      <th>Rep</th>\n",
       "      <th>Concurrence</th>\n",
       "      <th>CS_MS</th>\n",
       "      <th>CS_HD</th>\n",
       "      <th>MS_HD</th>\n",
       "      <th>CS_vireo</th>\n",
       "      <th>MS_vireo</th>\n",
       "      <th>HD_vireo</th>\n",
       "      <th>CS_MS_HD</th>\n",
       "      <th>...</th>\n",
       "      <th>Not_vireo_CS_MS</th>\n",
       "      <th>Not_vireo_CS_HD</th>\n",
       "      <th>Not_vireo_MS_HD</th>\n",
       "      <th>Not_vireo_No_concurrence</th>\n",
       "      <th>No_gt_No_concurrence</th>\n",
       "      <th>No_gt_All</th>\n",
       "      <th>No_gt_CS_MS</th>\n",
       "      <th>No_gt_CS_HD</th>\n",
       "      <th>No_gt_MS_HD</th>\n",
       "      <th>Total_cells</th>\n",
       "    </tr>\n",
       "  </thead>\n",
       "  <tbody>\n",
       "    <tr>\n",
       "      <th>0</th>\n",
       "      <td>NPSAD-20201112-A</td>\n",
       "      <td>1</td>\n",
       "      <td>4824</td>\n",
       "      <td>177</td>\n",
       "      <td>194</td>\n",
       "      <td>630</td>\n",
       "      <td>101</td>\n",
       "      <td>149</td>\n",
       "      <td>534</td>\n",
       "      <td>5127</td>\n",
       "      <td>...</td>\n",
       "      <td>0</td>\n",
       "      <td>0</td>\n",
       "      <td>0</td>\n",
       "      <td>0</td>\n",
       "      <td>542</td>\n",
       "      <td>6169</td>\n",
       "      <td>331</td>\n",
       "      <td>140</td>\n",
       "      <td>0</td>\n",
       "      <td>19136</td>\n",
       "    </tr>\n",
       "    <tr>\n",
       "      <th>1</th>\n",
       "      <td>NPSAD-20201112-A</td>\n",
       "      <td>2</td>\n",
       "      <td>4820</td>\n",
       "      <td>415</td>\n",
       "      <td>217</td>\n",
       "      <td>568</td>\n",
       "      <td>87</td>\n",
       "      <td>395</td>\n",
       "      <td>363</td>\n",
       "      <td>5193</td>\n",
       "      <td>...</td>\n",
       "      <td>0</td>\n",
       "      <td>0</td>\n",
       "      <td>0</td>\n",
       "      <td>0</td>\n",
       "      <td>560</td>\n",
       "      <td>5995</td>\n",
       "      <td>770</td>\n",
       "      <td>116</td>\n",
       "      <td>0</td>\n",
       "      <td>20037</td>\n",
       "    </tr>\n",
       "  </tbody>\n",
       "</table>\n",
       "<p>2 rows × 25 columns</p>\n",
       "</div>"
      ],
      "text/plain": [
       "                Set  Rep  Concurrence  CS_MS  CS_HD  MS_HD  CS_vireo  \\\n",
       "0  NPSAD-20201112-A    1         4824    177    194    630       101   \n",
       "1  NPSAD-20201112-A    2         4820    415    217    568        87   \n",
       "\n",
       "   MS_vireo  HD_vireo  CS_MS_HD  ...  Not_vireo_CS_MS  Not_vireo_CS_HD  \\\n",
       "0       149       534      5127  ...                0                0   \n",
       "1       395       363      5193  ...                0                0   \n",
       "\n",
       "   Not_vireo_MS_HD  Not_vireo_No_concurrence  No_gt_No_concurrence  No_gt_All  \\\n",
       "0                0                         0                   542       6169   \n",
       "1                0                         0                   560       5995   \n",
       "\n",
       "   No_gt_CS_MS  No_gt_CS_HD  No_gt_MS_HD  Total_cells  \n",
       "0          331          140            0        19136  \n",
       "1          770          116            0        20037  \n",
       "\n",
       "[2 rows x 25 columns]"
      ]
     },
     "execution_count": 4,
     "metadata": {},
     "output_type": "execute_result"
    }
   ],
   "source": [
    "demux_info_SS.head(2)"
   ]
  },
  {
   "cell_type": "code",
   "execution_count": 5,
   "id": "4f3ccb5e",
   "metadata": {},
   "outputs": [
    {
     "data": {
      "text/plain": [
       "Counter({'M1176': 7538,\n",
       "         'H898': 6756,\n",
       "         'Doublet': 31454,\n",
       "         'H653': 7419,\n",
       "         'H1357': 3911,\n",
       "         'M45480': 5304,\n",
       "         'M76138': 232,\n",
       "         'Negative': 787,\n",
       "         'M44145': 5278,\n",
       "         'M67780': 6174,\n",
       "         'M3114': 4932,\n",
       "         'M48326': 3854,\n",
       "         'M30944': 5216,\n",
       "         'M12571': 5819,\n",
       "         'M34836': 4199,\n",
       "         'M29736': 3191,\n",
       "         'M12792': 2607,\n",
       "         'M1746': 1939,\n",
       "         'M8926': 3226,\n",
       "         'M580893': 559,\n",
       "         'M30150': 5099,\n",
       "         'M55245': 6024,\n",
       "         'M24257': 6411,\n",
       "         'M32215': 4795,\n",
       "         'M72578': 4485,\n",
       "         'H1563': 1541,\n",
       "         'M84511': 9274,\n",
       "         'M9161': 3359,\n",
       "         'M11589': 5681,\n",
       "         'M88010': 3180,\n",
       "         'R31291350': 2898,\n",
       "         'M26992': 3903})"
      ]
     },
     "execution_count": 5,
     "metadata": {},
     "output_type": "execute_result"
    }
   ],
   "source": [
    "Counter(adata1.obs['SubID_cs'])"
   ]
  },
  {
   "cell_type": "code",
   "execution_count": 6,
   "id": "8a1aa677",
   "metadata": {},
   "outputs": [
    {
     "data": {
      "text/plain": [
       "Counter({'M1176': 10101,\n",
       "         'Negative': 15316,\n",
       "         'Doublet': 9960,\n",
       "         'donor4': 13005,\n",
       "         'M76138': 4947,\n",
       "         'donor3': 14557,\n",
       "         'M45480': 1979,\n",
       "         'donor5': 21654,\n",
       "         'M44145': 5477,\n",
       "         'M67780': 6396,\n",
       "         'M48326': 3896,\n",
       "         'M34836': 4782,\n",
       "         'M8926': 3857,\n",
       "         'M29736': 2215,\n",
       "         'M30150': 5427,\n",
       "         'M55245': 6222,\n",
       "         'M24257': 7324,\n",
       "         'M32215': 2585,\n",
       "         'M84511': 11043,\n",
       "         'M9161': 3514,\n",
       "         'M11589': 5955,\n",
       "         'M88010': 2737,\n",
       "         'M26992': 4096})"
      ]
     },
     "execution_count": 6,
     "metadata": {},
     "output_type": "execute_result"
    }
   ],
   "source": [
    "Counter(adata1.obs['SubID_vireo'])"
   ]
  },
  {
   "cell_type": "code",
   "execution_count": 7,
   "id": "79c80ebc",
   "metadata": {},
   "outputs": [],
   "source": [
    "hashmap_info = pd.read_csv(\"Hash_map_gtID_SubID.csv\")"
   ]
  },
  {
   "cell_type": "code",
   "execution_count": 8,
   "id": "2e29c072",
   "metadata": {},
   "outputs": [
    {
     "data": {
      "text/plain": [
       "AAACCCAAGACCATAA-NPSAD-20201112-A1-cDNA    NPSAD-20201112-A\n",
       "AAACCCAAGACTACCT-NPSAD-20201112-A1-cDNA    NPSAD-20201112-A\n",
       "AAACCCAAGCACCGAA-NPSAD-20201112-A1-cDNA    NPSAD-20201112-A\n",
       "AAACCCAAGCCTCATA-NPSAD-20201112-A1-cDNA    NPSAD-20201112-A\n",
       "AAACCCAAGCTAGATA-NPSAD-20201112-A1-cDNA    NPSAD-20201112-A\n",
       "                                                 ...       \n",
       "TTTGTTGGTTCATCTT-NPSAD-20201030-C2-cDNA    NPSAD-20201030-C\n",
       "TTTGTTGGTTTACGAC-NPSAD-20201030-C2-cDNA    NPSAD-20201030-C\n",
       "TTTGTTGTCAGTGCGC-NPSAD-20201030-C2-cDNA    NPSAD-20201030-C\n",
       "TTTGTTGTCCGATGCG-NPSAD-20201030-C2-cDNA    NPSAD-20201030-C\n",
       "TTTGTTGTCGCACTCT-NPSAD-20201030-C2-cDNA    NPSAD-20201030-C\n",
       "Name: set, Length: 167045, dtype: category\n",
       "Categories (5, object): ['NPSAD-20201030-C', 'NPSAD-20201112-A', 'NPSAD-20201113-C', 'NPSAD-20201215-C', 'NPSAD-20210217-C']"
      ]
     },
     "execution_count": 8,
     "metadata": {},
     "output_type": "execute_result"
    }
   ],
   "source": [
    "adata1.obs['set']"
   ]
  },
  {
   "cell_type": "code",
   "execution_count": 9,
   "id": "5f539950",
   "metadata": {},
   "outputs": [
    {
     "data": {
      "text/html": [
       "<div>\n",
       "<style scoped>\n",
       "    .dataframe tbody tr th:only-of-type {\n",
       "        vertical-align: middle;\n",
       "    }\n",
       "\n",
       "    .dataframe tbody tr th {\n",
       "        vertical-align: top;\n",
       "    }\n",
       "\n",
       "    .dataframe thead th {\n",
       "        text-align: right;\n",
       "    }\n",
       "</style>\n",
       "<table border=\"1\" class=\"dataframe\">\n",
       "  <thead>\n",
       "    <tr style=\"text-align: right;\">\n",
       "      <th></th>\n",
       "      <th>SubNum</th>\n",
       "      <th>SNP_report:Genotyping_Sample_ID</th>\n",
       "      <th>Samp_ID</th>\n",
       "    </tr>\n",
       "  </thead>\n",
       "  <tbody>\n",
       "    <tr>\n",
       "      <th>0</th>\n",
       "      <td>M7718</td>\n",
       "      <td>MSSM_59</td>\n",
       "      <td>NPSAD-20210303-A</td>\n",
       "    </tr>\n",
       "    <tr>\n",
       "      <th>1</th>\n",
       "      <td>M79990</td>\n",
       "      <td>MSSM_54</td>\n",
       "      <td>NPSAD-20201221-A</td>\n",
       "    </tr>\n",
       "    <tr>\n",
       "      <th>2</th>\n",
       "      <td>M80700</td>\n",
       "      <td>MSSM_167</td>\n",
       "      <td>NaN</td>\n",
       "    </tr>\n",
       "  </tbody>\n",
       "</table>\n",
       "</div>"
      ],
      "text/plain": [
       "   SubNum SNP_report:Genotyping_Sample_ID           Samp_ID\n",
       "0   M7718                         MSSM_59  NPSAD-20210303-A\n",
       "1  M79990                         MSSM_54  NPSAD-20201221-A\n",
       "2  M80700                        MSSM_167               NaN"
      ]
     },
     "execution_count": 9,
     "metadata": {},
     "output_type": "execute_result"
    }
   ],
   "source": [
    "hashmap_info.head(3)"
   ]
  },
  {
   "cell_type": "code",
   "execution_count": 10,
   "id": "860fd2b7",
   "metadata": {},
   "outputs": [],
   "source": [
    "def unclass_test_vir(samp_l, test_id, v_id, hm_info):\n",
    "    values = []\n",
    "    \n",
    "    for i in range(v_id.shape[0]):\n",
    "        gt_avail = hm_info.loc[hm_info['Samp_ID'] == samp_l[i], 'SubNum'].tolist()\n",
    "        if test_id[i] in gt_avail: # If 'test' method classified as a subtype with a known GT info\n",
    "            if v_id[i] == test_id[i]:\n",
    "                values.append('known_same_class') # Interpret as GT was present for vireo and classification is same\n",
    "            elif v_id[i].startswith('donor'):\n",
    "                values.append('known_class_to_unknown') # Sub category of misclassification: GT of the classified SUBID is present but it was categorized into other sample, which had no GT info\n",
    "            elif v_id[i] in gt_avail:\n",
    "                values.append('known_class_to_known_other') # Sub category of misclassification: GT of the classified SUBID is present but it was categorized into other sample, with known GT info\n",
    "            else:\n",
    "                values.append('known_class_vireo_unclass') # Sub category of misclassification: GT of the classified SUBID is present but it was categorized as either 'Doublet' or'Negative\n",
    "        \n",
    "        elif (test_id[i] == 'Doublet' or test_id[i] == 'Negative') and (v_id[i] == 'Doublet' or v_id[i] == 'Negative'):\n",
    "            values.append(f\"{test_id[i]}_to_{v_id[i]}\")\n",
    "            \n",
    "        elif test_id[i] not in gt_avail and test_id[i] != 'Doublet' and test_id[i] != 'Negative' and test_id[i] != 'Not Present': # We don't have GT info for SubIDs starting with any other char than 'M'\n",
    "            if v_id[i].startswith('donor'):\n",
    "                values.append('no_gt_but_class')\n",
    "            elif v_id[i] == 'Doublet' or v_id[i]  == 'Negative':\n",
    "                values.append('no_gt_unclass')\n",
    "            else:\n",
    "                values.append('no_gt_into_known')\n",
    "        \n",
    "        elif (test_id[i] == 'Doublet' or test_id[i] == 'Negative') and (v_id[i] != 'Doublet' or v_id[i] != 'Negative'):\n",
    "            temp_val = 'unknown' if v_id[i].startswith('donor') else 'known_class'\n",
    "            values.append(f\"{test_id[i]}_to_{temp_val}\")\n",
    "        \n",
    "        else: # For the case \"Not a Singlet\"\n",
    "            if v_id[i] in gt_avail:\n",
    "                values.append(f\"Not_Present_to_known\")\n",
    "            elif v_id[i] == 'Doublet' or v_id[i] == 'Negative':\n",
    "                values.append(f\"Not_Present_to_unclass\")\n",
    "            else: # To categories identified by vireo i.e donor1, donor2, etc.\n",
    "                values.append(f\"Not_Present_to_unknown\")\n",
    "                \n",
    "            \n",
    "    return values\n",
    "    "
   ]
  },
  {
   "cell_type": "code",
   "execution_count": 11,
   "id": "9e8fe62e",
   "metadata": {},
   "outputs": [],
   "source": [
    "#del adata1.obs['H_vs_V'], adata2.obs['H_vs_V'], adata1.obs['M_vs_V'], adata2.obs['M_vs_V'], adata1.obs['S_vs_V'], adata2.obs['S_vs_V']"
   ]
  },
  {
   "cell_type": "code",
   "execution_count": 12,
   "id": "1ab9cfcc",
   "metadata": {},
   "outputs": [],
   "source": [
    "adata1.obs['H_vs_V'] = unclass_test_vir(adata1.obs['set'], adata1.obs['SubID_hd'], adata1.obs['SubID_vireo'], hashmap_info)\n",
    "adata1.obs['M_vs_V'] = unclass_test_vir(adata1.obs['set'], adata1.obs['SubID_ms'], adata1.obs['SubID_vireo'], hashmap_info)\n",
    "adata1.obs['S_vs_V'] = unclass_test_vir(adata1.obs['set'], adata1.obs['SubID_cs'], adata1.obs['SubID_vireo'], hashmap_info)"
   ]
  },
  {
   "cell_type": "code",
   "execution_count": 13,
   "id": "319b6ced",
   "metadata": {},
   "outputs": [
    {
     "data": {
      "text/html": [
       "<div>\n",
       "<style scoped>\n",
       "    .dataframe tbody tr th:only-of-type {\n",
       "        vertical-align: middle;\n",
       "    }\n",
       "\n",
       "    .dataframe tbody tr th {\n",
       "        vertical-align: top;\n",
       "    }\n",
       "\n",
       "    .dataframe thead th {\n",
       "        text-align: right;\n",
       "    }\n",
       "</style>\n",
       "<table border=\"1\" class=\"dataframe\">\n",
       "  <thead>\n",
       "    <tr style=\"text-align: right;\">\n",
       "      <th></th>\n",
       "      <th>H_vs_V</th>\n",
       "      <th>SubID_hd</th>\n",
       "      <th>SubID_vireo</th>\n",
       "    </tr>\n",
       "  </thead>\n",
       "  <tbody>\n",
       "    <tr>\n",
       "      <th>AAACCCAAGACCATAA-NPSAD-20201112-A1-cDNA</th>\n",
       "      <td>known_same_class</td>\n",
       "      <td>M1176</td>\n",
       "      <td>M1176</td>\n",
       "    </tr>\n",
       "    <tr>\n",
       "      <th>AAACCCAAGACTACCT-NPSAD-20201112-A1-cDNA</th>\n",
       "      <td>no_gt_unclass</td>\n",
       "      <td>H898</td>\n",
       "      <td>Negative</td>\n",
       "    </tr>\n",
       "    <tr>\n",
       "      <th>AAACCCAAGCACCGAA-NPSAD-20201112-A1-cDNA</th>\n",
       "      <td>Doublet_to_Doublet</td>\n",
       "      <td>Doublet</td>\n",
       "      <td>Doublet</td>\n",
       "    </tr>\n",
       "    <tr>\n",
       "      <th>AAACCCAAGCCTCATA-NPSAD-20201112-A1-cDNA</th>\n",
       "      <td>no_gt_but_class</td>\n",
       "      <td>H653</td>\n",
       "      <td>donor4</td>\n",
       "    </tr>\n",
       "    <tr>\n",
       "      <th>AAACCCAAGCTAGATA-NPSAD-20201112-A1-cDNA</th>\n",
       "      <td>known_same_class</td>\n",
       "      <td>M1176</td>\n",
       "      <td>M1176</td>\n",
       "    </tr>\n",
       "    <tr>\n",
       "      <th>AAACCCAAGGAGAATG-NPSAD-20201112-A1-cDNA</th>\n",
       "      <td>no_gt_into_known</td>\n",
       "      <td>H1357</td>\n",
       "      <td>M76138</td>\n",
       "    </tr>\n",
       "    <tr>\n",
       "      <th>AAACCCAAGGAGATAG-NPSAD-20201112-A1-cDNA</th>\n",
       "      <td>known_same_class</td>\n",
       "      <td>M1176</td>\n",
       "      <td>M1176</td>\n",
       "    </tr>\n",
       "    <tr>\n",
       "      <th>AAACCCAAGGGAGTTC-NPSAD-20201112-A1-cDNA</th>\n",
       "      <td>no_gt_but_class</td>\n",
       "      <td>H898</td>\n",
       "      <td>donor3</td>\n",
       "    </tr>\n",
       "    <tr>\n",
       "      <th>AAACCCAAGGTCGTCC-NPSAD-20201112-A1-cDNA</th>\n",
       "      <td>no_gt_into_known</td>\n",
       "      <td>H1357</td>\n",
       "      <td>M76138</td>\n",
       "    </tr>\n",
       "    <tr>\n",
       "      <th>AAACCCAAGTTGCCCG-NPSAD-20201112-A1-cDNA</th>\n",
       "      <td>known_same_class</td>\n",
       "      <td>M1176</td>\n",
       "      <td>M1176</td>\n",
       "    </tr>\n",
       "  </tbody>\n",
       "</table>\n",
       "</div>"
      ],
      "text/plain": [
       "                                                     H_vs_V SubID_hd  \\\n",
       "AAACCCAAGACCATAA-NPSAD-20201112-A1-cDNA    known_same_class    M1176   \n",
       "AAACCCAAGACTACCT-NPSAD-20201112-A1-cDNA       no_gt_unclass     H898   \n",
       "AAACCCAAGCACCGAA-NPSAD-20201112-A1-cDNA  Doublet_to_Doublet  Doublet   \n",
       "AAACCCAAGCCTCATA-NPSAD-20201112-A1-cDNA     no_gt_but_class     H653   \n",
       "AAACCCAAGCTAGATA-NPSAD-20201112-A1-cDNA    known_same_class    M1176   \n",
       "AAACCCAAGGAGAATG-NPSAD-20201112-A1-cDNA    no_gt_into_known    H1357   \n",
       "AAACCCAAGGAGATAG-NPSAD-20201112-A1-cDNA    known_same_class    M1176   \n",
       "AAACCCAAGGGAGTTC-NPSAD-20201112-A1-cDNA     no_gt_but_class     H898   \n",
       "AAACCCAAGGTCGTCC-NPSAD-20201112-A1-cDNA    no_gt_into_known    H1357   \n",
       "AAACCCAAGTTGCCCG-NPSAD-20201112-A1-cDNA    known_same_class    M1176   \n",
       "\n",
       "                                        SubID_vireo  \n",
       "AAACCCAAGACCATAA-NPSAD-20201112-A1-cDNA       M1176  \n",
       "AAACCCAAGACTACCT-NPSAD-20201112-A1-cDNA    Negative  \n",
       "AAACCCAAGCACCGAA-NPSAD-20201112-A1-cDNA     Doublet  \n",
       "AAACCCAAGCCTCATA-NPSAD-20201112-A1-cDNA      donor4  \n",
       "AAACCCAAGCTAGATA-NPSAD-20201112-A1-cDNA       M1176  \n",
       "AAACCCAAGGAGAATG-NPSAD-20201112-A1-cDNA      M76138  \n",
       "AAACCCAAGGAGATAG-NPSAD-20201112-A1-cDNA       M1176  \n",
       "AAACCCAAGGGAGTTC-NPSAD-20201112-A1-cDNA      donor3  \n",
       "AAACCCAAGGTCGTCC-NPSAD-20201112-A1-cDNA      M76138  \n",
       "AAACCCAAGTTGCCCG-NPSAD-20201112-A1-cDNA       M1176  "
      ]
     },
     "execution_count": 13,
     "metadata": {},
     "output_type": "execute_result"
    }
   ],
   "source": [
    "adata1.obs[['H_vs_V', 'SubID_hd', 'SubID_vireo']].head(10)"
   ]
  },
  {
   "cell_type": "code",
   "execution_count": 14,
   "id": "3e71881d",
   "metadata": {},
   "outputs": [
    {
     "data": {
      "text/html": [
       "<div>\n",
       "<style scoped>\n",
       "    .dataframe tbody tr th:only-of-type {\n",
       "        vertical-align: middle;\n",
       "    }\n",
       "\n",
       "    .dataframe tbody tr th {\n",
       "        vertical-align: top;\n",
       "    }\n",
       "\n",
       "    .dataframe thead th {\n",
       "        text-align: right;\n",
       "    }\n",
       "</style>\n",
       "<table border=\"1\" class=\"dataframe\">\n",
       "  <thead>\n",
       "    <tr style=\"text-align: right;\">\n",
       "      <th></th>\n",
       "      <th>H_vs_V</th>\n",
       "      <th>SubID_hd</th>\n",
       "      <th>SubID_vireo</th>\n",
       "    </tr>\n",
       "  </thead>\n",
       "  <tbody>\n",
       "    <tr>\n",
       "      <th>AAACCCAAGCACCGAA-NPSAD-20201112-A1-cDNA</th>\n",
       "      <td>Doublet_to_Doublet</td>\n",
       "      <td>Doublet</td>\n",
       "      <td>Doublet</td>\n",
       "    </tr>\n",
       "    <tr>\n",
       "      <th>AAACCCACACACGCCA-NPSAD-20201112-A1-cDNA</th>\n",
       "      <td>Doublet_to_Doublet</td>\n",
       "      <td>Doublet</td>\n",
       "      <td>Doublet</td>\n",
       "    </tr>\n",
       "    <tr>\n",
       "      <th>AAACCCAGTCCTCATC-NPSAD-20201112-A1-cDNA</th>\n",
       "      <td>Doublet_to_Doublet</td>\n",
       "      <td>Doublet</td>\n",
       "      <td>Doublet</td>\n",
       "    </tr>\n",
       "    <tr>\n",
       "      <th>AAACCCAGTGCGGCTT-NPSAD-20201112-A1-cDNA</th>\n",
       "      <td>Doublet_to_unknown</td>\n",
       "      <td>Doublet</td>\n",
       "      <td>donor3</td>\n",
       "    </tr>\n",
       "    <tr>\n",
       "      <th>AAACCCATCTTAGCCC-NPSAD-20201112-A1-cDNA</th>\n",
       "      <td>Doublet_to_known_class</td>\n",
       "      <td>Doublet</td>\n",
       "      <td>M1176</td>\n",
       "    </tr>\n",
       "    <tr>\n",
       "      <th>AAACGAAAGGATGTTA-NPSAD-20201112-A1-cDNA</th>\n",
       "      <td>Doublet_to_Negative</td>\n",
       "      <td>Doublet</td>\n",
       "      <td>Negative</td>\n",
       "    </tr>\n",
       "    <tr>\n",
       "      <th>AAACGAAAGGTGCAGT-NPSAD-20201112-A1-cDNA</th>\n",
       "      <td>Doublet_to_known_class</td>\n",
       "      <td>Doublet</td>\n",
       "      <td>M1176</td>\n",
       "    </tr>\n",
       "    <tr>\n",
       "      <th>AAACGAAAGTTGGCGA-NPSAD-20201112-A1-cDNA</th>\n",
       "      <td>Doublet_to_Doublet</td>\n",
       "      <td>Doublet</td>\n",
       "      <td>Doublet</td>\n",
       "    </tr>\n",
       "    <tr>\n",
       "      <th>AAACGCTAGTAGAATC-NPSAD-20201112-A1-cDNA</th>\n",
       "      <td>Doublet_to_unknown</td>\n",
       "      <td>Doublet</td>\n",
       "      <td>donor3</td>\n",
       "    </tr>\n",
       "    <tr>\n",
       "      <th>AAACGCTCAAAGGGTC-NPSAD-20201112-A1-cDNA</th>\n",
       "      <td>Doublet_to_unknown</td>\n",
       "      <td>Doublet</td>\n",
       "      <td>donor3</td>\n",
       "    </tr>\n",
       "  </tbody>\n",
       "</table>\n",
       "</div>"
      ],
      "text/plain": [
       "                                                         H_vs_V SubID_hd  \\\n",
       "AAACCCAAGCACCGAA-NPSAD-20201112-A1-cDNA      Doublet_to_Doublet  Doublet   \n",
       "AAACCCACACACGCCA-NPSAD-20201112-A1-cDNA      Doublet_to_Doublet  Doublet   \n",
       "AAACCCAGTCCTCATC-NPSAD-20201112-A1-cDNA      Doublet_to_Doublet  Doublet   \n",
       "AAACCCAGTGCGGCTT-NPSAD-20201112-A1-cDNA      Doublet_to_unknown  Doublet   \n",
       "AAACCCATCTTAGCCC-NPSAD-20201112-A1-cDNA  Doublet_to_known_class  Doublet   \n",
       "AAACGAAAGGATGTTA-NPSAD-20201112-A1-cDNA     Doublet_to_Negative  Doublet   \n",
       "AAACGAAAGGTGCAGT-NPSAD-20201112-A1-cDNA  Doublet_to_known_class  Doublet   \n",
       "AAACGAAAGTTGGCGA-NPSAD-20201112-A1-cDNA      Doublet_to_Doublet  Doublet   \n",
       "AAACGCTAGTAGAATC-NPSAD-20201112-A1-cDNA      Doublet_to_unknown  Doublet   \n",
       "AAACGCTCAAAGGGTC-NPSAD-20201112-A1-cDNA      Doublet_to_unknown  Doublet   \n",
       "\n",
       "                                        SubID_vireo  \n",
       "AAACCCAAGCACCGAA-NPSAD-20201112-A1-cDNA     Doublet  \n",
       "AAACCCACACACGCCA-NPSAD-20201112-A1-cDNA     Doublet  \n",
       "AAACCCAGTCCTCATC-NPSAD-20201112-A1-cDNA     Doublet  \n",
       "AAACCCAGTGCGGCTT-NPSAD-20201112-A1-cDNA      donor3  \n",
       "AAACCCATCTTAGCCC-NPSAD-20201112-A1-cDNA       M1176  \n",
       "AAACGAAAGGATGTTA-NPSAD-20201112-A1-cDNA    Negative  \n",
       "AAACGAAAGGTGCAGT-NPSAD-20201112-A1-cDNA       M1176  \n",
       "AAACGAAAGTTGGCGA-NPSAD-20201112-A1-cDNA     Doublet  \n",
       "AAACGCTAGTAGAATC-NPSAD-20201112-A1-cDNA      donor3  \n",
       "AAACGCTCAAAGGGTC-NPSAD-20201112-A1-cDNA      donor3  "
      ]
     },
     "execution_count": 14,
     "metadata": {},
     "output_type": "execute_result"
    }
   ],
   "source": [
    "adata1[adata1.obs['SubID_hd'] == 'Doublet'].obs[['H_vs_V', 'SubID_hd', 'SubID_vireo']].head(10)"
   ]
  },
  {
   "cell_type": "code",
   "execution_count": 15,
   "id": "ec05575e",
   "metadata": {},
   "outputs": [
    {
     "data": {
      "text/html": [
       "<div>\n",
       "<style scoped>\n",
       "    .dataframe tbody tr th:only-of-type {\n",
       "        vertical-align: middle;\n",
       "    }\n",
       "\n",
       "    .dataframe tbody tr th {\n",
       "        vertical-align: top;\n",
       "    }\n",
       "\n",
       "    .dataframe thead th {\n",
       "        text-align: right;\n",
       "    }\n",
       "</style>\n",
       "<table border=\"1\" class=\"dataframe\">\n",
       "  <thead>\n",
       "    <tr style=\"text-align: right;\">\n",
       "      <th></th>\n",
       "      <th>H_vs_V</th>\n",
       "      <th>SubID_hd</th>\n",
       "      <th>SubID_vireo</th>\n",
       "    </tr>\n",
       "  </thead>\n",
       "  <tbody>\n",
       "    <tr>\n",
       "      <th>AAACGAATCATTGGTG-NPSAD-20201112-A1-cDNA</th>\n",
       "      <td>Negative_to_unknown</td>\n",
       "      <td>Negative</td>\n",
       "      <td>donor4</td>\n",
       "    </tr>\n",
       "    <tr>\n",
       "      <th>AAAGAACCATCTTCGC-NPSAD-20201112-A1-cDNA</th>\n",
       "      <td>Negative_to_unknown</td>\n",
       "      <td>Negative</td>\n",
       "      <td>donor3</td>\n",
       "    </tr>\n",
       "    <tr>\n",
       "      <th>AAAGAACTCCTCTTTC-NPSAD-20201112-A1-cDNA</th>\n",
       "      <td>Negative_to_known_class</td>\n",
       "      <td>Negative</td>\n",
       "      <td>M76138</td>\n",
       "    </tr>\n",
       "    <tr>\n",
       "      <th>AAAGGATGTCCTCATC-NPSAD-20201112-A1-cDNA</th>\n",
       "      <td>Negative_to_unknown</td>\n",
       "      <td>Negative</td>\n",
       "      <td>donor3</td>\n",
       "    </tr>\n",
       "    <tr>\n",
       "      <th>AAAGGGCGTCGCGTTG-NPSAD-20201112-A1-cDNA</th>\n",
       "      <td>Negative_to_known_class</td>\n",
       "      <td>Negative</td>\n",
       "      <td>M1176</td>\n",
       "    </tr>\n",
       "    <tr>\n",
       "      <th>AAAGTGACACGACGCT-NPSAD-20201112-A1-cDNA</th>\n",
       "      <td>Negative_to_known_class</td>\n",
       "      <td>Negative</td>\n",
       "      <td>M76138</td>\n",
       "    </tr>\n",
       "    <tr>\n",
       "      <th>AAAGTGATCCTCACGT-NPSAD-20201112-A1-cDNA</th>\n",
       "      <td>Negative_to_known_class</td>\n",
       "      <td>Negative</td>\n",
       "      <td>M76138</td>\n",
       "    </tr>\n",
       "    <tr>\n",
       "      <th>AAATGGACACTCCGAG-NPSAD-20201112-A1-cDNA</th>\n",
       "      <td>Negative_to_unknown</td>\n",
       "      <td>Negative</td>\n",
       "      <td>donor3</td>\n",
       "    </tr>\n",
       "    <tr>\n",
       "      <th>AACAACCGTGAATTAG-NPSAD-20201112-A1-cDNA</th>\n",
       "      <td>Negative_to_unknown</td>\n",
       "      <td>Negative</td>\n",
       "      <td>donor5</td>\n",
       "    </tr>\n",
       "    <tr>\n",
       "      <th>AACAAGAGTTTCGACA-NPSAD-20201112-A1-cDNA</th>\n",
       "      <td>Negative_to_known_class</td>\n",
       "      <td>Negative</td>\n",
       "      <td>M1176</td>\n",
       "    </tr>\n",
       "  </tbody>\n",
       "</table>\n",
       "</div>"
      ],
      "text/plain": [
       "                                                          H_vs_V  SubID_hd  \\\n",
       "AAACGAATCATTGGTG-NPSAD-20201112-A1-cDNA      Negative_to_unknown  Negative   \n",
       "AAAGAACCATCTTCGC-NPSAD-20201112-A1-cDNA      Negative_to_unknown  Negative   \n",
       "AAAGAACTCCTCTTTC-NPSAD-20201112-A1-cDNA  Negative_to_known_class  Negative   \n",
       "AAAGGATGTCCTCATC-NPSAD-20201112-A1-cDNA      Negative_to_unknown  Negative   \n",
       "AAAGGGCGTCGCGTTG-NPSAD-20201112-A1-cDNA  Negative_to_known_class  Negative   \n",
       "AAAGTGACACGACGCT-NPSAD-20201112-A1-cDNA  Negative_to_known_class  Negative   \n",
       "AAAGTGATCCTCACGT-NPSAD-20201112-A1-cDNA  Negative_to_known_class  Negative   \n",
       "AAATGGACACTCCGAG-NPSAD-20201112-A1-cDNA      Negative_to_unknown  Negative   \n",
       "AACAACCGTGAATTAG-NPSAD-20201112-A1-cDNA      Negative_to_unknown  Negative   \n",
       "AACAAGAGTTTCGACA-NPSAD-20201112-A1-cDNA  Negative_to_known_class  Negative   \n",
       "\n",
       "                                        SubID_vireo  \n",
       "AAACGAATCATTGGTG-NPSAD-20201112-A1-cDNA      donor4  \n",
       "AAAGAACCATCTTCGC-NPSAD-20201112-A1-cDNA      donor3  \n",
       "AAAGAACTCCTCTTTC-NPSAD-20201112-A1-cDNA      M76138  \n",
       "AAAGGATGTCCTCATC-NPSAD-20201112-A1-cDNA      donor3  \n",
       "AAAGGGCGTCGCGTTG-NPSAD-20201112-A1-cDNA       M1176  \n",
       "AAAGTGACACGACGCT-NPSAD-20201112-A1-cDNA      M76138  \n",
       "AAAGTGATCCTCACGT-NPSAD-20201112-A1-cDNA      M76138  \n",
       "AAATGGACACTCCGAG-NPSAD-20201112-A1-cDNA      donor3  \n",
       "AACAACCGTGAATTAG-NPSAD-20201112-A1-cDNA      donor5  \n",
       "AACAAGAGTTTCGACA-NPSAD-20201112-A1-cDNA       M1176  "
      ]
     },
     "execution_count": 15,
     "metadata": {},
     "output_type": "execute_result"
    }
   ],
   "source": [
    "adata1[adata1.obs['SubID_hd'] == 'Negative'].obs[['H_vs_V', 'SubID_hd', 'SubID_vireo']].head(10)"
   ]
  },
  {
   "cell_type": "code",
   "execution_count": 16,
   "id": "9f32a991",
   "metadata": {},
   "outputs": [],
   "source": [
    "adata2.obs['H_vs_V'] = unclass_test_vir(adata2.obs['set'], adata2.obs['SubID_hd'], adata2.obs['SubID_vireo'], hashmap_info)\n",
    "adata2.obs['M_vs_V'] = unclass_test_vir(adata2.obs['set'], adata2.obs['SubID_ms'], adata2.obs['SubID_vireo'], hashmap_info)\n",
    "adata2.obs['S_vs_V'] = unclass_test_vir(adata2.obs['set'], adata2.obs['SubID_cs'], adata2.obs['SubID_vireo'], hashmap_info)"
   ]
  },
  {
   "cell_type": "code",
   "execution_count": 17,
   "id": "d4b477d4",
   "metadata": {},
   "outputs": [
    {
     "data": {
      "text/html": [
       "<div>\n",
       "<style scoped>\n",
       "    .dataframe tbody tr th:only-of-type {\n",
       "        vertical-align: middle;\n",
       "    }\n",
       "\n",
       "    .dataframe tbody tr th {\n",
       "        vertical-align: top;\n",
       "    }\n",
       "\n",
       "    .dataframe thead th {\n",
       "        text-align: right;\n",
       "    }\n",
       "</style>\n",
       "<table border=\"1\" class=\"dataframe\">\n",
       "  <thead>\n",
       "    <tr style=\"text-align: right;\">\n",
       "      <th></th>\n",
       "      <th>H_vs_V</th>\n",
       "      <th>SubID_hd</th>\n",
       "      <th>SubID_vireo</th>\n",
       "    </tr>\n",
       "  </thead>\n",
       "  <tbody>\n",
       "    <tr>\n",
       "      <th>AAACCCAAGACCATAA-NPSAD-20201112-A1-cDNA</th>\n",
       "      <td>known_same_class</td>\n",
       "      <td>M1176</td>\n",
       "      <td>M1176</td>\n",
       "    </tr>\n",
       "    <tr>\n",
       "      <th>AAACCCAAGACTACCT-NPSAD-20201112-A1-cDNA</th>\n",
       "      <td>no_gt_unclass</td>\n",
       "      <td>H898</td>\n",
       "      <td>Negative</td>\n",
       "    </tr>\n",
       "    <tr>\n",
       "      <th>AAACCCAAGCACCGAA-NPSAD-20201112-A1-cDNA</th>\n",
       "      <td>Doublet_to_Doublet</td>\n",
       "      <td>Doublet</td>\n",
       "      <td>Doublet</td>\n",
       "    </tr>\n",
       "    <tr>\n",
       "      <th>AAACCCAAGCCTCATA-NPSAD-20201112-A1-cDNA</th>\n",
       "      <td>no_gt_into_known</td>\n",
       "      <td>H653</td>\n",
       "      <td>M76138</td>\n",
       "    </tr>\n",
       "    <tr>\n",
       "      <th>AAACCCAAGCTAGATA-NPSAD-20201112-A1-cDNA</th>\n",
       "      <td>known_same_class</td>\n",
       "      <td>M1176</td>\n",
       "      <td>M1176</td>\n",
       "    </tr>\n",
       "    <tr>\n",
       "      <th>AAACCCAAGGACTAAT-NPSAD-20201112-A1-cDNA</th>\n",
       "      <td>known_class_vireo_unclass</td>\n",
       "      <td>M45480</td>\n",
       "      <td>Negative</td>\n",
       "    </tr>\n",
       "    <tr>\n",
       "      <th>AAACCCAAGGAGAATG-NPSAD-20201112-A1-cDNA</th>\n",
       "      <td>no_gt_but_class</td>\n",
       "      <td>H1357</td>\n",
       "      <td>donor3</td>\n",
       "    </tr>\n",
       "    <tr>\n",
       "      <th>AAACCCAAGGAGATAG-NPSAD-20201112-A1-cDNA</th>\n",
       "      <td>known_same_class</td>\n",
       "      <td>M1176</td>\n",
       "      <td>M1176</td>\n",
       "    </tr>\n",
       "    <tr>\n",
       "      <th>AAACCCAAGGGAGTTC-NPSAD-20201112-A1-cDNA</th>\n",
       "      <td>no_gt_but_class</td>\n",
       "      <td>H898</td>\n",
       "      <td>donor5</td>\n",
       "    </tr>\n",
       "    <tr>\n",
       "      <th>AAACCCAAGGTCGTCC-NPSAD-20201112-A1-cDNA</th>\n",
       "      <td>no_gt_but_class</td>\n",
       "      <td>H1357</td>\n",
       "      <td>donor3</td>\n",
       "    </tr>\n",
       "  </tbody>\n",
       "</table>\n",
       "</div>"
      ],
      "text/plain": [
       "                                                            H_vs_V SubID_hd  \\\n",
       "AAACCCAAGACCATAA-NPSAD-20201112-A1-cDNA           known_same_class    M1176   \n",
       "AAACCCAAGACTACCT-NPSAD-20201112-A1-cDNA              no_gt_unclass     H898   \n",
       "AAACCCAAGCACCGAA-NPSAD-20201112-A1-cDNA         Doublet_to_Doublet  Doublet   \n",
       "AAACCCAAGCCTCATA-NPSAD-20201112-A1-cDNA           no_gt_into_known     H653   \n",
       "AAACCCAAGCTAGATA-NPSAD-20201112-A1-cDNA           known_same_class    M1176   \n",
       "AAACCCAAGGACTAAT-NPSAD-20201112-A1-cDNA  known_class_vireo_unclass   M45480   \n",
       "AAACCCAAGGAGAATG-NPSAD-20201112-A1-cDNA            no_gt_but_class    H1357   \n",
       "AAACCCAAGGAGATAG-NPSAD-20201112-A1-cDNA           known_same_class    M1176   \n",
       "AAACCCAAGGGAGTTC-NPSAD-20201112-A1-cDNA            no_gt_but_class     H898   \n",
       "AAACCCAAGGTCGTCC-NPSAD-20201112-A1-cDNA            no_gt_but_class    H1357   \n",
       "\n",
       "                                        SubID_vireo  \n",
       "AAACCCAAGACCATAA-NPSAD-20201112-A1-cDNA       M1176  \n",
       "AAACCCAAGACTACCT-NPSAD-20201112-A1-cDNA    Negative  \n",
       "AAACCCAAGCACCGAA-NPSAD-20201112-A1-cDNA     Doublet  \n",
       "AAACCCAAGCCTCATA-NPSAD-20201112-A1-cDNA      M76138  \n",
       "AAACCCAAGCTAGATA-NPSAD-20201112-A1-cDNA       M1176  \n",
       "AAACCCAAGGACTAAT-NPSAD-20201112-A1-cDNA    Negative  \n",
       "AAACCCAAGGAGAATG-NPSAD-20201112-A1-cDNA      donor3  \n",
       "AAACCCAAGGAGATAG-NPSAD-20201112-A1-cDNA       M1176  \n",
       "AAACCCAAGGGAGTTC-NPSAD-20201112-A1-cDNA      donor5  \n",
       "AAACCCAAGGTCGTCC-NPSAD-20201112-A1-cDNA      donor3  "
      ]
     },
     "execution_count": 17,
     "metadata": {},
     "output_type": "execute_result"
    }
   ],
   "source": [
    "adata2.obs[['H_vs_V', 'SubID_hd', 'SubID_vireo']].head(10)"
   ]
  },
  {
   "cell_type": "code",
   "execution_count": 18,
   "id": "753729f7",
   "metadata": {},
   "outputs": [
    {
     "data": {
      "text/html": [
       "<div>\n",
       "<style scoped>\n",
       "    .dataframe tbody tr th:only-of-type {\n",
       "        vertical-align: middle;\n",
       "    }\n",
       "\n",
       "    .dataframe tbody tr th {\n",
       "        vertical-align: top;\n",
       "    }\n",
       "\n",
       "    .dataframe thead th {\n",
       "        text-align: right;\n",
       "    }\n",
       "</style>\n",
       "<table border=\"1\" class=\"dataframe\">\n",
       "  <thead>\n",
       "    <tr style=\"text-align: right;\">\n",
       "      <th></th>\n",
       "      <th>H_vs_V</th>\n",
       "      <th>SubID_hd</th>\n",
       "      <th>SubID_vireo</th>\n",
       "    </tr>\n",
       "  </thead>\n",
       "  <tbody>\n",
       "    <tr>\n",
       "      <th>AAACCCAAGCACCGAA-NPSAD-20201112-A1-cDNA</th>\n",
       "      <td>Doublet_to_Doublet</td>\n",
       "      <td>Doublet</td>\n",
       "      <td>Doublet</td>\n",
       "    </tr>\n",
       "    <tr>\n",
       "      <th>AAACCCACACACGCCA-NPSAD-20201112-A1-cDNA</th>\n",
       "      <td>Doublet_to_Doublet</td>\n",
       "      <td>Doublet</td>\n",
       "      <td>Doublet</td>\n",
       "    </tr>\n",
       "    <tr>\n",
       "      <th>AAACCCAGTCCTCATC-NPSAD-20201112-A1-cDNA</th>\n",
       "      <td>Doublet_to_Doublet</td>\n",
       "      <td>Doublet</td>\n",
       "      <td>Doublet</td>\n",
       "    </tr>\n",
       "    <tr>\n",
       "      <th>AAACCCAGTGCGGCTT-NPSAD-20201112-A1-cDNA</th>\n",
       "      <td>Doublet_to_Doublet</td>\n",
       "      <td>Doublet</td>\n",
       "      <td>Doublet</td>\n",
       "    </tr>\n",
       "    <tr>\n",
       "      <th>AAACCCATCTTAGCCC-NPSAD-20201112-A1-cDNA</th>\n",
       "      <td>Doublet_to_known_class</td>\n",
       "      <td>Doublet</td>\n",
       "      <td>M1176</td>\n",
       "    </tr>\n",
       "    <tr>\n",
       "      <th>AAACGAAAGGATGTTA-NPSAD-20201112-A1-cDNA</th>\n",
       "      <td>Doublet_to_unknown</td>\n",
       "      <td>Doublet</td>\n",
       "      <td>donor4</td>\n",
       "    </tr>\n",
       "    <tr>\n",
       "      <th>AAACGAAAGGTGCAGT-NPSAD-20201112-A1-cDNA</th>\n",
       "      <td>Doublet_to_known_class</td>\n",
       "      <td>Doublet</td>\n",
       "      <td>M1176</td>\n",
       "    </tr>\n",
       "    <tr>\n",
       "      <th>AAACGAAAGTTGGCGA-NPSAD-20201112-A1-cDNA</th>\n",
       "      <td>Doublet_to_Doublet</td>\n",
       "      <td>Doublet</td>\n",
       "      <td>Doublet</td>\n",
       "    </tr>\n",
       "    <tr>\n",
       "      <th>AAACGCTAGTAGAATC-NPSAD-20201112-A1-cDNA</th>\n",
       "      <td>Doublet_to_unknown</td>\n",
       "      <td>Doublet</td>\n",
       "      <td>donor5</td>\n",
       "    </tr>\n",
       "    <tr>\n",
       "      <th>AAACGCTCAAAGGGTC-NPSAD-20201112-A1-cDNA</th>\n",
       "      <td>Doublet_to_unknown</td>\n",
       "      <td>Doublet</td>\n",
       "      <td>donor5</td>\n",
       "    </tr>\n",
       "  </tbody>\n",
       "</table>\n",
       "</div>"
      ],
      "text/plain": [
       "                                                         H_vs_V SubID_hd  \\\n",
       "AAACCCAAGCACCGAA-NPSAD-20201112-A1-cDNA      Doublet_to_Doublet  Doublet   \n",
       "AAACCCACACACGCCA-NPSAD-20201112-A1-cDNA      Doublet_to_Doublet  Doublet   \n",
       "AAACCCAGTCCTCATC-NPSAD-20201112-A1-cDNA      Doublet_to_Doublet  Doublet   \n",
       "AAACCCAGTGCGGCTT-NPSAD-20201112-A1-cDNA      Doublet_to_Doublet  Doublet   \n",
       "AAACCCATCTTAGCCC-NPSAD-20201112-A1-cDNA  Doublet_to_known_class  Doublet   \n",
       "AAACGAAAGGATGTTA-NPSAD-20201112-A1-cDNA      Doublet_to_unknown  Doublet   \n",
       "AAACGAAAGGTGCAGT-NPSAD-20201112-A1-cDNA  Doublet_to_known_class  Doublet   \n",
       "AAACGAAAGTTGGCGA-NPSAD-20201112-A1-cDNA      Doublet_to_Doublet  Doublet   \n",
       "AAACGCTAGTAGAATC-NPSAD-20201112-A1-cDNA      Doublet_to_unknown  Doublet   \n",
       "AAACGCTCAAAGGGTC-NPSAD-20201112-A1-cDNA      Doublet_to_unknown  Doublet   \n",
       "\n",
       "                                        SubID_vireo  \n",
       "AAACCCAAGCACCGAA-NPSAD-20201112-A1-cDNA     Doublet  \n",
       "AAACCCACACACGCCA-NPSAD-20201112-A1-cDNA     Doublet  \n",
       "AAACCCAGTCCTCATC-NPSAD-20201112-A1-cDNA     Doublet  \n",
       "AAACCCAGTGCGGCTT-NPSAD-20201112-A1-cDNA     Doublet  \n",
       "AAACCCATCTTAGCCC-NPSAD-20201112-A1-cDNA       M1176  \n",
       "AAACGAAAGGATGTTA-NPSAD-20201112-A1-cDNA      donor4  \n",
       "AAACGAAAGGTGCAGT-NPSAD-20201112-A1-cDNA       M1176  \n",
       "AAACGAAAGTTGGCGA-NPSAD-20201112-A1-cDNA     Doublet  \n",
       "AAACGCTAGTAGAATC-NPSAD-20201112-A1-cDNA      donor5  \n",
       "AAACGCTCAAAGGGTC-NPSAD-20201112-A1-cDNA      donor5  "
      ]
     },
     "execution_count": 18,
     "metadata": {},
     "output_type": "execute_result"
    }
   ],
   "source": [
    "adata2[adata2.obs['SubID_hd'] == 'Doublet'].obs[['H_vs_V', 'SubID_hd', 'SubID_vireo']].head(10)"
   ]
  },
  {
   "cell_type": "code",
   "execution_count": 19,
   "id": "49978310",
   "metadata": {},
   "outputs": [
    {
     "data": {
      "text/html": [
       "<div>\n",
       "<style scoped>\n",
       "    .dataframe tbody tr th:only-of-type {\n",
       "        vertical-align: middle;\n",
       "    }\n",
       "\n",
       "    .dataframe tbody tr th {\n",
       "        vertical-align: top;\n",
       "    }\n",
       "\n",
       "    .dataframe thead th {\n",
       "        text-align: right;\n",
       "    }\n",
       "</style>\n",
       "<table border=\"1\" class=\"dataframe\">\n",
       "  <thead>\n",
       "    <tr style=\"text-align: right;\">\n",
       "      <th></th>\n",
       "      <th>H_vs_V</th>\n",
       "      <th>SubID_hd</th>\n",
       "      <th>SubID_vireo</th>\n",
       "    </tr>\n",
       "  </thead>\n",
       "  <tbody>\n",
       "    <tr>\n",
       "      <th>AAACGAATCATTGGTG-NPSAD-20201112-A1-cDNA</th>\n",
       "      <td>Negative_to_known_class</td>\n",
       "      <td>Negative</td>\n",
       "      <td>M76138</td>\n",
       "    </tr>\n",
       "    <tr>\n",
       "      <th>AAAGAACCATCTTCGC-NPSAD-20201112-A1-cDNA</th>\n",
       "      <td>Negative_to_unknown</td>\n",
       "      <td>Negative</td>\n",
       "      <td>donor5</td>\n",
       "    </tr>\n",
       "    <tr>\n",
       "      <th>AAAGAACTCCTCTTTC-NPSAD-20201112-A1-cDNA</th>\n",
       "      <td>Negative_to_unknown</td>\n",
       "      <td>Negative</td>\n",
       "      <td>donor3</td>\n",
       "    </tr>\n",
       "    <tr>\n",
       "      <th>AAAGGATGTCCTCATC-NPSAD-20201112-A1-cDNA</th>\n",
       "      <td>Negative_to_unknown</td>\n",
       "      <td>Negative</td>\n",
       "      <td>donor5</td>\n",
       "    </tr>\n",
       "    <tr>\n",
       "      <th>AAAGGGCGTCGCGTTG-NPSAD-20201112-A1-cDNA</th>\n",
       "      <td>Negative_to_known_class</td>\n",
       "      <td>Negative</td>\n",
       "      <td>M1176</td>\n",
       "    </tr>\n",
       "    <tr>\n",
       "      <th>AAAGTGACACGACGCT-NPSAD-20201112-A1-cDNA</th>\n",
       "      <td>Negative_to_unknown</td>\n",
       "      <td>Negative</td>\n",
       "      <td>donor3</td>\n",
       "    </tr>\n",
       "    <tr>\n",
       "      <th>AAAGTGATCCTCACGT-NPSAD-20201112-A1-cDNA</th>\n",
       "      <td>Negative_to_unknown</td>\n",
       "      <td>Negative</td>\n",
       "      <td>donor3</td>\n",
       "    </tr>\n",
       "    <tr>\n",
       "      <th>AAATGGACACTCCGAG-NPSAD-20201112-A1-cDNA</th>\n",
       "      <td>Negative_to_unknown</td>\n",
       "      <td>Negative</td>\n",
       "      <td>donor5</td>\n",
       "    </tr>\n",
       "    <tr>\n",
       "      <th>AACAACCGTGAATTAG-NPSAD-20201112-A1-cDNA</th>\n",
       "      <td>Negative_to_Doublet</td>\n",
       "      <td>Negative</td>\n",
       "      <td>Doublet</td>\n",
       "    </tr>\n",
       "    <tr>\n",
       "      <th>AACAAGAGTTTCGACA-NPSAD-20201112-A1-cDNA</th>\n",
       "      <td>Negative_to_known_class</td>\n",
       "      <td>Negative</td>\n",
       "      <td>M1176</td>\n",
       "    </tr>\n",
       "  </tbody>\n",
       "</table>\n",
       "</div>"
      ],
      "text/plain": [
       "                                                          H_vs_V  SubID_hd  \\\n",
       "AAACGAATCATTGGTG-NPSAD-20201112-A1-cDNA  Negative_to_known_class  Negative   \n",
       "AAAGAACCATCTTCGC-NPSAD-20201112-A1-cDNA      Negative_to_unknown  Negative   \n",
       "AAAGAACTCCTCTTTC-NPSAD-20201112-A1-cDNA      Negative_to_unknown  Negative   \n",
       "AAAGGATGTCCTCATC-NPSAD-20201112-A1-cDNA      Negative_to_unknown  Negative   \n",
       "AAAGGGCGTCGCGTTG-NPSAD-20201112-A1-cDNA  Negative_to_known_class  Negative   \n",
       "AAAGTGACACGACGCT-NPSAD-20201112-A1-cDNA      Negative_to_unknown  Negative   \n",
       "AAAGTGATCCTCACGT-NPSAD-20201112-A1-cDNA      Negative_to_unknown  Negative   \n",
       "AAATGGACACTCCGAG-NPSAD-20201112-A1-cDNA      Negative_to_unknown  Negative   \n",
       "AACAACCGTGAATTAG-NPSAD-20201112-A1-cDNA      Negative_to_Doublet  Negative   \n",
       "AACAAGAGTTTCGACA-NPSAD-20201112-A1-cDNA  Negative_to_known_class  Negative   \n",
       "\n",
       "                                        SubID_vireo  \n",
       "AAACGAATCATTGGTG-NPSAD-20201112-A1-cDNA      M76138  \n",
       "AAAGAACCATCTTCGC-NPSAD-20201112-A1-cDNA      donor5  \n",
       "AAAGAACTCCTCTTTC-NPSAD-20201112-A1-cDNA      donor3  \n",
       "AAAGGATGTCCTCATC-NPSAD-20201112-A1-cDNA      donor5  \n",
       "AAAGGGCGTCGCGTTG-NPSAD-20201112-A1-cDNA       M1176  \n",
       "AAAGTGACACGACGCT-NPSAD-20201112-A1-cDNA      donor3  \n",
       "AAAGTGATCCTCACGT-NPSAD-20201112-A1-cDNA      donor3  \n",
       "AAATGGACACTCCGAG-NPSAD-20201112-A1-cDNA      donor5  \n",
       "AACAACCGTGAATTAG-NPSAD-20201112-A1-cDNA     Doublet  \n",
       "AACAAGAGTTTCGACA-NPSAD-20201112-A1-cDNA       M1176  "
      ]
     },
     "execution_count": 19,
     "metadata": {},
     "output_type": "execute_result"
    }
   ],
   "source": [
    "adata2[adata2.obs['SubID_hd'] == 'Negative'].obs[['H_vs_V', 'SubID_hd', 'SubID_vireo']].head(10)"
   ]
  },
  {
   "cell_type": "code",
   "execution_count": 20,
   "id": "d56f4b3a",
   "metadata": {},
   "outputs": [
    {
     "data": {
      "text/html": [
       "<div>\n",
       "<style scoped>\n",
       "    .dataframe tbody tr th:only-of-type {\n",
       "        vertical-align: middle;\n",
       "    }\n",
       "\n",
       "    .dataframe tbody tr th {\n",
       "        vertical-align: top;\n",
       "    }\n",
       "\n",
       "    .dataframe thead th {\n",
       "        text-align: right;\n",
       "    }\n",
       "</style>\n",
       "<table border=\"1\" class=\"dataframe\">\n",
       "  <thead>\n",
       "    <tr style=\"text-align: right;\">\n",
       "      <th></th>\n",
       "      <th>H_vs_V</th>\n",
       "      <th>SubID_hd</th>\n",
       "      <th>SubID_vireo</th>\n",
       "    </tr>\n",
       "  </thead>\n",
       "  <tbody>\n",
       "    <tr>\n",
       "      <th>AAACCCACATGAGTAA-NPSAD-20201030-C1-cDNA</th>\n",
       "      <td>Not_Present_to_unclass</td>\n",
       "      <td>Not Present</td>\n",
       "      <td>Negative</td>\n",
       "    </tr>\n",
       "    <tr>\n",
       "      <th>AATTCCTAGATCACCT-NPSAD-20201030-C1-cDNA</th>\n",
       "      <td>Not_Present_to_known</td>\n",
       "      <td>Not Present</td>\n",
       "      <td>M26992</td>\n",
       "    </tr>\n",
       "    <tr>\n",
       "      <th>ACATCCCAGAACTGAT-NPSAD-20201030-C1-cDNA</th>\n",
       "      <td>Not_Present_to_known</td>\n",
       "      <td>Not Present</td>\n",
       "      <td>M88010</td>\n",
       "    </tr>\n",
       "    <tr>\n",
       "      <th>AGAACCTGTGTTGCCG-NPSAD-20201030-C1-cDNA</th>\n",
       "      <td>Not_Present_to_unclass</td>\n",
       "      <td>Not Present</td>\n",
       "      <td>Negative</td>\n",
       "    </tr>\n",
       "    <tr>\n",
       "      <th>AGATGCTTCAAGCCAT-NPSAD-20201030-C1-cDNA</th>\n",
       "      <td>Not_Present_to_known</td>\n",
       "      <td>Not Present</td>\n",
       "      <td>M88010</td>\n",
       "    </tr>\n",
       "    <tr>\n",
       "      <th>AGCATCATCTACTGCC-NPSAD-20201030-C1-cDNA</th>\n",
       "      <td>Not_Present_to_known</td>\n",
       "      <td>Not Present</td>\n",
       "      <td>M88010</td>\n",
       "    </tr>\n",
       "    <tr>\n",
       "      <th>AGGACGAAGGATGAGA-NPSAD-20201030-C1-cDNA</th>\n",
       "      <td>Not_Present_to_unclass</td>\n",
       "      <td>Not Present</td>\n",
       "      <td>Negative</td>\n",
       "    </tr>\n",
       "    <tr>\n",
       "      <th>AGGCCACCACAGAAGC-NPSAD-20201030-C1-cDNA</th>\n",
       "      <td>Not_Present_to_unclass</td>\n",
       "      <td>Not Present</td>\n",
       "      <td>Negative</td>\n",
       "    </tr>\n",
       "    <tr>\n",
       "      <th>AGTAACCTCACCTACC-NPSAD-20201030-C1-cDNA</th>\n",
       "      <td>Not_Present_to_known</td>\n",
       "      <td>Not Present</td>\n",
       "      <td>M88010</td>\n",
       "    </tr>\n",
       "    <tr>\n",
       "      <th>ATCACGATCCGACATA-NPSAD-20201030-C1-cDNA</th>\n",
       "      <td>Not_Present_to_unclass</td>\n",
       "      <td>Not Present</td>\n",
       "      <td>Negative</td>\n",
       "    </tr>\n",
       "  </tbody>\n",
       "</table>\n",
       "</div>"
      ],
      "text/plain": [
       "                                                         H_vs_V     SubID_hd  \\\n",
       "AAACCCACATGAGTAA-NPSAD-20201030-C1-cDNA  Not_Present_to_unclass  Not Present   \n",
       "AATTCCTAGATCACCT-NPSAD-20201030-C1-cDNA    Not_Present_to_known  Not Present   \n",
       "ACATCCCAGAACTGAT-NPSAD-20201030-C1-cDNA    Not_Present_to_known  Not Present   \n",
       "AGAACCTGTGTTGCCG-NPSAD-20201030-C1-cDNA  Not_Present_to_unclass  Not Present   \n",
       "AGATGCTTCAAGCCAT-NPSAD-20201030-C1-cDNA    Not_Present_to_known  Not Present   \n",
       "AGCATCATCTACTGCC-NPSAD-20201030-C1-cDNA    Not_Present_to_known  Not Present   \n",
       "AGGACGAAGGATGAGA-NPSAD-20201030-C1-cDNA  Not_Present_to_unclass  Not Present   \n",
       "AGGCCACCACAGAAGC-NPSAD-20201030-C1-cDNA  Not_Present_to_unclass  Not Present   \n",
       "AGTAACCTCACCTACC-NPSAD-20201030-C1-cDNA    Not_Present_to_known  Not Present   \n",
       "ATCACGATCCGACATA-NPSAD-20201030-C1-cDNA  Not_Present_to_unclass  Not Present   \n",
       "\n",
       "                                        SubID_vireo  \n",
       "AAACCCACATGAGTAA-NPSAD-20201030-C1-cDNA    Negative  \n",
       "AATTCCTAGATCACCT-NPSAD-20201030-C1-cDNA      M26992  \n",
       "ACATCCCAGAACTGAT-NPSAD-20201030-C1-cDNA      M88010  \n",
       "AGAACCTGTGTTGCCG-NPSAD-20201030-C1-cDNA    Negative  \n",
       "AGATGCTTCAAGCCAT-NPSAD-20201030-C1-cDNA      M88010  \n",
       "AGCATCATCTACTGCC-NPSAD-20201030-C1-cDNA      M88010  \n",
       "AGGACGAAGGATGAGA-NPSAD-20201030-C1-cDNA    Negative  \n",
       "AGGCCACCACAGAAGC-NPSAD-20201030-C1-cDNA    Negative  \n",
       "AGTAACCTCACCTACC-NPSAD-20201030-C1-cDNA      M88010  \n",
       "ATCACGATCCGACATA-NPSAD-20201030-C1-cDNA    Negative  "
      ]
     },
     "execution_count": 20,
     "metadata": {},
     "output_type": "execute_result"
    }
   ],
   "source": [
    "adata2[adata2.obs['SubID_hd'] == 'Not Present'].obs[['H_vs_V', 'SubID_hd', 'SubID_vireo']].head(10)"
   ]
  },
  {
   "cell_type": "code",
   "execution_count": 21,
   "id": "979b6ba4",
   "metadata": {},
   "outputs": [
    {
     "data": {
      "text/plain": [
       "Counter({'M1176': 10105,\n",
       "         'Negative': 15156,\n",
       "         'Doublet': 10288,\n",
       "         'M76138': 5294,\n",
       "         'donor3': 11066,\n",
       "         'donor5': 23587,\n",
       "         'donor4': 14161,\n",
       "         'M45480': 2015,\n",
       "         'M44145': 5474,\n",
       "         'M67780': 6400,\n",
       "         'M48326': 3946,\n",
       "         'M34836': 4776,\n",
       "         'M29736': 2364,\n",
       "         'M8926': 3854,\n",
       "         'M30150': 5431,\n",
       "         'M55245': 6251,\n",
       "         'M24257': 7299,\n",
       "         'M32215': 2703,\n",
       "         'M84511': 10915,\n",
       "         'M9161': 3482,\n",
       "         'M11589': 5922,\n",
       "         'M88010': 2724,\n",
       "         'M26992': 4034})"
      ]
     },
     "execution_count": 21,
     "metadata": {},
     "output_type": "execute_result"
    }
   ],
   "source": [
    "Counter(adata2.obs['SubID_vireo'])"
   ]
  },
  {
   "cell_type": "code",
   "execution_count": 22,
   "id": "0552a141",
   "metadata": {},
   "outputs": [
    {
     "data": {
      "text/plain": [
       "['known_same_class',\n",
       " 'no_gt_unclass',\n",
       " 'Doublet_to_Doublet',\n",
       " 'no_gt_but_class',\n",
       " 'no_gt_into_known',\n",
       " 'known_class_vireo_unclass',\n",
       " 'Doublet_to_unknown',\n",
       " 'Doublet_to_known_class',\n",
       " 'Doublet_to_Negative',\n",
       " 'Negative_to_unknown',\n",
       " 'Negative_to_known_class',\n",
       " 'known_class_to_unknown',\n",
       " 'Negative_to_Negative',\n",
       " 'known_class_to_known_other',\n",
       " 'Not_Present_to_unknown',\n",
       " 'Not_Present_to_unclass',\n",
       " 'Not_Present_to_known',\n",
       " 'Negative_to_Doublet']"
      ]
     },
     "execution_count": 22,
     "metadata": {},
     "output_type": "execute_result"
    }
   ],
   "source": [
    "list(Counter(adata1.obs['H_vs_V']).keys())"
   ]
  },
  {
   "cell_type": "code",
   "execution_count": 23,
   "id": "a682b067",
   "metadata": {},
   "outputs": [
    {
     "data": {
      "text/plain": [
       "Counter({'M1176': 8413,\n",
       "         'H898': 7065,\n",
       "         'Doublet': 29697,\n",
       "         'H653': 6271,\n",
       "         'M45480': 3597,\n",
       "         'H1357': 4082,\n",
       "         'Negative': 7166,\n",
       "         'M76138': 93,\n",
       "         'M12571': 7861,\n",
       "         'M44145': 5165,\n",
       "         'M67780': 6052,\n",
       "         'M3114': 6431,\n",
       "         'M48326': 3883,\n",
       "         'M30944': 3173,\n",
       "         'M34836': 4220,\n",
       "         'M29736': 2361,\n",
       "         'M12792': 2274,\n",
       "         'M1746': 1646,\n",
       "         'M8926': 3393,\n",
       "         'M580893': 560,\n",
       "         'M30150': 5022,\n",
       "         'M55245': 5972,\n",
       "         'M24257': 6374,\n",
       "         'M32215': 4543,\n",
       "         'M72578': 4506,\n",
       "         'H1563': 1522,\n",
       "         'M84511': 9093,\n",
       "         'M9161': 3138,\n",
       "         'M11589': 4773,\n",
       "         'Not Present': 134,\n",
       "         'M88010': 2631,\n",
       "         'R31291350': 2487,\n",
       "         'M26992': 3649})"
      ]
     },
     "execution_count": 23,
     "metadata": {},
     "output_type": "execute_result"
    }
   ],
   "source": [
    "Counter(adata2.obs['SubID_ms'])"
   ]
  },
  {
   "cell_type": "code",
   "execution_count": 24,
   "id": "598e56ea",
   "metadata": {},
   "outputs": [
    {
     "data": {
      "text/plain": [
       "4547"
      ]
     },
     "execution_count": 24,
     "metadata": {},
     "output_type": "execute_result"
    }
   ],
   "source": [
    "adata1[(adata1.obs['set'] == 'NPSAD-20201112-A') & (adata1.obs['rep'] == '1') & (adata1.obs['H_vs_V'] == 'known_same_class')].shape[0]"
   ]
  },
  {
   "cell_type": "code",
   "execution_count": 29,
   "id": "61e304b1",
   "metadata": {},
   "outputs": [],
   "source": [
    "demux_info = []\n",
    "for sample in demux_info_SS['Set'].unique():\n",
    "    #categories = list(Counter(adata1.obs['H_vs_V']).keys())\n",
    "    #new_set = set((sample, 'HTOdemux', '1'))\n",
    "    #temp_val = [new_set.add(adata1.obs[(adata1.obs['set'] == sample) & (adata1.obs['rep'] == '1') & (adata1.obs['H_vs_V'] == i)].shape[0]) for i in categories ]\n",
    "    #print(type(temp_val))\n",
    "    temp_val = Counter(adata1[(adata1.obs['set'] == sample) & (adata1.obs['rep'] == '1')].obs['H_vs_V'])\n",
    "    demux_info.append([sample, 'HTOdemux', '1', temp_val['known_same_class'], temp_val['known_class_vireo_unclass'] +temp_val['no_gt_unclass'], temp_val['Doublet_to_Doublet'] + temp_val['Doublet_to_Negative']+ temp_val['Negative_to_Negative']+ temp_val['Negative_to_Doublet'], \n",
    "                      temp_val['known_class_to_known_other'] + temp_val['known_class_to_unknown'] + temp_val['no_gt_into_known'], temp_val['Doublet_to_unknown'] + temp_val['Doublet_to_known_class']+temp_val['Negative_to_unknown']+temp_val['Negative_to_known_class']])\n",
    "    \n",
    "    temp_val = Counter(adata1[(adata1.obs['set'] == sample) & (adata1.obs['rep'] == '1')].obs['S_vs_V'])\n",
    "    demux_info.append([sample, 'Calico_solo', '1', temp_val['known_same_class'], temp_val['known_class_vireo_unclass'] +temp_val['no_gt_unclass'], temp_val['Doublet_to_Doublet'] + temp_val['Doublet_to_Negative']+ temp_val['Negative_to_Negative']+ temp_val['Negative_to_Doublet'], \n",
    "                      temp_val['known_class_to_known_other'] + temp_val['known_class_to_unknown'] + temp_val['no_gt_into_known'], temp_val['Doublet_to_unknown'] + temp_val['Doublet_to_known_class']+temp_val['Negative_to_unknown']+temp_val['Negative_to_known_class']])\n",
    "    \n",
    "    temp_val = Counter(adata1[(adata1.obs['set'] == sample) & (adata1.obs['rep'] == '1')].obs['M_vs_V'])\n",
    "    demux_info.append([sample, 'MULTIseq', '1', temp_val['known_same_class'], temp_val['known_class_vireo_unclass'] +temp_val['no_gt_unclass'], temp_val['Doublet_to_Doublet'] + temp_val['Doublet_to_Negative']+ temp_val['Negative_to_Negative']+ temp_val['Negative_to_Doublet'], \n",
    "                      temp_val['known_class_to_known_other'] + temp_val['known_class_to_unknown'] + temp_val['no_gt_into_known'], temp_val['Doublet_to_unknown'] + temp_val['Doublet_to_known_class']+temp_val['Negative_to_unknown']+temp_val['Negative_to_known_class']])\n",
    "    \n",
    "    \n",
    "    # Rep 2\n",
    "    temp_val = Counter(adata1[(adata1.obs['set'] == sample) & (adata1.obs['rep'] == '2')].obs['H_vs_V'])\n",
    "    demux_info.append([sample, 'HTOdemux', '2', temp_val['known_same_class'], temp_val['known_class_vireo_unclass'] +temp_val['no_gt_unclass'], temp_val['Doublet_to_Doublet'] + temp_val['Doublet_to_Negative']+ temp_val['Negative_to_Negative']+ temp_val['Negative_to_Doublet'], \n",
    "                      temp_val['known_class_to_known_other'] + temp_val['known_class_to_unknown'] + temp_val['no_gt_into_known'], temp_val['Doublet_to_unknown'] + temp_val['Doublet_to_known_class']+temp_val['Negative_to_unknown']+temp_val['Negative_to_known_class']])\n",
    "    \n",
    "    temp_val = Counter(adata1[(adata1.obs['set'] == sample) & (adata1.obs['rep'] == '2')].obs['S_vs_V'])\n",
    "    demux_info.append([sample, 'Calico_solo', '2', temp_val['known_same_class'], temp_val['known_class_vireo_unclass'] +temp_val['no_gt_unclass'], temp_val['Doublet_to_Doublet'] + temp_val['Doublet_to_Negative']+ temp_val['Negative_to_Negative']+ temp_val['Negative_to_Doublet'], \n",
    "                      temp_val['known_class_to_known_other'] + temp_val['known_class_to_unknown'] + temp_val['no_gt_into_known'], temp_val['Doublet_to_unknown'] + temp_val['Doublet_to_known_class']+temp_val['Negative_to_unknown']+temp_val['Negative_to_known_class']])\n",
    "    \n",
    "    temp_val = Counter(adata1[(adata1.obs['set'] == sample) & (adata1.obs['rep'] == '2')].obs['M_vs_V'])\n",
    "    demux_info.append([sample, 'MULTIseq', '2', temp_val['known_same_class'], temp_val['known_class_vireo_unclass'] +temp_val['no_gt_unclass'], temp_val['Doublet_to_Doublet'] + temp_val['Doublet_to_Negative']+ temp_val['Negative_to_Negative']+ temp_val['Negative_to_Doublet'], \n",
    "                      temp_val['known_class_to_known_other'] + temp_val['known_class_to_unknown'] + temp_val['no_gt_into_known'], temp_val['Doublet_to_unknown'] + temp_val['Doublet_to_known_class']+temp_val['Negative_to_unknown']+temp_val['Negative_to_known_class']])\n",
    "    \n",
    "    \n",
    "demux_df = pd.DataFrame(demux_info, columns=['Set', 'Demux_prog', 'Rep', 'Same_classification', 'Lost_cells_to_vireo', 'Same_unclassified' ,'Misc_class', 'Gained_cells_from_vireo'])\n",
    "demux_df.to_csv(\"10Sets_SS_Vireo_Final_analysis.tsv\", sep = \"\\t\", index=False)"
   ]
  },
  {
   "cell_type": "code",
   "execution_count": 30,
   "id": "943833ba",
   "metadata": {},
   "outputs": [],
   "source": [
    "demux_info = []\n",
    "for sample in demux_info_cr['Set'].unique():\n",
    "    #categories = list(Counter(adata2.obs['H_vs_V']).keys())\n",
    "    #new_set = set((sample, 'HTOdemux', '1'))\n",
    "    #temp_val = [new_set.add(adata2.obs[(adata2.obs['set'] == sample) & (adata2.obs['rep'] == '1') & (adata2.obs['H_vs_V'] == i)].shape[0]) for i in categories ]\n",
    "    #print(type(temp_val))\n",
    "    temp_val = Counter(adata2[(adata2.obs['set'] == sample) & (adata2.obs['rep'] == '1')].obs['H_vs_V'])\n",
    "    demux_info.append([sample, 'HTOdemux', '1', temp_val['known_same_class'], temp_val['known_class_vireo_unclass'] +temp_val['no_gt_unclass'], temp_val['Doublet_to_Doublet'] + temp_val['Doublet_to_Negative']+ temp_val['Negative_to_Negative']+ temp_val['Negative_to_Doublet'], \n",
    "                      temp_val['known_class_to_known_other'] + temp_val['known_class_to_unknown'] + temp_val['no_gt_into_known'], temp_val['Doublet_to_unknown'] + temp_val['Doublet_to_known_class']+temp_val['Negative_to_unknown']+temp_val['Negative_to_known_class']])\n",
    "    \n",
    "    temp_val = Counter(adata2[(adata2.obs['set'] == sample) & (adata2.obs['rep'] == '1')].obs['S_vs_V'])\n",
    "    demux_info.append([sample, 'Calico_solo', '1', temp_val['known_same_class'], temp_val['known_class_vireo_unclass'] +temp_val['no_gt_unclass'], temp_val['Doublet_to_Doublet'] + temp_val['Doublet_to_Negative']+ temp_val['Negative_to_Negative']+ temp_val['Negative_to_Doublet'], \n",
    "                      temp_val['known_class_to_known_other'] + temp_val['known_class_to_unknown'] + temp_val['no_gt_into_known'], temp_val['Doublet_to_unknown'] + temp_val['Doublet_to_known_class']+temp_val['Negative_to_unknown']+temp_val['Negative_to_known_class']])\n",
    "    \n",
    "    temp_val = Counter(adata2[(adata2.obs['set'] == sample) & (adata2.obs['rep'] == '1')].obs['M_vs_V'])\n",
    "    demux_info.append([sample, 'MULTIseq', '1', temp_val['known_same_class'], temp_val['known_class_vireo_unclass'] +temp_val['no_gt_unclass'], temp_val['Doublet_to_Doublet'] + temp_val['Doublet_to_Negative']+ temp_val['Negative_to_Negative']+ temp_val['Negative_to_Doublet'], \n",
    "                      temp_val['known_class_to_known_other'] + temp_val['known_class_to_unknown'] + temp_val['no_gt_into_known'], temp_val['Doublet_to_unknown'] + temp_val['Doublet_to_known_class']+temp_val['Negative_to_unknown']+temp_val['Negative_to_known_class']])\n",
    "    \n",
    "    \n",
    "    # Rep 2\n",
    "    temp_val = Counter(adata2[(adata2.obs['set'] == sample) & (adata2.obs['rep'] == '2')].obs['H_vs_V'])\n",
    "    demux_info.append([sample, 'HTOdemux', '2', temp_val['known_same_class'], temp_val['known_class_vireo_unclass'] +temp_val['no_gt_unclass'], temp_val['Doublet_to_Doublet'] + temp_val['Doublet_to_Negative']+ temp_val['Negative_to_Negative']+ temp_val['Negative_to_Doublet'], \n",
    "                      temp_val['known_class_to_known_other'] + temp_val['known_class_to_unknown'] + temp_val['no_gt_into_known'], temp_val['Doublet_to_unknown'] + temp_val['Doublet_to_known_class']+temp_val['Negative_to_unknown']+temp_val['Negative_to_known_class']])\n",
    "    \n",
    "    temp_val = Counter(adata2[(adata2.obs['set'] == sample) & (adata2.obs['rep'] == '2')].obs['S_vs_V'])\n",
    "    demux_info.append([sample, 'Calico_solo', '2', temp_val['known_same_class'], temp_val['known_class_vireo_unclass'] +temp_val['no_gt_unclass'], temp_val['Doublet_to_Doublet'] + temp_val['Doublet_to_Negative']+ temp_val['Negative_to_Negative']+ temp_val['Negative_to_Doublet'], \n",
    "                      temp_val['known_class_to_known_other'] + temp_val['known_class_to_unknown'] + temp_val['no_gt_into_known'], temp_val['Doublet_to_unknown'] + temp_val['Doublet_to_known_class']+temp_val['Negative_to_unknown']+temp_val['Negative_to_known_class']])\n",
    "    \n",
    "    temp_val = Counter(adata2[(adata2.obs['set'] == sample) & (adata2.obs['rep'] == '2')].obs['M_vs_V'])\n",
    "    demux_info.append([sample, 'MULTIseq', '2', temp_val['known_same_class'], temp_val['known_class_vireo_unclass'] +temp_val['no_gt_unclass'], temp_val['Doublet_to_Doublet'] + temp_val['Doublet_to_Negative']+ temp_val['Negative_to_Negative']+ temp_val['Negative_to_Doublet'], \n",
    "                      temp_val['known_class_to_known_other'] + temp_val['known_class_to_unknown'] + temp_val['no_gt_into_known'], temp_val['Doublet_to_unknown'] + temp_val['Doublet_to_known_class']+temp_val['Negative_to_unknown']+temp_val['Negative_to_known_class']])\n",
    "    \n",
    "    \n",
    "demux_df = pd.DataFrame(demux_info, columns=['Set', 'Demux_prog', 'Rep', 'Same_classification', 'Lost_cells_to_vireo', 'Same_unclassified' ,'Misc_class', 'Gained_cells_from_vireo'])\n",
    "demux_df.to_csv(\"10Sets_cr_Vireo_Final_analysis.tsv\", sep = \"\\t\", index=False)"
   ]
  },
  {
   "cell_type": "code",
   "execution_count": 25,
   "id": "e0adc759",
   "metadata": {},
   "outputs": [
    {
     "data": {
      "text/plain": [
       "Counter({'no_gt_but_class': 5001,\n",
       "         'Doublet_to_Doublet': 701,\n",
       "         'known_class_vireo_unclass': 993,\n",
       "         'no_gt_unclass': 1268,\n",
       "         'Doublet_to_known_class': 1298,\n",
       "         'known_same_class': 4348,\n",
       "         'Doublet_to_unknown': 1141,\n",
       "         'Negative_to_Negative': 369,\n",
       "         'no_gt_into_known': 1927,\n",
       "         'Negative_to_known_class': 1044,\n",
       "         'Negative_to_unknown': 1114,\n",
       "         'Doublet_to_Negative': 436,\n",
       "         'known_class_to_unknown': 172,\n",
       "         'known_class_to_known_other': 108,\n",
       "         'Not_Present_to_unknown': 13,\n",
       "         'Negative_to_Doublet': 59,\n",
       "         'Not_Present_to_unclass': 43,\n",
       "         'Not_Present_to_known': 2})"
      ]
     },
     "execution_count": 25,
     "metadata": {},
     "output_type": "execute_result"
    }
   ],
   "source": [
    "Counter(adata1[(adata1.obs['set'] == 'NPSAD-20201112-A') & (adata1.obs['rep'] == '2')].obs['H_vs_V'])"
   ]
  },
  {
   "cell_type": "code",
   "execution_count": 26,
   "id": "fe6e3d2d",
   "metadata": {},
   "outputs": [
    {
     "data": {
      "text/plain": [
       "Counter({'no_gt_but_class': 8277,\n",
       "         'known_same_class': 6805,\n",
       "         'Doublet_to_unknown': 1365,\n",
       "         'known_class_vireo_unclass': 858,\n",
       "         'Doublet_to_known_class': 955,\n",
       "         'Doublet_to_Negative': 332,\n",
       "         'Negative_to_known_class': 387,\n",
       "         'Negative_to_Doublet': 11,\n",
       "         'Doublet_to_Doublet': 1389,\n",
       "         'Negative_to_Negative': 204,\n",
       "         'no_gt_unclass': 569,\n",
       "         'Negative_to_unknown': 516,\n",
       "         'known_class_to_known_other': 18,\n",
       "         'known_class_to_unknown': 40,\n",
       "         'no_gt_into_known': 22})"
      ]
     },
     "execution_count": 26,
     "metadata": {},
     "output_type": "execute_result"
    }
   ],
   "source": [
    "Counter(adata2[(adata2.obs['set'] == 'NPSAD-20201113-C') & (adata2.obs['rep'] == '1')].obs['H_vs_V'])"
   ]
  },
  {
   "cell_type": "code",
   "execution_count": 27,
   "id": "7c4c82c9",
   "metadata": {},
   "outputs": [
    {
     "name": "stderr",
     "output_type": "stream",
     "text": [
      "... storing 'H_vs_V' as categorical\n",
      "... storing 'M_vs_V' as categorical\n",
      "... storing 'S_vs_V' as categorical\n",
      "... storing 'H_vs_V' as categorical\n",
      "... storing 'M_vs_V' as categorical\n",
      "... storing 'S_vs_V' as categorical\n"
     ]
    }
   ],
   "source": [
    "adata1.write('10sets_SS_vireoSet_after_analysis.h5ad')\n",
    "adata2.write('10sets_cr_vireoSet_after_analysis.h5ad')"
   ]
  },
  {
   "cell_type": "code",
   "execution_count": 46,
   "id": "c20925cc",
   "metadata": {},
   "outputs": [],
   "source": [
    "#demux_info = []\n",
    "for sample in demux_info_SS['Set'].unique()[:1]:\n",
    "    df_to_compare_1 = adata1[(adata1.obs['set'] == sample) & (adata1.obs['rep'] == '1')].obs[['SubID_cs', 'SubID_ms', 'SubID_hd', 'SubID_vireo']]\n",
    "    #df_to_compare_1.eq(df_to_compare_1.iloc[:, 0], axis=0).all(1)"
   ]
  },
  {
   "cell_type": "code",
   "execution_count": 47,
   "id": "0344c5d6",
   "metadata": {},
   "outputs": [
    {
     "data": {
      "text/html": [
       "<div>\n",
       "<style scoped>\n",
       "    .dataframe tbody tr th:only-of-type {\n",
       "        vertical-align: middle;\n",
       "    }\n",
       "\n",
       "    .dataframe tbody tr th {\n",
       "        vertical-align: top;\n",
       "    }\n",
       "\n",
       "    .dataframe thead th {\n",
       "        text-align: right;\n",
       "    }\n",
       "</style>\n",
       "<table border=\"1\" class=\"dataframe\">\n",
       "  <thead>\n",
       "    <tr style=\"text-align: right;\">\n",
       "      <th></th>\n",
       "      <th>SubID_cs</th>\n",
       "      <th>SubID_ms</th>\n",
       "      <th>SubID_hd</th>\n",
       "      <th>SubID_vireo</th>\n",
       "    </tr>\n",
       "  </thead>\n",
       "  <tbody>\n",
       "    <tr>\n",
       "      <th>AAACCCAAGACCATAA-NPSAD-20201112-A1-cDNA</th>\n",
       "      <td>M1176</td>\n",
       "      <td>M1176</td>\n",
       "      <td>M1176</td>\n",
       "      <td>M1176</td>\n",
       "    </tr>\n",
       "    <tr>\n",
       "      <th>AAACCCAAGACTACCT-NPSAD-20201112-A1-cDNA</th>\n",
       "      <td>H898</td>\n",
       "      <td>H898</td>\n",
       "      <td>H898</td>\n",
       "      <td>Negative</td>\n",
       "    </tr>\n",
       "    <tr>\n",
       "      <th>AAACCCAAGCACCGAA-NPSAD-20201112-A1-cDNA</th>\n",
       "      <td>Doublet</td>\n",
       "      <td>Doublet</td>\n",
       "      <td>Doublet</td>\n",
       "      <td>Doublet</td>\n",
       "    </tr>\n",
       "    <tr>\n",
       "      <th>AAACCCAAGCCTCATA-NPSAD-20201112-A1-cDNA</th>\n",
       "      <td>H653</td>\n",
       "      <td>H653</td>\n",
       "      <td>H653</td>\n",
       "      <td>donor4</td>\n",
       "    </tr>\n",
       "    <tr>\n",
       "      <th>AAACCCAAGCTAGATA-NPSAD-20201112-A1-cDNA</th>\n",
       "      <td>M1176</td>\n",
       "      <td>M1176</td>\n",
       "      <td>M1176</td>\n",
       "      <td>M1176</td>\n",
       "    </tr>\n",
       "    <tr>\n",
       "      <th>...</th>\n",
       "      <td>...</td>\n",
       "      <td>...</td>\n",
       "      <td>...</td>\n",
       "      <td>...</td>\n",
       "    </tr>\n",
       "    <tr>\n",
       "      <th>TTTGTTGTCATACGAC-NPSAD-20201112-A1-cDNA</th>\n",
       "      <td>H898</td>\n",
       "      <td>H898</td>\n",
       "      <td>H898</td>\n",
       "      <td>donor3</td>\n",
       "    </tr>\n",
       "    <tr>\n",
       "      <th>TTTGTTGTCCATTGGA-NPSAD-20201112-A1-cDNA</th>\n",
       "      <td>H898</td>\n",
       "      <td>H898</td>\n",
       "      <td>H898</td>\n",
       "      <td>donor3</td>\n",
       "    </tr>\n",
       "    <tr>\n",
       "      <th>TTTGTTGTCTCTAGGA-NPSAD-20201112-A1-cDNA</th>\n",
       "      <td>Doublet</td>\n",
       "      <td>Doublet</td>\n",
       "      <td>M76138</td>\n",
       "      <td>donor3</td>\n",
       "    </tr>\n",
       "    <tr>\n",
       "      <th>TTTGTTGTCTTAGGAC-NPSAD-20201112-A1-cDNA</th>\n",
       "      <td>H653</td>\n",
       "      <td>H653</td>\n",
       "      <td>H653</td>\n",
       "      <td>donor4</td>\n",
       "    </tr>\n",
       "    <tr>\n",
       "      <th>TTTGTTGTCTTGGGCG-NPSAD-20201112-A1-cDNA</th>\n",
       "      <td>H653</td>\n",
       "      <td>H653</td>\n",
       "      <td>H653</td>\n",
       "      <td>Negative</td>\n",
       "    </tr>\n",
       "  </tbody>\n",
       "</table>\n",
       "<p>19136 rows × 4 columns</p>\n",
       "</div>"
      ],
      "text/plain": [
       "                                        SubID_cs SubID_ms SubID_hd SubID_vireo\n",
       "AAACCCAAGACCATAA-NPSAD-20201112-A1-cDNA    M1176    M1176    M1176       M1176\n",
       "AAACCCAAGACTACCT-NPSAD-20201112-A1-cDNA     H898     H898     H898    Negative\n",
       "AAACCCAAGCACCGAA-NPSAD-20201112-A1-cDNA  Doublet  Doublet  Doublet     Doublet\n",
       "AAACCCAAGCCTCATA-NPSAD-20201112-A1-cDNA     H653     H653     H653      donor4\n",
       "AAACCCAAGCTAGATA-NPSAD-20201112-A1-cDNA    M1176    M1176    M1176       M1176\n",
       "...                                          ...      ...      ...         ...\n",
       "TTTGTTGTCATACGAC-NPSAD-20201112-A1-cDNA     H898     H898     H898      donor3\n",
       "TTTGTTGTCCATTGGA-NPSAD-20201112-A1-cDNA     H898     H898     H898      donor3\n",
       "TTTGTTGTCTCTAGGA-NPSAD-20201112-A1-cDNA  Doublet  Doublet   M76138      donor3\n",
       "TTTGTTGTCTTAGGAC-NPSAD-20201112-A1-cDNA     H653     H653     H653      donor4\n",
       "TTTGTTGTCTTGGGCG-NPSAD-20201112-A1-cDNA     H653     H653     H653    Negative\n",
       "\n",
       "[19136 rows x 4 columns]"
      ]
     },
     "execution_count": 47,
     "metadata": {},
     "output_type": "execute_result"
    }
   ],
   "source": [
    "df_to_compare_1"
   ]
  },
  {
   "cell_type": "code",
   "execution_count": 48,
   "id": "beaeb9fe",
   "metadata": {},
   "outputs": [
    {
     "data": {
      "text/plain": [
       "dict_keys(['M1176', 'H898', 'Doublet', 'H653', 'H1357', 'M45480', 'M76138', 'Negative'])"
      ]
     },
     "execution_count": 48,
     "metadata": {},
     "output_type": "execute_result"
    }
   ],
   "source": [
    "Counter(df_to_compare_1['SubID_cs']).keys()"
   ]
  },
  {
   "cell_type": "code",
   "execution_count": 49,
   "id": "ee077052",
   "metadata": {},
   "outputs": [
    {
     "data": {
      "text/plain": [
       "dict_keys(['M1176', 'H898', 'Doublet', 'H653', 'H1357', 'M45480', 'Negative', 'Not Present', 'M76138'])"
      ]
     },
     "execution_count": 49,
     "metadata": {},
     "output_type": "execute_result"
    }
   ],
   "source": [
    "Counter(df_to_compare_1['SubID_ms']).keys()"
   ]
  },
  {
   "cell_type": "code",
   "execution_count": 50,
   "id": "1d806e6f",
   "metadata": {},
   "outputs": [
    {
     "data": {
      "text/plain": [
       "dict_keys(['M1176', 'H898', 'Doublet', 'H653', 'H1357', 'M45480', 'Negative', 'M76138', 'Not Present'])"
      ]
     },
     "execution_count": 50,
     "metadata": {},
     "output_type": "execute_result"
    }
   ],
   "source": [
    "Counter(df_to_compare_1['SubID_hd']).keys()"
   ]
  },
  {
   "cell_type": "code",
   "execution_count": 51,
   "id": "555b5ddb",
   "metadata": {},
   "outputs": [
    {
     "data": {
      "text/plain": [
       "dict_keys(['M1176', 'Negative', 'Doublet', 'donor4', 'M76138', 'donor3', 'M45480', 'donor5'])"
      ]
     },
     "execution_count": 51,
     "metadata": {},
     "output_type": "execute_result"
    }
   ],
   "source": [
    "Counter(df_to_compare_1['SubID_vireo']).keys()"
   ]
  },
  {
   "cell_type": "code",
   "execution_count": 67,
   "id": "9de95289",
   "metadata": {},
   "outputs": [
    {
     "data": {
      "text/plain": [
       "Counter({'M1176': 4007,\n",
       "         'H898': 3164,\n",
       "         'Doublet': 3556,\n",
       "         'H653': 2933,\n",
       "         'H1357': 2237,\n",
       "         'M45480': 1627,\n",
       "         'Negative': 1467,\n",
       "         'M76138': 105,\n",
       "         'Not Present': 40})"
      ]
     },
     "execution_count": 67,
     "metadata": {},
     "output_type": "execute_result"
    }
   ],
   "source": [
    "Counter(df_to_compare_1['SubID_hd'])"
   ]
  },
  {
   "cell_type": "code",
   "execution_count": 68,
   "id": "20eea1be",
   "metadata": {},
   "outputs": [
    {
     "data": {
      "text/plain": [
       "Counter({'M1176': 4165,\n",
       "         'H898': 3452,\n",
       "         'Doublet': 3697,\n",
       "         'H653': 3075,\n",
       "         'H1357': 2099,\n",
       "         'M45480': 1621,\n",
       "         'Negative': 950,\n",
       "         'Not Present': 40,\n",
       "         'M76138': 37})"
      ]
     },
     "execution_count": 68,
     "metadata": {},
     "output_type": "execute_result"
    }
   ],
   "source": [
    "Counter(df_to_compare_1['SubID_ms'])"
   ]
  },
  {
   "cell_type": "code",
   "execution_count": 43,
   "id": "d90a83ee",
   "metadata": {},
   "outputs": [
    {
     "data": {
      "text/plain": [
       "False"
      ]
     },
     "execution_count": 43,
     "metadata": {},
     "output_type": "execute_result"
    }
   ],
   "source": [
    "df_to_compare_1.iloc[:,1].eq(df_to_compare_1.iloc[:, 2], axis=0).all()"
   ]
  },
  {
   "cell_type": "code",
   "execution_count": 59,
   "id": "de51aaad",
   "metadata": {},
   "outputs": [
    {
     "data": {
      "text/plain": [
       "Counter({False: 19096, True: 40})"
      ]
     },
     "execution_count": 59,
     "metadata": {},
     "output_type": "execute_result"
    }
   ],
   "source": [
    "Counter(df_to_compare_1['SubID_hd'] == \"Not Present\")"
   ]
  },
  {
   "cell_type": "code",
   "execution_count": 66,
   "id": "7ed0059e",
   "metadata": {},
   "outputs": [
    {
     "data": {
      "text/plain": [
       "AAGCCATTCGCATTAG-NPSAD-20201112-A1-cDNA    Not Present\n",
       "AATAGAGAGAACGTGC-NPSAD-20201112-A1-cDNA    Not Present\n",
       "AGACCATGTCATGCAT-NPSAD-20201112-A1-cDNA    Not Present\n",
       "AGGTTGTCATCTAACG-NPSAD-20201112-A1-cDNA    Not Present\n",
       "AGTCTCCTCTTGGATG-NPSAD-20201112-A1-cDNA    Not Present\n",
       "AGTGCCGTCTTTCCAA-NPSAD-20201112-A1-cDNA    Not Present\n",
       "ATACCGATCTCTGCTG-NPSAD-20201112-A1-cDNA    Not Present\n",
       "ATAGAGAAGTCATAGA-NPSAD-20201112-A1-cDNA    Not Present\n",
       "ATCGATGTCCATTTCA-NPSAD-20201112-A1-cDNA    Not Present\n",
       "ATTGGGTCAACGAGGT-NPSAD-20201112-A1-cDNA    Not Present\n",
       "CAAAGAAAGAAGCGCT-NPSAD-20201112-A1-cDNA    Not Present\n",
       "CAAGCTAGTCGAACAG-NPSAD-20201112-A1-cDNA    Not Present\n",
       "CACAGGCGTTCCAAAC-NPSAD-20201112-A1-cDNA    Not Present\n",
       "CACCGTTTCGATTCCC-NPSAD-20201112-A1-cDNA    Not Present\n",
       "CACGGGTAGCCATGCC-NPSAD-20201112-A1-cDNA    Not Present\n",
       "CGTAAGTGTTTCGTTT-NPSAD-20201112-A1-cDNA    Not Present\n",
       "CTATCTAAGCCGTAAG-NPSAD-20201112-A1-cDNA    Not Present\n",
       "CTTGAGACATTCTCTA-NPSAD-20201112-A1-cDNA    Not Present\n",
       "GAAGAATGTGATACAA-NPSAD-20201112-A1-cDNA    Not Present\n",
       "GAGAGGTAGTCATAGA-NPSAD-20201112-A1-cDNA    Not Present\n",
       "GAGTCATAGTATTAGG-NPSAD-20201112-A1-cDNA    Not Present\n",
       "GAGTGAGGTGTAGTGG-NPSAD-20201112-A1-cDNA    Not Present\n",
       "GCAGTTATCGAGCTGC-NPSAD-20201112-A1-cDNA    Not Present\n",
       "GGTAGAGCATGCAGCC-NPSAD-20201112-A1-cDNA    Not Present\n",
       "GGTTAACTCAGTAGGG-NPSAD-20201112-A1-cDNA    Not Present\n",
       "GTCCCATGTCATCACA-NPSAD-20201112-A1-cDNA    Not Present\n",
       "GTCTGTCTCTCTCCGA-NPSAD-20201112-A1-cDNA    Not Present\n",
       "GTGTTCCGTTCATCGA-NPSAD-20201112-A1-cDNA    Not Present\n",
       "GTTACAGAGAGATCGC-NPSAD-20201112-A1-cDNA    Not Present\n",
       "TCAAGCATCGGAGTAG-NPSAD-20201112-A1-cDNA    Not Present\n",
       "TCATTTGGTAGGTCAG-NPSAD-20201112-A1-cDNA    Not Present\n",
       "TCCAGAAGTACTTGTG-NPSAD-20201112-A1-cDNA    Not Present\n",
       "TCGGGACAGGCATCAG-NPSAD-20201112-A1-cDNA    Not Present\n",
       "TCTGGCTCAGCTACCG-NPSAD-20201112-A1-cDNA    Not Present\n",
       "TGATTCTAGTGCGTCC-NPSAD-20201112-A1-cDNA    Not Present\n",
       "TGATTTCAGATAGTGT-NPSAD-20201112-A1-cDNA    Not Present\n",
       "TGCGGGTAGTAGCTCT-NPSAD-20201112-A1-cDNA    Not Present\n",
       "TGTGAGTCAGGGAATC-NPSAD-20201112-A1-cDNA    Not Present\n",
       "TTCATGTAGCTGGCCT-NPSAD-20201112-A1-cDNA    Not Present\n",
       "TTTCGATAGTGGTCAG-NPSAD-20201112-A1-cDNA    Not Present\n",
       "Name: SubID_hd, dtype: category\n",
       "Categories (9, object): ['Doublet', 'H653', 'H898', 'H1357', ..., 'M45480', 'M76138', 'Negative', 'Not Present']"
      ]
     },
     "execution_count": 66,
     "metadata": {},
     "output_type": "execute_result"
    }
   ],
   "source": [
    "df_to_compare_1.loc[(df_to_compare_1['SubID_ms'] == \"Not Present\"), 'SubID_hd']"
   ]
  },
  {
   "cell_type": "code",
   "execution_count": 63,
   "id": "132907a9",
   "metadata": {},
   "outputs": [
    {
     "data": {
      "text/plain": [
       "(40,)"
      ]
     },
     "execution_count": 63,
     "metadata": {},
     "output_type": "execute_result"
    }
   ],
   "source": [
    "df_to_compare_1.loc[(df_to_compare_1['SubID_hd'] == \"Not Present\") | (df_to_compare_1['SubID_ms'] == \"Not Present\"), \"SubID_vireo\"].shape"
   ]
  },
  {
   "cell_type": "code",
   "execution_count": 64,
   "id": "00fdb6f5",
   "metadata": {},
   "outputs": [
    {
     "data": {
      "text/plain": [
       "(40,)"
      ]
     },
     "execution_count": 64,
     "metadata": {},
     "output_type": "execute_result"
    }
   ],
   "source": [
    "df_to_compare_1.loc[(df_to_compare_1['SubID_hd'] == \"Not Present\") & (df_to_compare_1['SubID_ms'] == \"Not Present\"), \"SubID_vireo\"].shape"
   ]
  },
  {
   "cell_type": "code",
   "execution_count": 70,
   "id": "db3313d0",
   "metadata": {},
   "outputs": [
    {
     "name": "stdout",
     "output_type": "stream",
     "text": [
      "NPSAD-20201112-A1\n",
      "19136\n",
      "NPSAD-20201112-A2\n",
      "20037\n",
      "NPSAD-20201113-C1\n",
      "21643\n",
      "NPSAD-20201113-C2\n",
      "20280\n",
      "NPSAD-20210217-C1\n",
      "8998\n",
      "NPSAD-20210217-C2\n",
      "8236\n",
      "NPSAD-20201215-C1\n",
      "18834\n",
      "NPSAD-20201215-C2\n",
      "14503\n",
      "NPSAD-20201030-C1\n",
      "16695\n",
      "NPSAD-20201030-C2\n",
      "18683\n"
     ]
    }
   ],
   "source": [
    "for sample in demux_info_SS['Set'].unique():\n",
    "    print(sample + '1')\n",
    "    print(adata1[(adata1.obs['set'] == sample) & (adata1.obs['rep'] == '1')].shape[0])\n",
    "    print(sample + '2')\n",
    "    print(adata1[(adata1.obs['set'] == sample) & (adata1.obs['rep'] == '2')].shape[0])"
   ]
  },
  {
   "cell_type": "code",
   "execution_count": 71,
   "id": "ae632e59",
   "metadata": {},
   "outputs": [
    {
     "name": "stdout",
     "output_type": "stream",
     "text": [
      "NPSAD-20201112-A1\n",
      "19407\n",
      "NPSAD-20201112-A2\n",
      "20339\n",
      "NPSAD-20201113-C1\n",
      "21748\n",
      "NPSAD-20201113-C2\n",
      "20376\n",
      "NPSAD-20210217-C1\n",
      "9016\n",
      "NPSAD-20210217-C2\n",
      "8262\n",
      "NPSAD-20201215-C1\n",
      "18825\n",
      "NPSAD-20201215-C2\n",
      "14530\n",
      "NPSAD-20201030-C1\n",
      "16454\n",
      "NPSAD-20201030-C2\n",
      "18290\n"
     ]
    }
   ],
   "source": [
    "for sample in demux_info_cr['Set'].unique():\n",
    "    print(sample + '1')\n",
    "    print(adata2[(adata2.obs['set'] == sample) & (adata2.obs['rep'] == '1')].shape[0])\n",
    "    print(sample + '2')\n",
    "    print(adata2[(adata2.obs['set'] == sample) & (adata2.obs['rep'] == '2')].shape[0])"
   ]
  },
  {
   "cell_type": "code",
   "execution_count": 75,
   "id": "468cee4c",
   "metadata": {},
   "outputs": [
    {
     "name": "stdout",
     "output_type": "stream",
     "text": [
      "NPSAD-20201112-A1\n",
      "Counter({'no_gt_unclass': 12, 'no_gt_but_class': 9, 'known_class_vireo_unclass': 8, 'known_class_to_unknown': 5, 'Doublet_to_Negative': 2, 'Doublet_to_Doublet': 1, 'no_gt_into_known': 1, 'Negative_to_known_class': 1, 'known_class_to_known_other': 1})\n",
      "NPSAD-20201112-A2\n",
      "Counter({'known_class_vireo_unclass': 23, 'no_gt_unclass': 18, 'no_gt_but_class': 7, 'Doublet_to_unknown': 3, 'known_class_to_unknown': 3, 'known_same_class': 1, 'no_gt_into_known': 1, 'Doublet_to_Negative': 1, 'Doublet_to_Doublet': 1})\n",
      "NPSAD-20201113-C1\n",
      "Counter({'no_gt_but_class': 25, 'no_gt_unclass': 20, 'known_class_vireo_unclass': 11, 'known_same_class': 10, 'Doublet_to_unknown': 6, 'Doublet_to_Negative': 5, 'Doublet_to_Doublet': 3, 'Negative_to_unknown': 3, 'Doublet_to_known_class': 2, 'known_class_to_unknown': 2})\n",
      "NPSAD-20201113-C2\n",
      "Counter({'no_gt_unclass': 48, 'no_gt_but_class': 14, 'known_class_vireo_unclass': 14, 'Doublet_to_Negative': 6, 'Negative_to_Negative': 5, 'Doublet_to_known_class': 4, 'known_same_class': 4, 'Negative_to_unknown': 3, 'Negative_to_Doublet': 3, 'Doublet_to_unknown': 2, 'known_class_to_unknown': 1})\n",
      "NPSAD-20210217-C1\n",
      "Counter({'known_class_to_known_other': 2, 'known_same_class': 2})\n",
      "NPSAD-20210217-C2\n",
      "Counter({'known_same_class': 5, 'known_class_to_known_other': 1})\n",
      "NPSAD-20201215-C1\n",
      "Counter({'known_same_class': 2, 'known_class_vireo_unclass': 1, 'no_gt_but_class': 1})\n",
      "NPSAD-20201215-C2\n",
      "Counter({'Negative_to_unknown': 1})\n",
      "NPSAD-20201030-C1\n",
      "Counter({'known_class_vireo_unclass': 62, 'known_same_class': 58, 'no_gt_but_class': 18, 'Negative_to_Negative': 12, 'Doublet_to_Negative': 11, 'no_gt_unclass': 5, 'Doublet_to_known_class': 4, 'Negative_to_Doublet': 3, 'known_class_to_known_other': 2, 'known_class_to_unknown': 1, 'Negative_to_known_class': 1})\n",
      "NPSAD-20201030-C2\n",
      "Counter({'known_class_vireo_unclass': 162, 'known_same_class': 74, 'no_gt_unclass': 40, 'Negative_to_Negative': 25, 'no_gt_but_class': 15, 'Doublet_to_Negative': 13, 'known_class_to_known_other': 10, 'Doublet_to_known_class': 7, 'Negative_to_known_class': 6, 'Doublet_to_Doublet': 3, 'Doublet_to_unknown': 3, 'Negative_to_unknown': 2, 'no_gt_into_known': 2, 'known_class_to_unknown': 2, 'Negative_to_Doublet': 1})\n"
     ]
    }
   ],
   "source": [
    "for sample in demux_info_SS['Set'].unique():\n",
    "    print(sample + '1')\n",
    "    print(Counter(adata1[(adata1.obs['set'] == sample) & (adata1.obs['rep'] == '1') & (adata1.obs['SubID_ms'] == 'Not Present')].obs['S_vs_V']))\n",
    "    \n",
    "    print(sample + '2')\n",
    "    print(Counter(adata1[(adata1.obs['set'] == sample) & (adata1.obs['rep'] == '2') & (adata1.obs['SubID_ms'] == 'Not Present')].obs['S_vs_V']))"
   ]
  },
  {
   "cell_type": "code",
   "execution_count": 76,
   "id": "0ca27062",
   "metadata": {},
   "outputs": [
    {
     "name": "stdout",
     "output_type": "stream",
     "text": [
      "NPSAD-20201112-A1\n",
      "Counter()\n",
      "NPSAD-20201112-A2\n",
      "Counter()\n",
      "NPSAD-20201113-C1\n",
      "Counter()\n",
      "NPSAD-20201113-C2\n",
      "Counter()\n",
      "NPSAD-20210217-C1\n",
      "Counter()\n",
      "NPSAD-20210217-C2\n",
      "Counter()\n",
      "NPSAD-20201215-C1\n",
      "Counter()\n",
      "NPSAD-20201215-C2\n",
      "Counter()\n",
      "NPSAD-20201030-C1\n",
      "Counter({'known_class_vireo_unclass': 13, 'known_same_class': 10, 'Doublet_to_Negative': 3, 'no_gt_but_class': 3, 'Doublet_to_known_class': 2, 'no_gt_unclass': 2})\n",
      "NPSAD-20201030-C2\n",
      "Counter({'known_class_vireo_unclass': 43, 'Negative_to_Negative': 19, 'known_same_class': 13, 'no_gt_unclass': 11, 'no_gt_but_class': 4, 'Doublet_to_known_class': 4, 'Doublet_to_Negative': 4, 'Negative_to_unknown': 1, 'Doublet_to_Doublet': 1, 'Doublet_to_unknown': 1})\n"
     ]
    }
   ],
   "source": [
    "for sample in demux_info_cr['Set'].unique():\n",
    "    print(sample + '1')\n",
    "    print(Counter(adata2[(adata2.obs['set'] == sample) & (adata2.obs['rep'] == '1') & (adata2.obs['SubID_ms'] == 'Not Present')].obs['S_vs_V']))\n",
    "    \n",
    "    print(sample + '2')\n",
    "    print(Counter(adata2[(adata2.obs['set'] == sample) & (adata2.obs['rep'] == '2') & (adata2.obs['SubID_ms'] == 'Not Present')].obs['S_vs_V']))"
   ]
  },
  {
   "cell_type": "code",
   "execution_count": 79,
   "id": "c385ddeb",
   "metadata": {},
   "outputs": [
    {
     "data": {
      "text/plain": [
       "Counter({'M1176': 4178,\n",
       "         'H898': 3508,\n",
       "         'Doublet': 3742,\n",
       "         'H653': 3110,\n",
       "         'M45480': 1766,\n",
       "         'H1357': 2105,\n",
       "         'Negative': 958,\n",
       "         'M76138': 40})"
      ]
     },
     "execution_count": 79,
     "metadata": {},
     "output_type": "execute_result"
    }
   ],
   "source": [
    "Counter(adata2[(adata2.obs['set'] == 'NPSAD-20201112-A') & (adata2.obs['rep'] == '1')].obs['SubID_ms'])"
   ]
  },
  {
   "cell_type": "code",
   "execution_count": 83,
   "id": "27a12a2a",
   "metadata": {},
   "outputs": [
    {
     "data": {
      "text/plain": [
       "Counter({'M1176': 4021,\n",
       "         'H898': 3215,\n",
       "         'Doublet': 3604,\n",
       "         'H653': 2964,\n",
       "         'M45480': 1767,\n",
       "         'H1357': 2245,\n",
       "         'Negative': 1480,\n",
       "         'M76138': 111})"
      ]
     },
     "execution_count": 83,
     "metadata": {},
     "output_type": "execute_result"
    }
   ],
   "source": [
    "Counter(adata2[(adata2.obs['set'] == 'NPSAD-20201112-A') & (adata2.obs['rep'] == '1')].obs['SubID_hd'])"
   ]
  },
  {
   "cell_type": "code",
   "execution_count": 84,
   "id": "55471e58",
   "metadata": {},
   "outputs": [
    {
     "name": "stdout",
     "output_type": "stream",
     "text": [
      "NPSAD-20201112-A1\n",
      "40\n",
      "NPSAD-20201112-A2\n",
      "58\n",
      "NPSAD-20201113-C1\n",
      "87\n",
      "NPSAD-20201113-C2\n",
      "104\n",
      "NPSAD-20210217-C1\n",
      "4\n",
      "NPSAD-20210217-C2\n",
      "6\n",
      "NPSAD-20201215-C1\n",
      "4\n",
      "NPSAD-20201215-C2\n",
      "1\n",
      "NPSAD-20201030-C1\n",
      "177\n",
      "NPSAD-20201030-C2\n",
      "365\n"
     ]
    }
   ],
   "source": [
    "for sample in demux_info_SS['Set'].unique():\n",
    "    print(sample + '1')\n",
    "    print(adata1[(adata1.obs['set'] == sample) & (adata1.obs['rep'] == '1') & (adata1.obs['SubID_ms'] == 'Not Present')].shape[0])\n",
    "    \n",
    "    print(sample + '2')\n",
    "    print(adata1[(adata1.obs['set'] == sample) & (adata1.obs['rep'] == '2') & (adata1.obs['SubID_ms'] == 'Not Present')].shape[0])"
   ]
  },
  {
   "cell_type": "code",
   "execution_count": 85,
   "id": "4160d051",
   "metadata": {},
   "outputs": [
    {
     "name": "stdout",
     "output_type": "stream",
     "text": [
      "NPSAD-20201112-A1\n",
      "0\n",
      "NPSAD-20201112-A2\n",
      "0\n",
      "NPSAD-20201113-C1\n",
      "0\n",
      "NPSAD-20201113-C2\n",
      "0\n",
      "NPSAD-20210217-C1\n",
      "0\n",
      "NPSAD-20210217-C2\n",
      "0\n",
      "NPSAD-20201215-C1\n",
      "0\n",
      "NPSAD-20201215-C2\n",
      "0\n",
      "NPSAD-20201030-C1\n",
      "33\n",
      "NPSAD-20201030-C2\n",
      "101\n"
     ]
    }
   ],
   "source": [
    "for sample in demux_info_cr['Set'].unique():\n",
    "    print(sample + '1')\n",
    "    print(adata2[(adata2.obs['set'] == sample) & (adata2.obs['rep'] == '1') & (adata2.obs['SubID_ms'] == 'Not Present')].shape[0])\n",
    "    \n",
    "    print(sample + '2')\n",
    "    print(adata2[(adata2.obs['set'] == sample) & (adata2.obs['rep'] == '2') & (adata2.obs['SubID_ms'] == 'Not Present')].shape[0])"
   ]
  },
  {
   "cell_type": "code",
   "execution_count": 87,
   "id": "2a6c6093",
   "metadata": {},
   "outputs": [],
   "source": [
    "check_df = adata1[(adata1.obs['set'] == sample) & (adata1.obs['rep'] == '1') & (adata1.obs['SubID_ms'] != 'Not Present')].obs[['SubID_cs', 'SubID_ms', 'S_vs_V']]"
   ]
  },
  {
   "cell_type": "code",
   "execution_count": 94,
   "id": "a5628244",
   "metadata": {},
   "outputs": [
    {
     "data": {
      "text/plain": [
       "Counter({'known_same_class': 495,\n",
       "         'known_class_vireo_unclass': 117,\n",
       "         'Doublet_to_known_class': 45,\n",
       "         'no_gt_into_known': 41,\n",
       "         'Doublet_to_Doublet': 14,\n",
       "         'no_gt_but_class': 23,\n",
       "         'known_class_to_known_other': 103,\n",
       "         'known_class_to_unknown': 7,\n",
       "         'no_gt_unclass': 21,\n",
       "         'Doublet_to_Negative': 17,\n",
       "         'Doublet_to_unknown': 2})"
      ]
     },
     "execution_count": 94,
     "metadata": {},
     "output_type": "execute_result"
    }
   ],
   "source": [
    "Counter(check_df.loc[~check_df.iloc[:, 0].eq(check_df.iloc[:,1]), 'S_vs_V'])"
   ]
  },
  {
   "cell_type": "code",
   "execution_count": 103,
   "id": "2cc671e5",
   "metadata": {},
   "outputs": [
    {
     "data": {
      "text/plain": [
       "dict_keys([True, False])"
      ]
     },
     "execution_count": 103,
     "metadata": {},
     "output_type": "execute_result"
    }
   ],
   "source": [
    "Counter(check_df.iloc[:, 0].eq(check_df.iloc[:,1])).keys()"
   ]
  },
  {
   "cell_type": "markdown",
   "id": "4fe93173",
   "metadata": {},
   "source": [
    "(CS+MS)+diff(CS+MS)Vireo"
   ]
  },
  {
   "cell_type": "code",
   "execution_count": 107,
   "id": "ce3ebfad",
   "metadata": {},
   "outputs": [
    {
     "name": "stdout",
     "output_type": "stream",
     "text": [
      "NPSAD-20201112-A1\n",
      "16726 2370 485 99\n",
      "NPSAD-20201112-A2\n",
      "17531 2448 238 54\n",
      "NPSAD-20201113-C1\n",
      "17786 3770 1716 189\n",
      "NPSAD-20201113-C2\n",
      "16815 3361 1575 155\n",
      "NPSAD-20210217-C1\n",
      "7935 1059 72 23\n",
      "NPSAD-20210217-C2\n",
      "7238 992 176 12\n",
      "NPSAD-20201215-C1\n",
      "18395 435 48 11\n",
      "NPSAD-20201215-C2\n",
      "14337 165 4 3\n",
      "NPSAD-20201030-C1\n",
      "15633 885 47 31\n",
      "NPSAD-20201030-C2\n",
      "17025 1293 12 3\n"
     ]
    }
   ],
   "source": [
    "#temp_l = []\n",
    "for sample in demux_info_SS['Set'].unique():\n",
    "    print(sample + '1')\n",
    "    check_df = adata1[(adata1.obs['set'] == sample) & (adata1.obs['rep'] == '1') & (adata1.obs['SubID_ms'] != 'Not Present')].obs[['SubID_cs', 'SubID_ms', 'S_vs_V']]\n",
    "    counter_cs_ms = Counter(check_df.iloc[:, 0].eq(check_df.iloc[:,1]))\n",
    "    check_dict = Counter(check_df.loc[~check_df.iloc[:, 0].eq(check_df.iloc[:,1]), 'S_vs_V'])\n",
    "    \n",
    "    print(counter_cs_ms[True], counter_cs_ms[False], check_dict['Doublet_to_known_class']+check_dict['Negative_to_known_class'] + check_dict['Doublet_to_unknown']+check_dict['Negative_to_unknown'],\n",
    "         check_dict['Doublet_to_Negative'] + check_dict['Doublet_to_Doublet'] + check_dict['Negative_to_Negative'] + check_dict['Negative_to_Doublet'])\n",
    "    \n",
    "    print(sample + '2')\n",
    "    check_df = adata1[(adata1.obs['set'] == sample) & (adata1.obs['rep'] == '2') & (adata1.obs['SubID_ms'] != 'Not Present')].obs[['SubID_cs', 'SubID_ms', 'S_vs_V']]\n",
    "    counter_cs_ms = Counter(check_df.iloc[:, 0].eq(check_df.iloc[:,1]))\n",
    "    check_dict = Counter(check_df.loc[~check_df.iloc[:, 0].eq(check_df.iloc[:,1]), 'S_vs_V'])\n",
    "    \n",
    "    print(counter_cs_ms[True], counter_cs_ms[False], check_dict['Doublet_to_known_class']+check_dict['Negative_to_known_class'] + check_dict['Doublet_to_unknown']+check_dict['Negative_to_unknown'],\n",
    "         check_dict['Doublet_to_Negative'] + check_dict['Doublet_to_Doublet'] + check_dict['Negative_to_Negative'] + check_dict['Negative_to_Doublet'])"
   ]
  },
  {
   "cell_type": "code",
   "execution_count": 106,
   "id": "ecdeaa77",
   "metadata": {},
   "outputs": [
    {
     "name": "stdout",
     "output_type": "stream",
     "text": [
      "NPSAD-20201112-A1\n",
      "17016 2391 490 100\n",
      "NPSAD-20201112-A2\n",
      "17865 2474 238 60\n",
      "NPSAD-20201113-C1\n",
      "17941 3807 1713 190\n",
      "NPSAD-20201113-C2\n",
      "16973 3403 1585 159\n",
      "NPSAD-20210217-C1\n",
      "7962 1054 71 24\n",
      "NPSAD-20210217-C2\n",
      "7261 1001 182 11\n",
      "NPSAD-20201215-C1\n",
      "18422 403 42 10\n",
      "NPSAD-20201215-C2\n",
      "14365 165 4 2\n",
      "NPSAD-20201030-C1\n",
      "15551 870 54 29\n",
      "NPSAD-20201030-C2\n",
      "16991 1198 10 2\n"
     ]
    }
   ],
   "source": [
    "for sample in demux_info_cr['Set'].unique():\n",
    "    print(sample + '1')\n",
    "    check_df = adata2[(adata2.obs['set'] == sample) & (adata2.obs['rep'] == '1') & (adata2.obs['SubID_ms'] != 'Not Present')].obs[['SubID_cs', 'SubID_ms', 'S_vs_V']]\n",
    "    counter_cs_ms = Counter(check_df.iloc[:, 0].eq(check_df.iloc[:,1]))\n",
    "    check_dict = Counter(check_df.loc[~check_df.iloc[:, 0].eq(check_df.iloc[:,1]), 'S_vs_V'])\n",
    "    \n",
    "    print(counter_cs_ms[True], counter_cs_ms[False], check_dict['Doublet_to_known_class']+check_dict['Negative_to_known_class'] + check_dict['Doublet_to_unknown']+check_dict['Negative_to_unknown'],\n",
    "         check_dict['Doublet_to_Negative'] + check_dict['Doublet_to_Doublet'] + check_dict['Negative_to_Negative'] + check_dict['Negative_to_Doublet'])\n",
    "    \n",
    "    print(sample + '2')\n",
    "    check_df = adata2[(adata2.obs['set'] == sample) & (adata2.obs['rep'] == '2') & (adata2.obs['SubID_ms'] != 'Not Present')].obs[['SubID_cs', 'SubID_ms', 'S_vs_V']]\n",
    "    counter_cs_ms = Counter(check_df.iloc[:, 0].eq(check_df.iloc[:,1]))\n",
    "    check_dict = Counter(check_df.loc[~check_df.iloc[:, 0].eq(check_df.iloc[:,1]), 'S_vs_V'])\n",
    "    \n",
    "    print(counter_cs_ms[True], counter_cs_ms[False], check_dict['Doublet_to_known_class']+check_dict['Negative_to_known_class'] + check_dict['Doublet_to_unknown']+check_dict['Negative_to_unknown'],\n",
    "         check_dict['Doublet_to_Negative'] + check_dict['Doublet_to_Doublet'] + check_dict['Negative_to_Negative'] + check_dict['Negative_to_Doublet'])"
   ]
  },
  {
   "cell_type": "markdown",
   "id": "89f07c6e",
   "metadata": {},
   "source": [
    "(CS+HD)+diff(CS+HD)Vireo"
   ]
  },
  {
   "cell_type": "code",
   "execution_count": 108,
   "id": "101994b9",
   "metadata": {},
   "outputs": [
    {
     "name": "stdout",
     "output_type": "stream",
     "text": [
      "NPSAD-20201112-A1\n",
      "16487 2609 461 128\n",
      "NPSAD-20201112-A2\n",
      "16386 3593 534 195\n",
      "NPSAD-20201113-C1\n",
      "16996 4560 2023 273\n",
      "NPSAD-20201113-C2\n",
      "16327 3849 1770 205\n",
      "NPSAD-20210217-C1\n",
      "8277 717 58 8\n",
      "NPSAD-20210217-C2\n",
      "7310 920 135 11\n",
      "NPSAD-20201215-C1\n",
      "18235 595 44 24\n",
      "NPSAD-20201215-C2\n",
      "14046 456 31 16\n",
      "NPSAD-20201030-C1\n",
      "15236 1282 132 82\n",
      "NPSAD-20201030-C2\n",
      "15881 2437 235 130\n"
     ]
    }
   ],
   "source": [
    "#temp_l = []\n",
    "for sample in demux_info_SS['Set'].unique():\n",
    "    print(sample + '1')\n",
    "    check_df = adata1[(adata1.obs['set'] == sample) & (adata1.obs['rep'] == '1') & (adata1.obs['SubID_hd'] != 'Not Present')].obs[['SubID_cs', 'SubID_hd', 'S_vs_V']]\n",
    "    counter_cs_ms = Counter(check_df.iloc[:, 0].eq(check_df.iloc[:,1]))\n",
    "    check_dict = Counter(check_df.loc[~check_df.iloc[:, 0].eq(check_df.iloc[:,1]), 'S_vs_V'])\n",
    "    \n",
    "    print(counter_cs_ms[True], counter_cs_ms[False], check_dict['Doublet_to_known_class']+check_dict['Negative_to_known_class'] + check_dict['Doublet_to_unknown']+check_dict['Negative_to_unknown'],\n",
    "         check_dict['Doublet_to_Negative'] + check_dict['Doublet_to_Doublet'] + check_dict['Negative_to_Negative'] + check_dict['Negative_to_Doublet'])\n",
    "    \n",
    "    print(sample + '2')\n",
    "    check_df = adata1[(adata1.obs['set'] == sample) & (adata1.obs['rep'] == '2') & (adata1.obs['SubID_hd'] != 'Not Present')].obs[['SubID_cs', 'SubID_hd', 'S_vs_V']]\n",
    "    counter_cs_ms = Counter(check_df.iloc[:, 0].eq(check_df.iloc[:,1]))\n",
    "    check_dict = Counter(check_df.loc[~check_df.iloc[:, 0].eq(check_df.iloc[:,1]), 'S_vs_V'])\n",
    "    \n",
    "    print(counter_cs_ms[True], counter_cs_ms[False], check_dict['Doublet_to_known_class']+check_dict['Negative_to_known_class'] + check_dict['Doublet_to_unknown']+check_dict['Negative_to_unknown'],\n",
    "         check_dict['Doublet_to_Negative'] + check_dict['Doublet_to_Doublet'] + check_dict['Negative_to_Negative'] + check_dict['Negative_to_Doublet'])"
   ]
  },
  {
   "cell_type": "code",
   "execution_count": 109,
   "id": "c4d36421",
   "metadata": {},
   "outputs": [
    {
     "name": "stdout",
     "output_type": "stream",
     "text": [
      "NPSAD-20201112-A1\n",
      "16774 2633 469 123\n",
      "NPSAD-20201112-A2\n",
      "16703 3636 525 220\n",
      "NPSAD-20201113-C1\n",
      "17128 4620 2025 277\n",
      "NPSAD-20201113-C2\n",
      "16476 3900 1783 210\n",
      "NPSAD-20210217-C1\n",
      "8304 712 58 8\n",
      "NPSAD-20210217-C2\n",
      "7336 926 139 11\n",
      "NPSAD-20201215-C1\n",
      "18266 559 39 21\n",
      "NPSAD-20201215-C2\n",
      "14072 458 30 17\n",
      "NPSAD-20201030-C1\n",
      "15157 1264 135 84\n",
      "NPSAD-20201030-C2\n",
      "15873 2316 228 133\n"
     ]
    }
   ],
   "source": [
    "for sample in demux_info_cr['Set'].unique():\n",
    "    print(sample + '1')\n",
    "    check_df = adata2[(adata2.obs['set'] == sample) & (adata2.obs['rep'] == '1') & (adata2.obs['SubID_hd'] != 'Not Present')].obs[['SubID_cs', 'SubID_hd', 'S_vs_V']]\n",
    "    counter_cs_ms = Counter(check_df.iloc[:, 0].eq(check_df.iloc[:,1]))\n",
    "    check_dict = Counter(check_df.loc[~check_df.iloc[:, 0].eq(check_df.iloc[:,1]), 'S_vs_V'])\n",
    "    \n",
    "    print(counter_cs_ms[True], counter_cs_ms[False], check_dict['Doublet_to_known_class']+check_dict['Negative_to_known_class'] + check_dict['Doublet_to_unknown']+check_dict['Negative_to_unknown'],\n",
    "         check_dict['Doublet_to_Negative'] + check_dict['Doublet_to_Doublet'] + check_dict['Negative_to_Negative'] + check_dict['Negative_to_Doublet'])\n",
    "    \n",
    "    print(sample + '2')\n",
    "    check_df = adata2[(adata2.obs['set'] == sample) & (adata2.obs['rep'] == '2') & (adata2.obs['SubID_hd'] != 'Not Present')].obs[['SubID_cs', 'SubID_hd', 'S_vs_V']]\n",
    "    counter_cs_ms = Counter(check_df.iloc[:, 0].eq(check_df.iloc[:,1]))\n",
    "    check_dict = Counter(check_df.loc[~check_df.iloc[:, 0].eq(check_df.iloc[:,1]), 'S_vs_V'])\n",
    "    \n",
    "    print(counter_cs_ms[True], counter_cs_ms[False], check_dict['Doublet_to_known_class']+check_dict['Negative_to_known_class'] + check_dict['Doublet_to_unknown']+check_dict['Negative_to_unknown'],\n",
    "         check_dict['Doublet_to_Negative'] + check_dict['Doublet_to_Doublet'] + check_dict['Negative_to_Negative'] + check_dict['Negative_to_Doublet'])"
   ]
  },
  {
   "cell_type": "markdown",
   "id": "4aa42e90",
   "metadata": {},
   "source": [
    "Individually, each demux method performance"
   ]
  },
  {
   "cell_type": "code",
   "execution_count": 125,
   "id": "9ad95471",
   "metadata": {},
   "outputs": [
    {
     "name": "stdout",
     "output_type": "stream",
     "text": [
      "NPSAD-20201112-A1:\tSubID_cs\n",
      "NPSAD-20201112-A1:\tSubID_ms\n",
      "NPSAD-20201112-A1:\tSubID_hd\n",
      "NPSAD-20201112-A1:\tSubID_vireo\n",
      "NPSAD-20201112-A2:\tSubID_cs\n",
      "NPSAD-20201112-A2:\tSubID_ms\n",
      "NPSAD-20201112-A2:\tSubID_hd\n",
      "NPSAD-20201112-A2:\tSubID_vireo\n",
      "NPSAD-20201113-C1:\tSubID_cs\n",
      "NPSAD-20201113-C1:\tSubID_ms\n",
      "NPSAD-20201113-C1:\tSubID_hd\n",
      "NPSAD-20201113-C1:\tSubID_vireo\n",
      "NPSAD-20201113-C2:\tSubID_cs\n",
      "NPSAD-20201113-C2:\tSubID_ms\n",
      "NPSAD-20201113-C2:\tSubID_hd\n",
      "NPSAD-20201113-C2:\tSubID_vireo\n",
      "NPSAD-20210217-C1:\tSubID_cs\n",
      "NPSAD-20210217-C1:\tSubID_ms\n",
      "NPSAD-20210217-C1:\tSubID_hd\n",
      "NPSAD-20210217-C1:\tSubID_vireo\n",
      "NPSAD-20210217-C2:\tSubID_cs\n",
      "NPSAD-20210217-C2:\tSubID_ms\n",
      "NPSAD-20210217-C2:\tSubID_hd\n",
      "NPSAD-20210217-C2:\tSubID_vireo\n",
      "NPSAD-20201215-C1:\tSubID_cs\n",
      "NPSAD-20201215-C1:\tSubID_ms\n",
      "NPSAD-20201215-C1:\tSubID_hd\n",
      "NPSAD-20201215-C1:\tSubID_vireo\n",
      "NPSAD-20201215-C2:\tSubID_cs\n",
      "NPSAD-20201215-C2:\tSubID_ms\n",
      "NPSAD-20201215-C2:\tSubID_hd\n",
      "NPSAD-20201215-C2:\tSubID_vireo\n",
      "NPSAD-20201030-C1:\tSubID_cs\n",
      "NPSAD-20201030-C1:\tSubID_ms\n",
      "NPSAD-20201030-C1:\tSubID_hd\n",
      "NPSAD-20201030-C1:\tSubID_vireo\n",
      "NPSAD-20201030-C2:\tSubID_cs\n",
      "NPSAD-20201030-C2:\tSubID_ms\n",
      "NPSAD-20201030-C2:\tSubID_hd\n",
      "NPSAD-20201030-C2:\tSubID_vireo\n"
     ]
    }
   ],
   "source": [
    "temp_l=[]\n",
    "for sample in demux_info_SS['Set'].unique():\n",
    "    gt_avail = hashmap_info.loc[hashmap_info['Samp_ID'] == sample, 'SubNum'].tolist()\n",
    "    for demux_method in ['SubID_cs', 'SubID_ms', 'SubID_hd', 'SubID_vireo']:\n",
    "        #print(sample + '1'+ ':\\t' + demux_method)\n",
    "        check_dict = Counter(adata1[(adata1.obs['set'] == sample) & (adata1.obs['rep'] == '1')].obs[demux_method])\n",
    "        #print(check_dict)\n",
    "        known_gt_cells=0\n",
    "        unknown_gt_cells=0\n",
    "        unclass_cells=0\n",
    "        for k,v in check_dict.items():\n",
    "            if k in gt_avail:\n",
    "                known_gt_cells+=v\n",
    "            elif k not in gt_avail and k != 'Doublet' and k != 'Negative':\n",
    "                unknown_gt_cells+=v\n",
    "            elif k == 'Doublet' or k == 'Negative' :\n",
    "                unclass_cells+=v\n",
    "                \n",
    "        tot_cells = adata1[(adata1.obs['set'] == sample) & (adata1.obs['rep'] == '1')].shape[0]\n",
    "        #print(f'Total cells: {tot_cells}')\n",
    "        #print(f'Total cells assigned (to those with GT): {known_gt_cells}')\n",
    "        #print(f'Total cells assigned (to those without GT): {unknown_gt_cells}')\n",
    "        #print(f'Total cells unclassified (Doublets+Negatives): {unclass_cells}')\n",
    "        temp_l.append([sample, '1', demux_method, tot_cells, known_gt_cells, unknown_gt_cells, unclass_cells])\n",
    "        \n",
    "    for demux_method in ['SubID_cs', 'SubID_ms', 'SubID_hd', 'SubID_vireo']:\n",
    "        #print(sample + '2'+ ':\\t' + demux_method)\n",
    "        check_dict = Counter(adata1[(adata1.obs['set'] == sample) & (adata1.obs['rep'] == '2')].obs[demux_method])\n",
    "        known_gt_cells=0\n",
    "        unknown_gt_cells=0\n",
    "        unclass_cells=0\n",
    "        for k,v in check_dict.items():\n",
    "            if k in gt_avail:\n",
    "                known_gt_cells+=v\n",
    "            elif k not in gt_avail and k != 'Doublet' and k != 'Negative':\n",
    "                unknown_gt_cells+=v\n",
    "            elif k == 'Doublet' or k == 'Negative':\n",
    "                unclass_cells+=v\n",
    "                \n",
    "        tot_cells = adata1[(adata1.obs['set'] == sample) & (adata1.obs['rep'] == '2')].shape[0]\n",
    "        #print(f'Total cells: {tot_cells}')\n",
    "        #print(f'Total cells assigned (to those with GT): {known_gt_cells}')\n",
    "        #print(f'Total cells assigned (to those without GT): {unknown_gt_cells}')\n",
    "        #print(f'Total cells unclassified (Doublets+Negatives): {unclass_cells}')\n",
    "        temp_l.append([sample, '2', demux_method, tot_cells, known_gt_cells, unknown_gt_cells, unclass_cells])\n",
    "        \n",
    "temp_df = pd.DataFrame(temp_l, columns=['Set', 'Rep', 'Demux_method', 'Total_cells', 'Cells assigned\\(known_gt\\)', 'Cells assigned\\(unknown_gt\\)', 'cells unclass\\(Doubs+Negs\\)'])\n",
    "temp_df.to_csv('10Sets_indiv_demux_perf_SS.tsv', sep='\\t', index=False)"
   ]
  },
  {
   "cell_type": "code",
   "execution_count": 126,
   "id": "ea9f6e8e",
   "metadata": {},
   "outputs": [
    {
     "name": "stdout",
     "output_type": "stream",
     "text": [
      "NPSAD-20201112-A1:\tSubID_cs\n",
      "NPSAD-20201112-A1:\tSubID_ms\n",
      "NPSAD-20201112-A1:\tSubID_hd\n",
      "NPSAD-20201112-A1:\tSubID_vireo\n",
      "NPSAD-20201112-A2:\tSubID_cs\n",
      "NPSAD-20201112-A2:\tSubID_ms\n",
      "NPSAD-20201112-A2:\tSubID_hd\n",
      "NPSAD-20201112-A2:\tSubID_vireo\n",
      "NPSAD-20201113-C1:\tSubID_cs\n",
      "NPSAD-20201113-C1:\tSubID_ms\n",
      "NPSAD-20201113-C1:\tSubID_hd\n",
      "NPSAD-20201113-C1:\tSubID_vireo\n",
      "NPSAD-20201113-C2:\tSubID_cs\n",
      "NPSAD-20201113-C2:\tSubID_ms\n",
      "NPSAD-20201113-C2:\tSubID_hd\n",
      "NPSAD-20201113-C2:\tSubID_vireo\n",
      "NPSAD-20210217-C1:\tSubID_cs\n",
      "NPSAD-20210217-C1:\tSubID_ms\n",
      "NPSAD-20210217-C1:\tSubID_hd\n",
      "NPSAD-20210217-C1:\tSubID_vireo\n",
      "NPSAD-20210217-C2:\tSubID_cs\n",
      "NPSAD-20210217-C2:\tSubID_ms\n",
      "NPSAD-20210217-C2:\tSubID_hd\n",
      "NPSAD-20210217-C2:\tSubID_vireo\n",
      "NPSAD-20201215-C1:\tSubID_cs\n",
      "NPSAD-20201215-C1:\tSubID_ms\n",
      "NPSAD-20201215-C1:\tSubID_hd\n",
      "NPSAD-20201215-C1:\tSubID_vireo\n",
      "NPSAD-20201215-C2:\tSubID_cs\n",
      "NPSAD-20201215-C2:\tSubID_ms\n",
      "NPSAD-20201215-C2:\tSubID_hd\n",
      "NPSAD-20201215-C2:\tSubID_vireo\n",
      "NPSAD-20201030-C1:\tSubID_cs\n",
      "NPSAD-20201030-C1:\tSubID_ms\n",
      "NPSAD-20201030-C1:\tSubID_hd\n",
      "NPSAD-20201030-C1:\tSubID_vireo\n",
      "NPSAD-20201030-C2:\tSubID_cs\n",
      "NPSAD-20201030-C2:\tSubID_ms\n",
      "NPSAD-20201030-C2:\tSubID_hd\n",
      "NPSAD-20201030-C2:\tSubID_vireo\n"
     ]
    }
   ],
   "source": [
    "temp_l=[]\n",
    "for sample in demux_info_cr['Set'].unique():\n",
    "    gt_avail = hashmap_info.loc[hashmap_info['Samp_ID'] == sample, 'SubNum'].tolist()\n",
    "    for demux_method in ['SubID_cs', 'SubID_ms', 'SubID_hd', 'SubID_vireo']:\n",
    "        #print(sample + '1'+ ':\\t' + demux_method)\n",
    "        check_dict = Counter(adata2[(adata2.obs['set'] == sample) & (adata2.obs['rep'] == '1')].obs[demux_method])\n",
    "        known_gt_cells=0\n",
    "        unknown_gt_cells=0\n",
    "        unclass_cells=0\n",
    "        for k,v in check_dict.items():\n",
    "            if k in gt_avail:\n",
    "                known_gt_cells+=v\n",
    "            elif k not in gt_avail and k != 'Doublet' and k != 'Negative':\n",
    "                unknown_gt_cells+=v\n",
    "            elif k == 'Doublet' or k == 'Negative':\n",
    "                unclass_cells+=v\n",
    "                \n",
    "        tot_cells = adata2[(adata2.obs['set'] == sample) & (adata2.obs['rep'] == '1')].shape[0]\n",
    "#         print(f'Total cells: {tot_cells}')\n",
    "#         print(f'Total cells assigned (to those with GT): {known_gt_cells}')\n",
    "#         print(f'Total cells assigned (to those without GT): {unknown_gt_cells}')\n",
    "#         print(f'Total cells unclassified (Doublets+Negatives): {unclass_cells}')\n",
    "        temp_l.append([sample, '1', demux_method, tot_cells, known_gt_cells, unknown_gt_cells, unclass_cells])\n",
    "\n",
    "    for demux_method in ['SubID_cs', 'SubID_ms', 'SubID_hd', 'SubID_vireo']:\n",
    "        #print(sample + '2'+ ':\\t' + demux_method)\n",
    "        check_dict = Counter(adata2[(adata2.obs['set'] == sample) & (adata2.obs['rep'] == '2')].obs[demux_method])\n",
    "        known_gt_cells=0\n",
    "        unknown_gt_cells=0\n",
    "        unclass_cells=0\n",
    "        for k,v in check_dict.items():\n",
    "            if k in gt_avail:\n",
    "                known_gt_cells+=v\n",
    "            elif k not in gt_avail and k != 'Doublet' and k != 'Negative':\n",
    "                unknown_gt_cells+=v\n",
    "            elif k == 'Doublet' or k == 'Negative':\n",
    "                unclass_cells+=v\n",
    "                \n",
    "        tot_cells = adata2[(adata2.obs['set'] == sample) & (adata2.obs['rep'] == '2')].shape[0]\n",
    "#         print(f'Total cells: {tot_cells}')\n",
    "#         print(f'Total cells assigned (to those with GT): {known_gt_cells}')\n",
    "#         print(f'Total cells assigned (to those without GT): {unknown_gt_cells}')\n",
    "#         print(f'Total cells unclassified (Doublets+Negatives): {unclass_cells}')\n",
    "        temp_l.append([sample, '2', demux_method, tot_cells, known_gt_cells, unknown_gt_cells, unclass_cells])\n",
    "\n",
    "temp_df = pd.DataFrame(temp_l, columns=['Set', 'Rep', 'Demux_method', 'Total_cells', 'Cells assigned\\(known_gt\\)', 'Cells assigned\\(unknown_gt\\)', 'cells unclass\\(Doubs+Negs\\)'])\n",
    "temp_df.to_csv('10Sets_indiv_demux_perf_cr.tsv', sep='\\t', index=False)"
   ]
  },
  {
   "cell_type": "code",
   "execution_count": null,
   "id": "8afef9d9",
   "metadata": {},
   "outputs": [],
   "source": []
  }
 ],
 "metadata": {
  "kernelspec": {
   "display_name": "Python 3",
   "language": "python",
   "name": "python3"
  },
  "language_info": {
   "codemirror_mode": {
    "name": "ipython",
    "version": 3
   },
   "file_extension": ".py",
   "mimetype": "text/x-python",
   "name": "python",
   "nbconvert_exporter": "python",
   "pygments_lexer": "ipython3",
   "version": "3.9.5"
  }
 },
 "nbformat": 4,
 "nbformat_minor": 5
}
